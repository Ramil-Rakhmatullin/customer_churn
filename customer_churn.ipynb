{
  "nbformat": 4,
  "nbformat_minor": 0,
  "metadata": {
    "ExecuteTimeLog": [
      {
        "duration": 83,
        "start_time": "2021-06-08T19:01:49.344Z"
      },
      {
        "duration": 297,
        "start_time": "2021-06-08T19:01:56.412Z"
      },
      {
        "duration": 1307,
        "start_time": "2021-06-08T19:02:15.149Z"
      },
      {
        "duration": 34,
        "start_time": "2021-06-08T19:02:16.458Z"
      },
      {
        "duration": 3,
        "start_time": "2021-06-08T19:02:16.495Z"
      },
      {
        "duration": 5,
        "start_time": "2021-06-08T19:02:16.501Z"
      },
      {
        "duration": 6,
        "start_time": "2021-06-08T19:02:16.509Z"
      },
      {
        "duration": 7,
        "start_time": "2021-06-08T19:02:16.517Z"
      },
      {
        "duration": 40,
        "start_time": "2021-06-08T19:02:16.526Z"
      },
      {
        "duration": 2,
        "start_time": "2021-06-08T19:02:16.570Z"
      },
      {
        "duration": 374,
        "start_time": "2021-06-08T19:02:16.575Z"
      },
      {
        "duration": -480,
        "start_time": "2021-06-08T19:02:17.432Z"
      },
      {
        "duration": -481,
        "start_time": "2021-06-08T19:02:17.434Z"
      },
      {
        "duration": -482,
        "start_time": "2021-06-08T19:02:17.436Z"
      },
      {
        "duration": -482,
        "start_time": "2021-06-08T19:02:17.437Z"
      },
      {
        "duration": -482,
        "start_time": "2021-06-08T19:02:17.439Z"
      },
      {
        "duration": -485,
        "start_time": "2021-06-08T19:02:17.443Z"
      },
      {
        "duration": -486,
        "start_time": "2021-06-08T19:02:17.445Z"
      },
      {
        "duration": -486,
        "start_time": "2021-06-08T19:02:17.446Z"
      },
      {
        "duration": -486,
        "start_time": "2021-06-08T19:02:17.448Z"
      },
      {
        "duration": -486,
        "start_time": "2021-06-08T19:02:17.449Z"
      },
      {
        "duration": -486,
        "start_time": "2021-06-08T19:02:17.450Z"
      },
      {
        "duration": -486,
        "start_time": "2021-06-08T19:02:17.452Z"
      },
      {
        "duration": 15,
        "start_time": "2021-06-08T19:03:25.073Z"
      },
      {
        "duration": 6016,
        "start_time": "2021-06-08T19:04:06.322Z"
      },
      {
        "duration": 15,
        "start_time": "2021-06-08T19:04:16.220Z"
      },
      {
        "duration": 13,
        "start_time": "2021-06-08T19:04:28.969Z"
      },
      {
        "duration": 11,
        "start_time": "2021-06-08T19:04:34.609Z"
      },
      {
        "duration": 1252,
        "start_time": "2021-06-08T19:04:51.011Z"
      },
      {
        "duration": 35,
        "start_time": "2021-06-08T19:04:52.265Z"
      },
      {
        "duration": 4,
        "start_time": "2021-06-08T19:04:52.303Z"
      },
      {
        "duration": 8,
        "start_time": "2021-06-08T19:04:52.309Z"
      },
      {
        "duration": 10,
        "start_time": "2021-06-08T19:04:52.319Z"
      },
      {
        "duration": 4,
        "start_time": "2021-06-08T19:04:52.332Z"
      },
      {
        "duration": 36,
        "start_time": "2021-06-08T19:04:52.338Z"
      },
      {
        "duration": 3,
        "start_time": "2021-06-08T19:04:52.376Z"
      },
      {
        "duration": 20,
        "start_time": "2021-06-08T19:04:52.382Z"
      },
      {
        "duration": 14,
        "start_time": "2021-06-08T19:04:52.405Z"
      },
      {
        "duration": 41,
        "start_time": "2021-06-08T19:04:52.422Z"
      },
      {
        "duration": 11,
        "start_time": "2021-06-08T19:04:52.466Z"
      },
      {
        "duration": 7,
        "start_time": "2021-06-08T19:04:52.479Z"
      },
      {
        "duration": 386,
        "start_time": "2021-06-08T19:04:52.488Z"
      },
      {
        "duration": -492,
        "start_time": "2021-06-08T19:04:53.369Z"
      },
      {
        "duration": -495,
        "start_time": "2021-06-08T19:04:53.374Z"
      },
      {
        "duration": -494,
        "start_time": "2021-06-08T19:04:53.375Z"
      },
      {
        "duration": 6,
        "start_time": "2021-06-08T19:06:24.209Z"
      },
      {
        "duration": 9,
        "start_time": "2021-06-08T19:06:29.313Z"
      },
      {
        "duration": 6125,
        "start_time": "2021-06-08T19:06:33.969Z"
      },
      {
        "duration": 1284,
        "start_time": "2021-06-08T19:06:51.352Z"
      },
      {
        "duration": 35,
        "start_time": "2021-06-08T19:06:52.640Z"
      },
      {
        "duration": 4,
        "start_time": "2021-06-08T19:06:52.678Z"
      },
      {
        "duration": 5,
        "start_time": "2021-06-08T19:06:52.685Z"
      },
      {
        "duration": 8,
        "start_time": "2021-06-08T19:06:52.692Z"
      },
      {
        "duration": 8,
        "start_time": "2021-06-08T19:06:52.703Z"
      },
      {
        "duration": 42,
        "start_time": "2021-06-08T19:06:52.714Z"
      },
      {
        "duration": 3,
        "start_time": "2021-06-08T19:06:52.758Z"
      },
      {
        "duration": 17,
        "start_time": "2021-06-08T19:06:52.765Z"
      },
      {
        "duration": 11,
        "start_time": "2021-06-08T19:06:52.785Z"
      },
      {
        "duration": 10,
        "start_time": "2021-06-08T19:06:52.798Z"
      },
      {
        "duration": 50,
        "start_time": "2021-06-08T19:06:52.810Z"
      },
      {
        "duration": 5,
        "start_time": "2021-06-08T19:06:52.862Z"
      },
      {
        "duration": 384,
        "start_time": "2021-06-08T19:06:52.869Z"
      },
      {
        "duration": -493,
        "start_time": "2021-06-08T19:06:53.748Z"
      },
      {
        "duration": -492,
        "start_time": "2021-06-08T19:06:53.749Z"
      },
      {
        "duration": -492,
        "start_time": "2021-06-08T19:06:53.750Z"
      },
      {
        "duration": 3,
        "start_time": "2021-06-08T19:07:14.746Z"
      },
      {
        "duration": 3,
        "start_time": "2021-06-08T19:07:17.697Z"
      },
      {
        "duration": 275,
        "start_time": "2021-06-08T19:07:27.769Z"
      },
      {
        "duration": 34,
        "start_time": "2021-06-08T19:07:30.666Z"
      },
      {
        "duration": 1178,
        "start_time": "2021-06-08T19:07:58.885Z"
      },
      {
        "duration": 36,
        "start_time": "2021-06-08T19:08:00.065Z"
      },
      {
        "duration": 5,
        "start_time": "2021-06-08T19:08:00.104Z"
      },
      {
        "duration": 8,
        "start_time": "2021-06-08T19:08:00.112Z"
      },
      {
        "duration": 6,
        "start_time": "2021-06-08T19:08:00.123Z"
      },
      {
        "duration": 9,
        "start_time": "2021-06-08T19:08:00.132Z"
      },
      {
        "duration": 37,
        "start_time": "2021-06-08T19:08:00.143Z"
      },
      {
        "duration": 3,
        "start_time": "2021-06-08T19:08:00.183Z"
      },
      {
        "duration": 11,
        "start_time": "2021-06-08T19:08:00.189Z"
      },
      {
        "duration": 10,
        "start_time": "2021-06-08T19:08:00.202Z"
      },
      {
        "duration": 296,
        "start_time": "2021-06-08T19:08:00.214Z"
      },
      {
        "duration": 50,
        "start_time": "2021-06-08T19:08:00.513Z"
      },
      {
        "duration": 11,
        "start_time": "2021-06-08T19:08:00.565Z"
      },
      {
        "duration": 22,
        "start_time": "2021-06-08T19:08:00.578Z"
      },
      {
        "duration": 18,
        "start_time": "2021-06-08T19:08:00.602Z"
      },
      {
        "duration": 407,
        "start_time": "2021-06-08T19:08:00.623Z"
      },
      {
        "duration": -489,
        "start_time": "2021-06-08T19:08:01.522Z"
      },
      {
        "duration": -489,
        "start_time": "2021-06-08T19:08:01.523Z"
      },
      {
        "duration": -489,
        "start_time": "2021-06-08T19:08:01.525Z"
      },
      {
        "duration": 37,
        "start_time": "2021-06-08T19:08:10.074Z"
      },
      {
        "duration": 265,
        "start_time": "2021-06-08T19:08:30.387Z"
      },
      {
        "duration": 6,
        "start_time": "2021-06-08T19:10:52.492Z"
      },
      {
        "duration": 6,
        "start_time": "2021-06-08T19:10:59.284Z"
      },
      {
        "duration": 16,
        "start_time": "2021-06-08T19:11:05.915Z"
      },
      {
        "duration": 6,
        "start_time": "2021-06-08T19:11:24.170Z"
      },
      {
        "duration": 11,
        "start_time": "2021-06-08T19:11:26.571Z"
      },
      {
        "duration": 6,
        "start_time": "2021-06-08T19:12:15.707Z"
      },
      {
        "duration": 10,
        "start_time": "2021-06-08T19:12:22.846Z"
      },
      {
        "duration": 11,
        "start_time": "2021-06-08T19:16:27.268Z"
      },
      {
        "duration": 254,
        "start_time": "2021-06-08T19:16:45.771Z"
      },
      {
        "duration": 314,
        "start_time": "2021-06-08T19:16:50.612Z"
      },
      {
        "duration": 265,
        "start_time": "2021-06-08T19:16:56.847Z"
      },
      {
        "duration": 280,
        "start_time": "2021-06-08T19:21:17.770Z"
      },
      {
        "duration": 96,
        "start_time": "2021-06-08T19:21:20.221Z"
      },
      {
        "duration": 36,
        "start_time": "2021-06-08T19:21:35.166Z"
      },
      {
        "duration": 36,
        "start_time": "2021-06-08T19:21:44.932Z"
      },
      {
        "duration": 11,
        "start_time": "2021-06-08T19:25:34.221Z"
      },
      {
        "duration": 50,
        "start_time": "2021-06-08T19:25:52.094Z"
      },
      {
        "duration": 6713,
        "start_time": "2021-06-08T19:38:14.409Z"
      },
      {
        "duration": 76,
        "start_time": "2021-06-08T19:38:33.137Z"
      },
      {
        "duration": 7,
        "start_time": "2021-06-08T19:38:42.420Z"
      },
      {
        "duration": 33,
        "start_time": "2021-06-08T19:38:45.137Z"
      },
      {
        "duration": 5,
        "start_time": "2021-06-08T19:38:54.968Z"
      },
      {
        "duration": 11,
        "start_time": "2021-06-08T19:38:55.468Z"
      },
      {
        "duration": 10,
        "start_time": "2021-06-08T19:39:10.608Z"
      },
      {
        "duration": 12,
        "start_time": "2021-06-08T19:39:12.593Z"
      },
      {
        "duration": 3,
        "start_time": "2021-06-08T19:41:34.713Z"
      },
      {
        "duration": 5,
        "start_time": "2021-06-08T19:41:39.968Z"
      },
      {
        "duration": 5987,
        "start_time": "2021-06-08T19:41:43.425Z"
      },
      {
        "duration": 5,
        "start_time": "2021-06-08T19:43:53.535Z"
      },
      {
        "duration": 12,
        "start_time": "2021-06-08T19:43:54.939Z"
      },
      {
        "duration": 31,
        "start_time": "2021-06-08T19:46:42.603Z"
      },
      {
        "duration": 6,
        "start_time": "2021-06-08T19:58:03.237Z"
      },
      {
        "duration": 14,
        "start_time": "2021-06-08T19:58:03.749Z"
      },
      {
        "duration": 15,
        "start_time": "2021-06-08T19:58:26.222Z"
      },
      {
        "duration": 14,
        "start_time": "2021-06-08T19:58:30.701Z"
      },
      {
        "duration": 34,
        "start_time": "2021-06-08T19:58:42.453Z"
      },
      {
        "duration": 11,
        "start_time": "2021-06-08T19:58:49.456Z"
      },
      {
        "duration": 15,
        "start_time": "2021-06-08T20:00:02.319Z"
      },
      {
        "duration": 32,
        "start_time": "2021-06-08T20:00:04.453Z"
      },
      {
        "duration": 14,
        "start_time": "2021-06-08T20:00:20.962Z"
      },
      {
        "duration": 1410,
        "start_time": "2021-06-08T20:01:11.839Z"
      },
      {
        "duration": 38,
        "start_time": "2021-06-08T20:01:13.252Z"
      },
      {
        "duration": 4,
        "start_time": "2021-06-08T20:01:13.292Z"
      },
      {
        "duration": 7,
        "start_time": "2021-06-08T20:01:13.299Z"
      },
      {
        "duration": 10,
        "start_time": "2021-06-08T20:01:13.308Z"
      },
      {
        "duration": 12,
        "start_time": "2021-06-08T20:01:13.320Z"
      },
      {
        "duration": 41,
        "start_time": "2021-06-08T20:01:13.335Z"
      },
      {
        "duration": 2,
        "start_time": "2021-06-08T20:01:13.379Z"
      },
      {
        "duration": 13,
        "start_time": "2021-06-08T20:01:13.385Z"
      },
      {
        "duration": 19,
        "start_time": "2021-06-08T20:01:13.401Z"
      },
      {
        "duration": 14,
        "start_time": "2021-06-08T20:01:13.422Z"
      },
      {
        "duration": 36,
        "start_time": "2021-06-08T20:01:13.438Z"
      },
      {
        "duration": 10,
        "start_time": "2021-06-08T20:01:13.476Z"
      },
      {
        "duration": 7,
        "start_time": "2021-06-08T20:01:13.488Z"
      },
      {
        "duration": 561,
        "start_time": "2021-06-08T20:01:13.497Z"
      },
      {
        "duration": -477,
        "start_time": "2021-06-08T20:01:14.539Z"
      },
      {
        "duration": -475,
        "start_time": "2021-06-08T20:01:14.540Z"
      },
      {
        "duration": -474,
        "start_time": "2021-06-08T20:01:14.541Z"
      },
      {
        "duration": 4,
        "start_time": "2021-06-08T20:03:49.583Z"
      },
      {
        "duration": 8,
        "start_time": "2021-06-08T20:04:18.214Z"
      },
      {
        "duration": 26,
        "start_time": "2021-06-08T20:04:20.143Z"
      },
      {
        "duration": 6,
        "start_time": "2021-06-08T20:04:40.127Z"
      },
      {
        "duration": 3725,
        "start_time": "2021-06-08T20:04:45.423Z"
      },
      {
        "duration": 297,
        "start_time": "2021-06-08T20:05:12.357Z"
      },
      {
        "duration": 4,
        "start_time": "2021-06-08T20:05:53.897Z"
      },
      {
        "duration": 287,
        "start_time": "2021-06-08T20:05:56.050Z"
      },
      {
        "duration": 1340,
        "start_time": "2021-06-08T20:06:20.429Z"
      },
      {
        "duration": 35,
        "start_time": "2021-06-08T20:06:21.772Z"
      },
      {
        "duration": 4,
        "start_time": "2021-06-08T20:06:21.811Z"
      },
      {
        "duration": 4,
        "start_time": "2021-06-08T20:06:21.819Z"
      },
      {
        "duration": 6,
        "start_time": "2021-06-08T20:06:21.826Z"
      },
      {
        "duration": 24,
        "start_time": "2021-06-08T20:06:21.835Z"
      },
      {
        "duration": 28,
        "start_time": "2021-06-08T20:06:21.862Z"
      },
      {
        "duration": 2,
        "start_time": "2021-06-08T20:06:21.894Z"
      },
      {
        "duration": 9,
        "start_time": "2021-06-08T20:06:21.900Z"
      },
      {
        "duration": 54,
        "start_time": "2021-06-08T20:06:21.912Z"
      },
      {
        "duration": 18,
        "start_time": "2021-06-08T20:06:21.968Z"
      },
      {
        "duration": 4,
        "start_time": "2021-06-08T20:06:21.988Z"
      },
      {
        "duration": 5,
        "start_time": "2021-06-08T20:06:21.995Z"
      },
      {
        "duration": 15,
        "start_time": "2021-06-08T20:06:22.003Z"
      },
      {
        "duration": 11,
        "start_time": "2021-06-08T20:06:22.057Z"
      },
      {
        "duration": 7,
        "start_time": "2021-06-08T20:06:22.071Z"
      },
      {
        "duration": 460,
        "start_time": "2021-06-08T20:06:22.081Z"
      },
      {
        "duration": -486,
        "start_time": "2021-06-08T20:06:23.029Z"
      },
      {
        "duration": -486,
        "start_time": "2021-06-08T20:06:23.031Z"
      },
      {
        "duration": -487,
        "start_time": "2021-06-08T20:06:23.033Z"
      },
      {
        "duration": 7,
        "start_time": "2021-06-08T20:07:39.439Z"
      },
      {
        "duration": 35,
        "start_time": "2021-06-08T20:07:45.007Z"
      },
      {
        "duration": 7,
        "start_time": "2021-06-08T20:08:02.056Z"
      },
      {
        "duration": 38,
        "start_time": "2021-06-08T20:08:02.873Z"
      },
      {
        "duration": 269,
        "start_time": "2021-06-08T20:08:16.890Z"
      },
      {
        "duration": 1321,
        "start_time": "2021-06-08T20:08:55.231Z"
      },
      {
        "duration": 36,
        "start_time": "2021-06-08T20:08:56.557Z"
      },
      {
        "duration": 3,
        "start_time": "2021-06-08T20:08:56.596Z"
      },
      {
        "duration": 11,
        "start_time": "2021-06-08T20:08:56.601Z"
      },
      {
        "duration": 8,
        "start_time": "2021-06-08T20:08:56.615Z"
      },
      {
        "duration": 10,
        "start_time": "2021-06-08T20:08:56.625Z"
      },
      {
        "duration": 35,
        "start_time": "2021-06-08T20:08:56.637Z"
      },
      {
        "duration": 3,
        "start_time": "2021-06-08T20:08:56.675Z"
      },
      {
        "duration": 7,
        "start_time": "2021-06-08T20:08:56.681Z"
      },
      {
        "duration": 17,
        "start_time": "2021-06-08T20:08:56.690Z"
      },
      {
        "duration": 16,
        "start_time": "2021-06-08T20:08:56.709Z"
      },
      {
        "duration": 29,
        "start_time": "2021-06-08T20:08:56.727Z"
      },
      {
        "duration": 12,
        "start_time": "2021-06-08T20:08:56.758Z"
      },
      {
        "duration": 11,
        "start_time": "2021-06-08T20:08:56.772Z"
      },
      {
        "duration": 9,
        "start_time": "2021-06-08T20:08:56.785Z"
      },
      {
        "duration": 10,
        "start_time": "2021-06-08T20:08:56.796Z"
      },
      {
        "duration": 441,
        "start_time": "2021-06-08T20:08:56.808Z"
      },
      {
        "duration": -485,
        "start_time": "2021-06-08T20:08:57.736Z"
      },
      {
        "duration": -488,
        "start_time": "2021-06-08T20:08:57.741Z"
      },
      {
        "duration": -489,
        "start_time": "2021-06-08T20:08:57.743Z"
      },
      {
        "duration": 6,
        "start_time": "2021-06-08T20:09:14.375Z"
      },
      {
        "duration": 11,
        "start_time": "2021-06-08T20:09:15.295Z"
      },
      {
        "duration": 33,
        "start_time": "2021-06-08T20:09:21.192Z"
      },
      {
        "duration": 11,
        "start_time": "2021-06-08T20:09:44.316Z"
      },
      {
        "duration": 11,
        "start_time": "2021-06-08T20:10:23.080Z"
      },
      {
        "duration": 6,
        "start_time": "2021-06-08T20:10:23.521Z"
      },
      {
        "duration": 68,
        "start_time": "2021-06-08T20:10:24.584Z"
      },
      {
        "duration": 5,
        "start_time": "2021-06-08T20:10:28.737Z"
      },
      {
        "duration": 9,
        "start_time": "2021-06-08T20:10:29.522Z"
      },
      {
        "duration": 6,
        "start_time": "2021-06-08T20:10:30.552Z"
      },
      {
        "duration": 1438,
        "start_time": "2021-06-09T18:15:16.537Z"
      },
      {
        "duration": 36,
        "start_time": "2021-06-09T18:15:17.977Z"
      },
      {
        "duration": 3,
        "start_time": "2021-06-09T18:15:18.016Z"
      },
      {
        "duration": 5,
        "start_time": "2021-06-09T18:15:18.022Z"
      },
      {
        "duration": 6,
        "start_time": "2021-06-09T18:15:18.029Z"
      },
      {
        "duration": 20,
        "start_time": "2021-06-09T18:15:18.037Z"
      },
      {
        "duration": 27,
        "start_time": "2021-06-09T18:15:18.059Z"
      },
      {
        "duration": 3,
        "start_time": "2021-06-09T18:15:18.088Z"
      },
      {
        "duration": 9,
        "start_time": "2021-06-09T18:15:18.095Z"
      },
      {
        "duration": 17,
        "start_time": "2021-06-09T18:15:18.107Z"
      },
      {
        "duration": 45,
        "start_time": "2021-06-09T18:15:18.126Z"
      },
      {
        "duration": 5,
        "start_time": "2021-06-09T18:15:18.173Z"
      },
      {
        "duration": 15,
        "start_time": "2021-06-09T18:15:18.180Z"
      },
      {
        "duration": 10,
        "start_time": "2021-06-09T18:15:18.197Z"
      },
      {
        "duration": 6,
        "start_time": "2021-06-09T18:15:18.209Z"
      },
      {
        "duration": 73,
        "start_time": "2021-06-09T18:15:18.257Z"
      },
      {
        "duration": 25,
        "start_time": "2021-06-09T18:15:18.333Z"
      },
      {
        "duration": 6,
        "start_time": "2021-06-09T18:15:18.360Z"
      },
      {
        "duration": 6,
        "start_time": "2021-06-09T18:15:18.368Z"
      },
      {
        "duration": 379,
        "start_time": "2021-06-09T18:18:46.192Z"
      },
      {
        "duration": 7,
        "start_time": "2021-06-09T18:18:50.953Z"
      },
      {
        "duration": 7,
        "start_time": "2021-06-09T18:18:52.054Z"
      },
      {
        "duration": 352,
        "start_time": "2021-06-09T18:19:01.327Z"
      },
      {
        "duration": 208,
        "start_time": "2021-06-09T18:19:12.207Z"
      },
      {
        "duration": 8,
        "start_time": "2021-06-09T18:19:18.888Z"
      },
      {
        "duration": 12,
        "start_time": "2021-06-09T18:19:38.832Z"
      },
      {
        "duration": 4,
        "start_time": "2021-06-09T18:27:04.086Z"
      },
      {
        "duration": 8,
        "start_time": "2021-06-09T18:27:15.737Z"
      },
      {
        "duration": 4,
        "start_time": "2021-06-09T18:29:22.523Z"
      },
      {
        "duration": 71,
        "start_time": "2021-06-09T18:30:15.322Z"
      },
      {
        "duration": 8,
        "start_time": "2021-06-09T18:30:18.786Z"
      },
      {
        "duration": 1364,
        "start_time": "2021-06-09T18:30:27.244Z"
      },
      {
        "duration": 37,
        "start_time": "2021-06-09T18:30:28.610Z"
      },
      {
        "duration": 6,
        "start_time": "2021-06-09T18:30:28.650Z"
      },
      {
        "duration": 7,
        "start_time": "2021-06-09T18:30:28.659Z"
      },
      {
        "duration": 12,
        "start_time": "2021-06-09T18:30:28.669Z"
      },
      {
        "duration": 5,
        "start_time": "2021-06-09T18:30:28.684Z"
      },
      {
        "duration": 34,
        "start_time": "2021-06-09T18:30:28.691Z"
      },
      {
        "duration": 2,
        "start_time": "2021-06-09T18:30:28.729Z"
      },
      {
        "duration": 27,
        "start_time": "2021-06-09T18:30:28.734Z"
      },
      {
        "duration": 18,
        "start_time": "2021-06-09T18:30:28.763Z"
      },
      {
        "duration": 30,
        "start_time": "2021-06-09T18:30:28.783Z"
      },
      {
        "duration": 39,
        "start_time": "2021-06-09T18:30:28.817Z"
      },
      {
        "duration": 14,
        "start_time": "2021-06-09T18:30:28.858Z"
      },
      {
        "duration": 10,
        "start_time": "2021-06-09T18:30:28.875Z"
      },
      {
        "duration": 13,
        "start_time": "2021-06-09T18:30:28.888Z"
      },
      {
        "duration": 98,
        "start_time": "2021-06-09T18:30:28.903Z"
      },
      {
        "duration": 6,
        "start_time": "2021-06-09T18:30:29.004Z"
      },
      {
        "duration": 11,
        "start_time": "2021-06-09T18:30:29.013Z"
      },
      {
        "duration": 30,
        "start_time": "2021-06-09T18:30:29.027Z"
      },
      {
        "duration": 10,
        "start_time": "2021-06-09T18:30:29.059Z"
      },
      {
        "duration": 11,
        "start_time": "2021-06-09T18:30:29.072Z"
      },
      {
        "duration": 105,
        "start_time": "2021-06-09T18:30:29.085Z"
      },
      {
        "duration": 8,
        "start_time": "2021-06-09T18:30:29.193Z"
      },
      {
        "duration": 4,
        "start_time": "2021-06-09T18:32:42.330Z"
      },
      {
        "duration": 6,
        "start_time": "2021-06-09T18:33:10.402Z"
      },
      {
        "duration": 6,
        "start_time": "2021-06-09T18:35:31.818Z"
      },
      {
        "duration": 41,
        "start_time": "2021-06-09T18:36:21.933Z"
      },
      {
        "duration": 73,
        "start_time": "2021-06-09T18:36:56.578Z"
      },
      {
        "duration": 9,
        "start_time": "2021-06-09T18:37:03.162Z"
      },
      {
        "duration": 1334,
        "start_time": "2021-06-09T18:37:17.040Z"
      },
      {
        "duration": 37,
        "start_time": "2021-06-09T18:37:18.376Z"
      },
      {
        "duration": 4,
        "start_time": "2021-06-09T18:37:18.417Z"
      },
      {
        "duration": 6,
        "start_time": "2021-06-09T18:37:18.423Z"
      },
      {
        "duration": 9,
        "start_time": "2021-06-09T18:37:18.431Z"
      },
      {
        "duration": 14,
        "start_time": "2021-06-09T18:37:18.442Z"
      },
      {
        "duration": 28,
        "start_time": "2021-06-09T18:37:18.458Z"
      },
      {
        "duration": 3,
        "start_time": "2021-06-09T18:37:18.488Z"
      },
      {
        "duration": 6,
        "start_time": "2021-06-09T18:37:18.495Z"
      },
      {
        "duration": 51,
        "start_time": "2021-06-09T18:37:18.504Z"
      },
      {
        "duration": 17,
        "start_time": "2021-06-09T18:37:18.558Z"
      },
      {
        "duration": 6,
        "start_time": "2021-06-09T18:37:18.577Z"
      },
      {
        "duration": 17,
        "start_time": "2021-06-09T18:37:18.585Z"
      },
      {
        "duration": 11,
        "start_time": "2021-06-09T18:37:18.604Z"
      },
      {
        "duration": 41,
        "start_time": "2021-06-09T18:37:18.617Z"
      },
      {
        "duration": 96,
        "start_time": "2021-06-09T18:37:18.660Z"
      },
      {
        "duration": 7,
        "start_time": "2021-06-09T18:37:18.758Z"
      },
      {
        "duration": 6,
        "start_time": "2021-06-09T18:37:18.769Z"
      },
      {
        "duration": 7,
        "start_time": "2021-06-09T18:37:18.778Z"
      },
      {
        "duration": 9,
        "start_time": "2021-06-09T18:37:18.787Z"
      },
      {
        "duration": 13,
        "start_time": "2021-06-09T18:37:18.798Z"
      },
      {
        "duration": 77,
        "start_time": "2021-06-09T18:37:18.857Z"
      },
      {
        "duration": 21,
        "start_time": "2021-06-09T18:37:18.936Z"
      },
      {
        "duration": 6,
        "start_time": "2021-06-09T18:37:18.959Z"
      },
      {
        "duration": 28,
        "start_time": "2021-06-09T18:37:18.967Z"
      },
      {
        "duration": 100,
        "start_time": "2021-06-09T18:37:18.998Z"
      },
      {
        "duration": 7,
        "start_time": "2021-06-09T18:37:19.103Z"
      },
      {
        "duration": 81,
        "start_time": "2021-06-09T18:37:46.953Z"
      },
      {
        "duration": 13,
        "start_time": "2021-06-09T18:37:47.630Z"
      },
      {
        "duration": 80,
        "start_time": "2021-06-09T18:38:35.853Z"
      },
      {
        "duration": 8,
        "start_time": "2021-06-09T18:38:36.742Z"
      },
      {
        "duration": 2174,
        "start_time": "2021-06-09T18:38:58.464Z"
      },
      {
        "duration": 59,
        "start_time": "2021-06-09T18:39:00.642Z"
      },
      {
        "duration": 6,
        "start_time": "2021-06-09T18:39:00.707Z"
      },
      {
        "duration": 12,
        "start_time": "2021-06-09T18:39:00.717Z"
      },
      {
        "duration": 9,
        "start_time": "2021-06-09T18:39:00.732Z"
      },
      {
        "duration": 13,
        "start_time": "2021-06-09T18:39:00.743Z"
      },
      {
        "duration": 42,
        "start_time": "2021-06-09T18:39:00.758Z"
      },
      {
        "duration": 3,
        "start_time": "2021-06-09T18:39:00.803Z"
      },
      {
        "duration": 14,
        "start_time": "2021-06-09T18:39:00.810Z"
      },
      {
        "duration": 29,
        "start_time": "2021-06-09T18:39:00.827Z"
      },
      {
        "duration": 23,
        "start_time": "2021-06-09T18:39:00.858Z"
      },
      {
        "duration": 13,
        "start_time": "2021-06-09T18:39:00.884Z"
      },
      {
        "duration": 22,
        "start_time": "2021-06-09T18:39:00.900Z"
      },
      {
        "duration": 14,
        "start_time": "2021-06-09T18:39:00.925Z"
      },
      {
        "duration": 24,
        "start_time": "2021-06-09T18:39:00.941Z"
      },
      {
        "duration": 90,
        "start_time": "2021-06-09T18:39:00.968Z"
      },
      {
        "duration": 6,
        "start_time": "2021-06-09T18:39:01.060Z"
      },
      {
        "duration": 22,
        "start_time": "2021-06-09T18:39:01.068Z"
      },
      {
        "duration": 33,
        "start_time": "2021-06-09T18:39:01.093Z"
      },
      {
        "duration": 18,
        "start_time": "2021-06-09T18:39:01.128Z"
      },
      {
        "duration": 13,
        "start_time": "2021-06-09T18:39:01.148Z"
      },
      {
        "duration": 72,
        "start_time": "2021-06-09T18:39:01.164Z"
      },
      {
        "duration": 19,
        "start_time": "2021-06-09T18:39:01.238Z"
      },
      {
        "duration": 5,
        "start_time": "2021-06-09T18:39:01.260Z"
      },
      {
        "duration": 45,
        "start_time": "2021-06-09T18:39:01.268Z"
      },
      {
        "duration": 82,
        "start_time": "2021-06-09T18:39:01.315Z"
      },
      {
        "duration": 8,
        "start_time": "2021-06-09T18:39:01.401Z"
      },
      {
        "duration": 1361,
        "start_time": "2021-06-09T18:39:11.030Z"
      },
      {
        "duration": 37,
        "start_time": "2021-06-09T18:39:12.394Z"
      },
      {
        "duration": 4,
        "start_time": "2021-06-09T18:39:12.434Z"
      },
      {
        "duration": 16,
        "start_time": "2021-06-09T18:39:12.441Z"
      },
      {
        "duration": 8,
        "start_time": "2021-06-09T18:39:12.459Z"
      },
      {
        "duration": 6,
        "start_time": "2021-06-09T18:39:12.471Z"
      },
      {
        "duration": 31,
        "start_time": "2021-06-09T18:39:12.479Z"
      },
      {
        "duration": 3,
        "start_time": "2021-06-09T18:39:12.512Z"
      },
      {
        "duration": 45,
        "start_time": "2021-06-09T18:39:12.519Z"
      },
      {
        "duration": 23,
        "start_time": "2021-06-09T18:39:12.569Z"
      },
      {
        "duration": 23,
        "start_time": "2021-06-09T18:39:12.596Z"
      },
      {
        "duration": 33,
        "start_time": "2021-06-09T18:39:12.623Z"
      },
      {
        "duration": 16,
        "start_time": "2021-06-09T18:39:12.659Z"
      },
      {
        "duration": 13,
        "start_time": "2021-06-09T18:39:12.678Z"
      },
      {
        "duration": 7,
        "start_time": "2021-06-09T18:39:12.694Z"
      },
      {
        "duration": 121,
        "start_time": "2021-06-09T18:39:12.704Z"
      },
      {
        "duration": 6,
        "start_time": "2021-06-09T18:39:12.828Z"
      },
      {
        "duration": 22,
        "start_time": "2021-06-09T18:39:12.837Z"
      },
      {
        "duration": 7,
        "start_time": "2021-06-09T18:39:12.862Z"
      },
      {
        "duration": 11,
        "start_time": "2021-06-09T18:39:12.872Z"
      },
      {
        "duration": 14,
        "start_time": "2021-06-09T18:39:12.885Z"
      },
      {
        "duration": 109,
        "start_time": "2021-06-09T18:39:12.902Z"
      },
      {
        "duration": 9,
        "start_time": "2021-06-09T18:39:13.013Z"
      },
      {
        "duration": 6,
        "start_time": "2021-06-09T18:39:13.024Z"
      },
      {
        "duration": 34,
        "start_time": "2021-06-09T18:39:13.056Z"
      },
      {
        "duration": 100,
        "start_time": "2021-06-09T18:39:13.092Z"
      },
      {
        "duration": 11,
        "start_time": "2021-06-09T18:39:13.196Z"
      },
      {
        "duration": 24,
        "start_time": "2021-06-09T18:40:18.345Z"
      },
      {
        "duration": 147,
        "start_time": "2021-06-09T18:40:18.850Z"
      },
      {
        "duration": 9,
        "start_time": "2021-06-09T18:40:19.386Z"
      },
      {
        "duration": 24,
        "start_time": "2021-06-09T18:41:58.690Z"
      },
      {
        "duration": 40,
        "start_time": "2021-06-09T18:42:01.979Z"
      },
      {
        "duration": 308,
        "start_time": "2021-06-09T18:42:02.354Z"
      },
      {
        "duration": 12,
        "start_time": "2021-06-09T18:42:02.690Z"
      },
      {
        "duration": 376,
        "start_time": "2021-06-09T18:42:23.714Z"
      },
      {
        "duration": 252,
        "start_time": "2021-06-09T18:42:31.242Z"
      },
      {
        "duration": 27,
        "start_time": "2021-06-09T18:42:36.522Z"
      },
      {
        "duration": 34,
        "start_time": "2021-06-09T18:42:44.339Z"
      },
      {
        "duration": 21,
        "start_time": "2021-06-09T18:43:22.115Z"
      },
      {
        "duration": 98,
        "start_time": "2021-06-09T18:43:22.507Z"
      },
      {
        "duration": 10,
        "start_time": "2021-06-09T18:43:22.866Z"
      },
      {
        "duration": 25,
        "start_time": "2021-06-09T18:43:35.147Z"
      },
      {
        "duration": 19,
        "start_time": "2021-06-09T18:44:08.875Z"
      },
      {
        "duration": 103,
        "start_time": "2021-06-09T18:44:09.228Z"
      },
      {
        "duration": 7,
        "start_time": "2021-06-09T18:44:09.547Z"
      },
      {
        "duration": 25,
        "start_time": "2021-06-09T18:44:10.091Z"
      },
      {
        "duration": 17,
        "start_time": "2021-06-09T18:44:17.723Z"
      },
      {
        "duration": 77,
        "start_time": "2021-06-09T18:44:18.046Z"
      },
      {
        "duration": 8,
        "start_time": "2021-06-09T18:44:18.363Z"
      },
      {
        "duration": 26,
        "start_time": "2021-06-09T18:44:18.867Z"
      },
      {
        "duration": 28,
        "start_time": "2021-06-09T18:44:30.891Z"
      },
      {
        "duration": 141,
        "start_time": "2021-06-09T18:44:31.228Z"
      },
      {
        "duration": 9,
        "start_time": "2021-06-09T18:44:31.499Z"
      },
      {
        "duration": 24,
        "start_time": "2021-06-09T18:44:31.972Z"
      },
      {
        "duration": 23,
        "start_time": "2021-06-09T18:44:47.011Z"
      },
      {
        "duration": 106,
        "start_time": "2021-06-09T18:44:47.379Z"
      },
      {
        "duration": 8,
        "start_time": "2021-06-09T18:44:47.754Z"
      },
      {
        "duration": 26,
        "start_time": "2021-06-09T18:44:48.196Z"
      },
      {
        "duration": 36,
        "start_time": "2021-06-09T18:44:51.579Z"
      },
      {
        "duration": 19,
        "start_time": "2021-06-09T18:45:06.939Z"
      },
      {
        "duration": 99,
        "start_time": "2021-06-09T18:45:07.294Z"
      },
      {
        "duration": 9,
        "start_time": "2021-06-09T18:45:07.708Z"
      },
      {
        "duration": 16,
        "start_time": "2021-06-09T18:45:10.803Z"
      },
      {
        "duration": 73,
        "start_time": "2021-06-09T18:45:11.131Z"
      },
      {
        "duration": 9,
        "start_time": "2021-06-09T18:45:11.403Z"
      },
      {
        "duration": 30,
        "start_time": "2021-06-09T18:45:11.892Z"
      },
      {
        "duration": 26,
        "start_time": "2021-06-09T18:45:14.827Z"
      },
      {
        "duration": 150,
        "start_time": "2021-06-09T18:45:15.131Z"
      },
      {
        "duration": 10,
        "start_time": "2021-06-09T18:45:15.403Z"
      },
      {
        "duration": 39,
        "start_time": "2021-06-09T18:45:15.996Z"
      },
      {
        "duration": 204,
        "start_time": "2021-06-09T18:45:19.291Z"
      },
      {
        "duration": 2077,
        "start_time": "2021-06-09T18:45:19.629Z"
      },
      {
        "duration": 10,
        "start_time": "2021-06-09T18:45:21.710Z"
      },
      {
        "duration": 27,
        "start_time": "2021-06-09T18:45:22.819Z"
      },
      {
        "duration": 17,
        "start_time": "2021-06-09T18:45:25.906Z"
      },
      {
        "duration": 95,
        "start_time": "2021-06-09T18:45:26.251Z"
      },
      {
        "duration": 8,
        "start_time": "2021-06-09T18:45:26.555Z"
      },
      {
        "duration": 25,
        "start_time": "2021-06-09T18:45:27.387Z"
      },
      {
        "duration": 16,
        "start_time": "2021-06-09T18:45:30.371Z"
      },
      {
        "duration": 79,
        "start_time": "2021-06-09T18:45:30.699Z"
      },
      {
        "duration": 8,
        "start_time": "2021-06-09T18:45:31.035Z"
      },
      {
        "duration": 25,
        "start_time": "2021-06-09T18:45:31.620Z"
      },
      {
        "duration": 18,
        "start_time": "2021-06-09T18:45:34.595Z"
      },
      {
        "duration": 94,
        "start_time": "2021-06-09T18:45:34.891Z"
      },
      {
        "duration": 8,
        "start_time": "2021-06-09T18:45:35.235Z"
      },
      {
        "duration": 25,
        "start_time": "2021-06-09T18:45:35.700Z"
      },
      {
        "duration": 21,
        "start_time": "2021-06-09T18:45:38.443Z"
      },
      {
        "duration": 102,
        "start_time": "2021-06-09T18:45:38.763Z"
      },
      {
        "duration": 9,
        "start_time": "2021-06-09T18:45:39.051Z"
      },
      {
        "duration": 26,
        "start_time": "2021-06-09T18:45:39.420Z"
      },
      {
        "duration": 19,
        "start_time": "2021-06-09T18:45:42.939Z"
      },
      {
        "duration": 93,
        "start_time": "2021-06-09T18:45:43.275Z"
      },
      {
        "duration": 10,
        "start_time": "2021-06-09T18:45:43.571Z"
      },
      {
        "duration": 24,
        "start_time": "2021-06-09T18:45:43.972Z"
      },
      {
        "duration": 18,
        "start_time": "2021-06-09T18:56:53.602Z"
      },
      {
        "duration": 103,
        "start_time": "2021-06-09T18:56:53.934Z"
      },
      {
        "duration": 8,
        "start_time": "2021-06-09T18:56:54.294Z"
      },
      {
        "duration": 17,
        "start_time": "2021-06-09T18:56:58.238Z"
      },
      {
        "duration": 93,
        "start_time": "2021-06-09T18:56:58.534Z"
      },
      {
        "duration": 8,
        "start_time": "2021-06-09T18:56:58.829Z"
      },
      {
        "duration": 18,
        "start_time": "2021-06-09T18:57:34.846Z"
      },
      {
        "duration": 99,
        "start_time": "2021-06-09T18:57:35.126Z"
      },
      {
        "duration": 8,
        "start_time": "2021-06-09T18:57:35.430Z"
      },
      {
        "duration": 82,
        "start_time": "2021-06-09T18:58:36.374Z"
      },
      {
        "duration": 100,
        "start_time": "2021-06-09T18:59:00.300Z"
      },
      {
        "duration": 8,
        "start_time": "2021-06-09T18:59:00.622Z"
      },
      {
        "duration": 8,
        "start_time": "2021-06-09T18:59:13.478Z"
      },
      {
        "duration": 73,
        "start_time": "2021-06-09T18:59:15.409Z"
      },
      {
        "duration": 8,
        "start_time": "2021-06-09T18:59:15.782Z"
      },
      {
        "duration": 71,
        "start_time": "2021-06-09T18:59:17.741Z"
      },
      {
        "duration": 8,
        "start_time": "2021-06-09T18:59:18.071Z"
      },
      {
        "duration": 72,
        "start_time": "2021-06-09T18:59:41.566Z"
      },
      {
        "duration": 8,
        "start_time": "2021-06-09T18:59:41.973Z"
      },
      {
        "duration": 1270,
        "start_time": "2021-06-09T18:59:48.286Z"
      },
      {
        "duration": 36,
        "start_time": "2021-06-09T18:59:49.558Z"
      },
      {
        "duration": 4,
        "start_time": "2021-06-09T18:59:49.597Z"
      },
      {
        "duration": 8,
        "start_time": "2021-06-09T18:59:49.603Z"
      },
      {
        "duration": 8,
        "start_time": "2021-06-09T18:59:49.613Z"
      },
      {
        "duration": 6,
        "start_time": "2021-06-09T18:59:49.623Z"
      },
      {
        "duration": 45,
        "start_time": "2021-06-09T18:59:49.631Z"
      },
      {
        "duration": 3,
        "start_time": "2021-06-09T18:59:49.679Z"
      },
      {
        "duration": 6,
        "start_time": "2021-06-09T18:59:49.686Z"
      },
      {
        "duration": 26,
        "start_time": "2021-06-09T18:59:49.695Z"
      },
      {
        "duration": 36,
        "start_time": "2021-06-09T18:59:49.723Z"
      },
      {
        "duration": 6,
        "start_time": "2021-06-09T18:59:49.761Z"
      },
      {
        "duration": 16,
        "start_time": "2021-06-09T18:59:49.769Z"
      },
      {
        "duration": 11,
        "start_time": "2021-06-09T18:59:49.787Z"
      },
      {
        "duration": 5,
        "start_time": "2021-06-09T18:59:49.801Z"
      },
      {
        "duration": 108,
        "start_time": "2021-06-09T18:59:49.809Z"
      },
      {
        "duration": 6,
        "start_time": "2021-06-09T18:59:49.919Z"
      },
      {
        "duration": 7,
        "start_time": "2021-06-09T18:59:49.928Z"
      },
      {
        "duration": 24,
        "start_time": "2021-06-09T18:59:49.937Z"
      },
      {
        "duration": 10,
        "start_time": "2021-06-09T18:59:49.963Z"
      },
      {
        "duration": 15,
        "start_time": "2021-06-09T18:59:49.975Z"
      },
      {
        "duration": 393,
        "start_time": "2021-06-09T18:59:49.992Z"
      },
      {
        "duration": -263,
        "start_time": "2021-06-09T18:59:50.651Z"
      },
      {
        "duration": -265,
        "start_time": "2021-06-09T18:59:50.654Z"
      },
      {
        "duration": -268,
        "start_time": "2021-06-09T18:59:50.659Z"
      },
      {
        "duration": -269,
        "start_time": "2021-06-09T18:59:50.661Z"
      },
      {
        "duration": -268,
        "start_time": "2021-06-09T18:59:50.662Z"
      },
      {
        "duration": -268,
        "start_time": "2021-06-09T18:59:50.663Z"
      },
      {
        "duration": -269,
        "start_time": "2021-06-09T18:59:50.665Z"
      },
      {
        "duration": -268,
        "start_time": "2021-06-09T18:59:50.666Z"
      },
      {
        "duration": -269,
        "start_time": "2021-06-09T18:59:50.668Z"
      },
      {
        "duration": 46,
        "start_time": "2021-06-09T19:00:17.862Z"
      },
      {
        "duration": 10,
        "start_time": "2021-06-09T19:00:18.592Z"
      },
      {
        "duration": 1320,
        "start_time": "2021-06-09T19:00:35.440Z"
      },
      {
        "duration": 37,
        "start_time": "2021-06-09T19:00:36.762Z"
      },
      {
        "duration": 4,
        "start_time": "2021-06-09T19:00:36.802Z"
      },
      {
        "duration": 7,
        "start_time": "2021-06-09T19:00:36.809Z"
      },
      {
        "duration": 5,
        "start_time": "2021-06-09T19:00:36.818Z"
      },
      {
        "duration": 6,
        "start_time": "2021-06-09T19:00:36.826Z"
      },
      {
        "duration": 45,
        "start_time": "2021-06-09T19:00:36.835Z"
      },
      {
        "duration": 3,
        "start_time": "2021-06-09T19:00:36.883Z"
      },
      {
        "duration": 7,
        "start_time": "2021-06-09T19:00:36.890Z"
      },
      {
        "duration": 17,
        "start_time": "2021-06-09T19:00:36.900Z"
      },
      {
        "duration": 46,
        "start_time": "2021-06-09T19:00:36.920Z"
      },
      {
        "duration": 5,
        "start_time": "2021-06-09T19:00:36.969Z"
      },
      {
        "duration": 17,
        "start_time": "2021-06-09T19:00:36.976Z"
      },
      {
        "duration": 11,
        "start_time": "2021-06-09T19:00:36.995Z"
      },
      {
        "duration": 6,
        "start_time": "2021-06-09T19:00:37.009Z"
      },
      {
        "duration": 78,
        "start_time": "2021-06-09T19:00:37.055Z"
      },
      {
        "duration": 21,
        "start_time": "2021-06-09T19:00:37.135Z"
      },
      {
        "duration": 5,
        "start_time": "2021-06-09T19:00:37.159Z"
      },
      {
        "duration": 9,
        "start_time": "2021-06-09T19:00:37.167Z"
      },
      {
        "duration": 9,
        "start_time": "2021-06-09T19:00:37.178Z"
      },
      {
        "duration": 10,
        "start_time": "2021-06-09T19:00:37.190Z"
      },
      {
        "duration": 89,
        "start_time": "2021-06-09T19:00:37.203Z"
      },
      {
        "duration": 101,
        "start_time": "2021-06-09T19:00:37.357Z"
      },
      {
        "duration": 95,
        "start_time": "2021-06-09T19:00:37.461Z"
      },
      {
        "duration": 10,
        "start_time": "2021-06-09T19:00:37.559Z"
      },
      {
        "duration": 6,
        "start_time": "2021-06-09T19:00:37.571Z"
      },
      {
        "duration": 20,
        "start_time": "2021-06-09T19:00:37.582Z"
      },
      {
        "duration": 135,
        "start_time": "2021-06-09T19:00:37.604Z"
      },
      {
        "duration": 16,
        "start_time": "2021-06-09T19:00:37.741Z"
      },
      {
        "duration": 98,
        "start_time": "2021-06-09T19:00:37.759Z"
      },
      {
        "duration": 101,
        "start_time": "2021-06-09T19:00:37.860Z"
      },
      {
        "duration": 42,
        "start_time": "2021-06-09T19:01:01.474Z"
      },
      {
        "duration": 40,
        "start_time": "2021-06-09T19:01:04.425Z"
      },
      {
        "duration": 9,
        "start_time": "2021-06-09T19:01:04.745Z"
      },
      {
        "duration": 38,
        "start_time": "2021-06-09T19:01:08.975Z"
      },
      {
        "duration": 11,
        "start_time": "2021-06-09T19:01:09.657Z"
      },
      {
        "duration": 357,
        "start_time": "2021-06-09T19:01:25.354Z"
      },
      {
        "duration": 8,
        "start_time": "2021-06-09T19:01:29.306Z"
      },
      {
        "duration": 9,
        "start_time": "2021-06-09T19:01:33.114Z"
      },
      {
        "duration": 10,
        "start_time": "2021-06-09T19:01:46.499Z"
      },
      {
        "duration": 58,
        "start_time": "2021-06-09T19:01:48.098Z"
      },
      {
        "duration": 9,
        "start_time": "2021-06-09T19:01:48.516Z"
      },
      {
        "duration": 7,
        "start_time": "2021-06-09T19:01:49.906Z"
      },
      {
        "duration": 1398,
        "start_time": "2021-06-09T19:02:33.571Z"
      },
      {
        "duration": 36,
        "start_time": "2021-06-09T19:02:34.972Z"
      },
      {
        "duration": 4,
        "start_time": "2021-06-09T19:02:35.012Z"
      },
      {
        "duration": 10,
        "start_time": "2021-06-09T19:02:35.018Z"
      },
      {
        "duration": 14,
        "start_time": "2021-06-09T19:02:35.030Z"
      },
      {
        "duration": 9,
        "start_time": "2021-06-09T19:02:35.047Z"
      },
      {
        "duration": 34,
        "start_time": "2021-06-09T19:02:35.060Z"
      },
      {
        "duration": 3,
        "start_time": "2021-06-09T19:02:35.097Z"
      },
      {
        "duration": 9,
        "start_time": "2021-06-09T19:02:35.102Z"
      },
      {
        "duration": 20,
        "start_time": "2021-06-09T19:02:35.113Z"
      },
      {
        "duration": 34,
        "start_time": "2021-06-09T19:02:35.135Z"
      },
      {
        "duration": 6,
        "start_time": "2021-06-09T19:02:35.171Z"
      },
      {
        "duration": 17,
        "start_time": "2021-06-09T19:02:35.179Z"
      },
      {
        "duration": 10,
        "start_time": "2021-06-09T19:02:35.199Z"
      },
      {
        "duration": 46,
        "start_time": "2021-06-09T19:02:35.211Z"
      },
      {
        "duration": 73,
        "start_time": "2021-06-09T19:02:35.260Z"
      },
      {
        "duration": 21,
        "start_time": "2021-06-09T19:02:35.335Z"
      },
      {
        "duration": 5,
        "start_time": "2021-06-09T19:02:35.359Z"
      },
      {
        "duration": 10,
        "start_time": "2021-06-09T19:02:35.366Z"
      },
      {
        "duration": 8,
        "start_time": "2021-06-09T19:02:35.379Z"
      },
      {
        "duration": 10,
        "start_time": "2021-06-09T19:02:35.389Z"
      },
      {
        "duration": 84,
        "start_time": "2021-06-09T19:02:35.403Z"
      },
      {
        "duration": 102,
        "start_time": "2021-06-09T19:02:35.558Z"
      },
      {
        "duration": 69,
        "start_time": "2021-06-09T19:02:35.662Z"
      },
      {
        "duration": 8,
        "start_time": "2021-06-09T19:02:35.755Z"
      },
      {
        "duration": 12,
        "start_time": "2021-06-09T19:02:35.765Z"
      },
      {
        "duration": 27,
        "start_time": "2021-06-09T19:02:35.780Z"
      },
      {
        "duration": 119,
        "start_time": "2021-06-09T19:02:35.809Z"
      },
      {
        "duration": 8,
        "start_time": "2021-06-09T19:02:35.930Z"
      },
      {
        "duration": 123,
        "start_time": "2021-06-09T19:02:35.940Z"
      },
      {
        "duration": 94,
        "start_time": "2021-06-09T19:02:36.066Z"
      },
      {
        "duration": 25,
        "start_time": "2021-06-09T19:02:48.596Z"
      },
      {
        "duration": 152,
        "start_time": "2021-06-09T19:02:49.012Z"
      },
      {
        "duration": 8,
        "start_time": "2021-06-09T19:02:49.337Z"
      },
      {
        "duration": 79,
        "start_time": "2021-06-09T19:02:50.089Z"
      },
      {
        "duration": 8,
        "start_time": "2021-06-09T19:02:50.505Z"
      },
      {
        "duration": 19,
        "start_time": "2021-06-09T19:02:54.812Z"
      },
      {
        "duration": 95,
        "start_time": "2021-06-09T19:02:55.297Z"
      },
      {
        "duration": 9,
        "start_time": "2021-06-09T19:02:55.729Z"
      },
      {
        "duration": 154,
        "start_time": "2021-06-09T19:02:56.649Z"
      },
      {
        "duration": 8,
        "start_time": "2021-06-09T19:02:57.009Z"
      },
      {
        "duration": 16,
        "start_time": "2021-06-09T19:03:00.926Z"
      },
      {
        "duration": 78,
        "start_time": "2021-06-09T19:03:01.223Z"
      },
      {
        "duration": 10,
        "start_time": "2021-06-09T19:03:01.505Z"
      },
      {
        "duration": 47,
        "start_time": "2021-06-09T19:03:02.266Z"
      },
      {
        "duration": 8,
        "start_time": "2021-06-09T19:03:02.642Z"
      },
      {
        "duration": 15,
        "start_time": "2021-06-09T19:03:08.482Z"
      },
      {
        "duration": 72,
        "start_time": "2021-06-09T19:03:08.772Z"
      },
      {
        "duration": 8,
        "start_time": "2021-06-09T19:03:09.034Z"
      },
      {
        "duration": 96,
        "start_time": "2021-06-09T19:03:09.860Z"
      },
      {
        "duration": 10,
        "start_time": "2021-06-09T19:03:10.235Z"
      },
      {
        "duration": 19,
        "start_time": "2021-06-09T19:03:14.115Z"
      },
      {
        "duration": 95,
        "start_time": "2021-06-09T19:03:14.417Z"
      },
      {
        "duration": 8,
        "start_time": "2021-06-09T19:03:14.666Z"
      },
      {
        "duration": 148,
        "start_time": "2021-06-09T19:03:15.235Z"
      },
      {
        "duration": 8,
        "start_time": "2021-06-09T19:03:15.557Z"
      },
      {
        "duration": 5,
        "start_time": "2021-06-09T19:05:58.570Z"
      },
      {
        "duration": 156,
        "start_time": "2021-06-09T19:07:22.428Z"
      },
      {
        "duration": 453,
        "start_time": "2021-06-09T19:07:27.636Z"
      },
      {
        "duration": 244,
        "start_time": "2021-06-09T19:09:15.667Z"
      },
      {
        "duration": 204,
        "start_time": "2021-06-09T19:10:29.756Z"
      },
      {
        "duration": 156,
        "start_time": "2021-06-09T19:10:38.747Z"
      },
      {
        "duration": 12,
        "start_time": "2021-06-09T19:10:50.964Z"
      },
      {
        "duration": 36,
        "start_time": "2021-06-09T19:14:01.997Z"
      },
      {
        "duration": 10,
        "start_time": "2021-06-09T19:14:02.468Z"
      },
      {
        "duration": 255,
        "start_time": "2021-06-09T19:29:12.609Z"
      },
      {
        "duration": 13,
        "start_time": "2021-06-09T19:29:32.792Z"
      },
      {
        "duration": 16904,
        "start_time": "2021-06-09T19:29:36.980Z"
      },
      {
        "duration": 17211,
        "start_time": "2021-06-09T19:30:21.353Z"
      },
      {
        "duration": 280,
        "start_time": "2021-06-09T19:35:28.306Z"
      },
      {
        "duration": 16630,
        "start_time": "2021-06-09T19:37:20.666Z"
      },
      {
        "duration": 17136,
        "start_time": "2021-06-09T19:37:43.683Z"
      },
      {
        "duration": 17365,
        "start_time": "2021-06-09T19:38:18.346Z"
      },
      {
        "duration": 8,
        "start_time": "2021-06-09T19:49:33.961Z"
      },
      {
        "duration": 5,
        "start_time": "2021-06-09T19:49:39.024Z"
      },
      {
        "duration": 266,
        "start_time": "2021-06-09T19:51:54.410Z"
      },
      {
        "duration": 5,
        "start_time": "2021-06-09T19:52:09.549Z"
      },
      {
        "duration": 5,
        "start_time": "2021-06-09T19:52:14.975Z"
      },
      {
        "duration": 273,
        "start_time": "2021-06-09T19:52:56.847Z"
      },
      {
        "duration": 253,
        "start_time": "2021-06-09T19:53:07.277Z"
      },
      {
        "duration": 116,
        "start_time": "2021-06-09T19:53:11.161Z"
      },
      {
        "duration": 252,
        "start_time": "2021-06-09T19:53:17.379Z"
      },
      {
        "duration": 262,
        "start_time": "2021-06-09T19:54:08.718Z"
      },
      {
        "duration": 1511,
        "start_time": "2021-06-09T19:54:24.474Z"
      },
      {
        "duration": 240,
        "start_time": "2021-06-09T19:54:25.988Z"
      },
      {
        "duration": 4,
        "start_time": "2021-06-09T19:54:26.232Z"
      },
      {
        "duration": 5,
        "start_time": "2021-06-09T19:54:26.240Z"
      },
      {
        "duration": 10,
        "start_time": "2021-06-09T19:54:26.247Z"
      },
      {
        "duration": 6,
        "start_time": "2021-06-09T19:54:26.259Z"
      },
      {
        "duration": 24,
        "start_time": "2021-06-09T19:54:26.267Z"
      },
      {
        "duration": 3,
        "start_time": "2021-06-09T19:54:26.293Z"
      },
      {
        "duration": 10,
        "start_time": "2021-06-09T19:54:26.300Z"
      },
      {
        "duration": 17,
        "start_time": "2021-06-09T19:54:26.313Z"
      },
      {
        "duration": 16,
        "start_time": "2021-06-09T19:54:26.356Z"
      },
      {
        "duration": 5,
        "start_time": "2021-06-09T19:54:26.375Z"
      },
      {
        "duration": 15,
        "start_time": "2021-06-09T19:54:26.383Z"
      },
      {
        "duration": 11,
        "start_time": "2021-06-09T19:54:26.400Z"
      },
      {
        "duration": 43,
        "start_time": "2021-06-09T19:54:26.414Z"
      },
      {
        "duration": 75,
        "start_time": "2021-06-09T19:54:26.460Z"
      },
      {
        "duration": 19,
        "start_time": "2021-06-09T19:54:26.537Z"
      },
      {
        "duration": 9,
        "start_time": "2021-06-09T19:54:26.558Z"
      },
      {
        "duration": 13,
        "start_time": "2021-06-09T19:54:26.569Z"
      },
      {
        "duration": 11,
        "start_time": "2021-06-09T19:54:26.584Z"
      },
      {
        "duration": 17,
        "start_time": "2021-06-09T19:54:26.597Z"
      },
      {
        "duration": 143,
        "start_time": "2021-06-09T19:54:26.616Z"
      },
      {
        "duration": 96,
        "start_time": "2021-06-09T19:54:26.762Z"
      },
      {
        "duration": 407,
        "start_time": "2021-06-09T19:54:26.861Z"
      },
      {
        "duration": -260,
        "start_time": "2021-06-09T19:54:27.532Z"
      },
      {
        "duration": -260,
        "start_time": "2021-06-09T19:54:27.534Z"
      },
      {
        "duration": -260,
        "start_time": "2021-06-09T19:54:27.535Z"
      },
      {
        "duration": -260,
        "start_time": "2021-06-09T19:54:27.537Z"
      },
      {
        "duration": -263,
        "start_time": "2021-06-09T19:54:27.542Z"
      },
      {
        "duration": -264,
        "start_time": "2021-06-09T19:54:27.544Z"
      },
      {
        "duration": -264,
        "start_time": "2021-06-09T19:54:27.546Z"
      },
      {
        "duration": -265,
        "start_time": "2021-06-09T19:54:27.548Z"
      },
      {
        "duration": -266,
        "start_time": "2021-06-09T19:54:27.550Z"
      },
      {
        "duration": -265,
        "start_time": "2021-06-09T19:54:27.551Z"
      },
      {
        "duration": -266,
        "start_time": "2021-06-09T19:54:27.553Z"
      },
      {
        "duration": -267,
        "start_time": "2021-06-09T19:54:27.555Z"
      },
      {
        "duration": -270,
        "start_time": "2021-06-09T19:54:27.560Z"
      },
      {
        "duration": 252,
        "start_time": "2021-06-09T19:55:22.738Z"
      },
      {
        "duration": 11725,
        "start_time": "2021-06-09T19:55:56.074Z"
      },
      {
        "duration": 47,
        "start_time": "2021-06-09T19:56:24.615Z"
      },
      {
        "duration": 11,
        "start_time": "2021-06-09T19:56:27.109Z"
      },
      {
        "duration": 397,
        "start_time": "2021-06-09T19:57:03.255Z"
      },
      {
        "duration": 11748,
        "start_time": "2021-06-09T19:57:09.472Z"
      },
      {
        "duration": 11437,
        "start_time": "2021-06-09T19:59:01.496Z"
      },
      {
        "duration": 14,
        "start_time": "2021-06-09T20:00:13.855Z"
      },
      {
        "duration": 6,
        "start_time": "2021-06-09T20:00:14.510Z"
      },
      {
        "duration": 5,
        "start_time": "2021-06-09T20:00:14.919Z"
      },
      {
        "duration": 261,
        "start_time": "2021-06-09T20:00:15.671Z"
      },
      {
        "duration": 247,
        "start_time": "2021-06-09T20:04:06.248Z"
      },
      {
        "duration": 1417,
        "start_time": "2021-06-09T20:04:19.292Z"
      },
      {
        "duration": 37,
        "start_time": "2021-06-09T20:04:20.712Z"
      },
      {
        "duration": 4,
        "start_time": "2021-06-09T20:04:20.752Z"
      },
      {
        "duration": 6,
        "start_time": "2021-06-09T20:04:20.759Z"
      },
      {
        "duration": 7,
        "start_time": "2021-06-09T20:04:20.767Z"
      },
      {
        "duration": 10,
        "start_time": "2021-06-09T20:04:20.776Z"
      },
      {
        "duration": 33,
        "start_time": "2021-06-09T20:04:20.788Z"
      },
      {
        "duration": 3,
        "start_time": "2021-06-09T20:04:20.823Z"
      },
      {
        "duration": 26,
        "start_time": "2021-06-09T20:04:20.831Z"
      },
      {
        "duration": 21,
        "start_time": "2021-06-09T20:04:20.860Z"
      },
      {
        "duration": 16,
        "start_time": "2021-06-09T20:04:20.883Z"
      },
      {
        "duration": 6,
        "start_time": "2021-06-09T20:04:20.902Z"
      },
      {
        "duration": 45,
        "start_time": "2021-06-09T20:04:20.911Z"
      },
      {
        "duration": 10,
        "start_time": "2021-06-09T20:04:20.959Z"
      },
      {
        "duration": 9,
        "start_time": "2021-06-09T20:04:20.971Z"
      },
      {
        "duration": 101,
        "start_time": "2021-06-09T20:04:20.982Z"
      },
      {
        "duration": 6,
        "start_time": "2021-06-09T20:04:21.086Z"
      },
      {
        "duration": 6,
        "start_time": "2021-06-09T20:04:21.095Z"
      },
      {
        "duration": 10,
        "start_time": "2021-06-09T20:04:21.104Z"
      },
      {
        "duration": 48,
        "start_time": "2021-06-09T20:04:21.117Z"
      },
      {
        "duration": 11,
        "start_time": "2021-06-09T20:04:21.167Z"
      },
      {
        "duration": 76,
        "start_time": "2021-06-09T20:04:21.181Z"
      },
      {
        "duration": 102,
        "start_time": "2021-06-09T20:04:21.260Z"
      },
      {
        "duration": 12300,
        "start_time": "2021-06-09T20:04:21.364Z"
      },
      {
        "duration": 91,
        "start_time": "2021-06-09T20:04:33.666Z"
      },
      {
        "duration": 96,
        "start_time": "2021-06-09T20:04:33.760Z"
      },
      {
        "duration": 6,
        "start_time": "2021-06-09T20:04:33.861Z"
      },
      {
        "duration": 295,
        "start_time": "2021-06-09T20:04:33.871Z"
      },
      {
        "duration": 91,
        "start_time": "2021-06-09T20:04:34.169Z"
      },
      {
        "duration": 10,
        "start_time": "2021-06-09T20:04:34.262Z"
      },
      {
        "duration": 9,
        "start_time": "2021-06-09T20:04:34.275Z"
      },
      {
        "duration": 27,
        "start_time": "2021-06-09T20:04:34.286Z"
      },
      {
        "duration": 120,
        "start_time": "2021-06-09T20:04:34.316Z"
      },
      {
        "duration": 18,
        "start_time": "2021-06-09T20:04:34.439Z"
      },
      {
        "duration": 197,
        "start_time": "2021-06-09T20:04:34.460Z"
      },
      {
        "duration": 102,
        "start_time": "2021-06-09T20:04:34.660Z"
      },
      {
        "duration": 17170,
        "start_time": "2021-06-09T20:04:34.765Z"
      },
      {
        "duration": 22,
        "start_time": "2021-06-09T20:04:51.938Z"
      },
      {
        "duration": 6,
        "start_time": "2021-06-09T20:04:51.963Z"
      },
      {
        "duration": 14,
        "start_time": "2021-06-09T20:04:51.972Z"
      },
      {
        "duration": 290,
        "start_time": "2021-06-09T20:04:51.989Z"
      },
      {
        "duration": 7,
        "start_time": "2021-06-09T20:12:23.883Z"
      },
      {
        "duration": 6,
        "start_time": "2021-06-09T20:12:37.130Z"
      },
      {
        "duration": 6,
        "start_time": "2021-06-09T20:14:09.618Z"
      },
      {
        "duration": 5,
        "start_time": "2021-06-09T20:15:53.259Z"
      },
      {
        "duration": 381,
        "start_time": "2021-06-09T20:16:10.693Z"
      },
      {
        "duration": 5,
        "start_time": "2021-06-09T20:16:38.099Z"
      },
      {
        "duration": 5,
        "start_time": "2021-06-09T20:16:54.779Z"
      },
      {
        "duration": 1443,
        "start_time": "2021-06-09T20:17:22.851Z"
      },
      {
        "duration": 37,
        "start_time": "2021-06-09T20:17:24.297Z"
      },
      {
        "duration": 5,
        "start_time": "2021-06-09T20:17:24.337Z"
      },
      {
        "duration": 4,
        "start_time": "2021-06-09T20:17:24.355Z"
      },
      {
        "duration": 5,
        "start_time": "2021-06-09T20:17:24.362Z"
      },
      {
        "duration": 7,
        "start_time": "2021-06-09T20:17:24.370Z"
      },
      {
        "duration": 23,
        "start_time": "2021-06-09T20:17:24.380Z"
      },
      {
        "duration": 4,
        "start_time": "2021-06-09T20:17:24.406Z"
      },
      {
        "duration": 45,
        "start_time": "2021-06-09T20:17:24.414Z"
      },
      {
        "duration": 20,
        "start_time": "2021-06-09T20:17:24.462Z"
      },
      {
        "duration": 16,
        "start_time": "2021-06-09T20:17:24.485Z"
      },
      {
        "duration": 6,
        "start_time": "2021-06-09T20:17:24.503Z"
      },
      {
        "duration": 46,
        "start_time": "2021-06-09T20:17:24.512Z"
      },
      {
        "duration": 13,
        "start_time": "2021-06-09T20:17:24.560Z"
      },
      {
        "duration": 6,
        "start_time": "2021-06-09T20:17:24.575Z"
      },
      {
        "duration": 110,
        "start_time": "2021-06-09T20:17:24.585Z"
      },
      {
        "duration": 7,
        "start_time": "2021-06-09T20:17:24.697Z"
      },
      {
        "duration": 8,
        "start_time": "2021-06-09T20:17:24.707Z"
      },
      {
        "duration": 10,
        "start_time": "2021-06-09T20:17:24.717Z"
      },
      {
        "duration": 10,
        "start_time": "2021-06-09T20:17:24.756Z"
      },
      {
        "duration": 10,
        "start_time": "2021-06-09T20:17:24.769Z"
      },
      {
        "duration": 86,
        "start_time": "2021-06-09T20:17:24.782Z"
      },
      {
        "duration": 93,
        "start_time": "2021-06-09T20:17:24.871Z"
      },
      {
        "duration": 11407,
        "start_time": "2021-06-09T20:17:25.057Z"
      },
      {
        "duration": 90,
        "start_time": "2021-06-09T20:17:36.466Z"
      },
      {
        "duration": 5,
        "start_time": "2021-06-09T20:17:36.559Z"
      },
      {
        "duration": 9,
        "start_time": "2021-06-09T20:17:36.660Z"
      },
      {
        "duration": 7,
        "start_time": "2021-06-09T20:17:36.672Z"
      },
      {
        "duration": 6,
        "start_time": "2021-06-09T20:17:36.682Z"
      },
      {
        "duration": 293,
        "start_time": "2021-06-09T20:17:36.690Z"
      },
      {
        "duration": 84,
        "start_time": "2021-06-09T20:17:36.985Z"
      },
      {
        "duration": 10,
        "start_time": "2021-06-09T20:17:37.071Z"
      },
      {
        "duration": 7,
        "start_time": "2021-06-09T20:17:37.084Z"
      },
      {
        "duration": 40,
        "start_time": "2021-06-09T20:17:37.094Z"
      },
      {
        "duration": 150,
        "start_time": "2021-06-09T20:17:37.137Z"
      },
      {
        "duration": 9,
        "start_time": "2021-06-09T20:17:37.290Z"
      },
      {
        "duration": 182,
        "start_time": "2021-06-09T20:17:37.301Z"
      },
      {
        "duration": 174,
        "start_time": "2021-06-09T20:17:37.486Z"
      },
      {
        "duration": 17306,
        "start_time": "2021-06-09T20:17:37.663Z"
      },
      {
        "duration": 12,
        "start_time": "2021-06-09T20:17:54.972Z"
      },
      {
        "duration": 8,
        "start_time": "2021-06-09T20:17:54.987Z"
      },
      {
        "duration": 16,
        "start_time": "2021-06-09T20:17:54.997Z"
      },
      {
        "duration": 271,
        "start_time": "2021-06-09T20:17:55.015Z"
      },
      {
        "duration": 1456,
        "start_time": "2021-06-10T18:15:26.943Z"
      },
      {
        "duration": 34,
        "start_time": "2021-06-10T18:15:28.402Z"
      },
      {
        "duration": 3,
        "start_time": "2021-06-10T18:15:28.439Z"
      },
      {
        "duration": 5,
        "start_time": "2021-06-10T18:15:28.445Z"
      },
      {
        "duration": 8,
        "start_time": "2021-06-10T18:15:28.452Z"
      },
      {
        "duration": 6,
        "start_time": "2021-06-10T18:15:28.462Z"
      },
      {
        "duration": 19,
        "start_time": "2021-06-10T18:15:28.483Z"
      },
      {
        "duration": 3,
        "start_time": "2021-06-10T18:15:28.505Z"
      },
      {
        "duration": 10,
        "start_time": "2021-06-10T18:15:28.511Z"
      },
      {
        "duration": 16,
        "start_time": "2021-06-10T18:15:28.523Z"
      },
      {
        "duration": 43,
        "start_time": "2021-06-10T18:15:28.542Z"
      },
      {
        "duration": 6,
        "start_time": "2021-06-10T18:15:28.587Z"
      },
      {
        "duration": 14,
        "start_time": "2021-06-10T18:15:28.595Z"
      },
      {
        "duration": 9,
        "start_time": "2021-06-10T18:15:28.611Z"
      },
      {
        "duration": 4,
        "start_time": "2021-06-10T18:15:28.623Z"
      },
      {
        "duration": 114,
        "start_time": "2021-06-10T18:15:28.629Z"
      },
      {
        "duration": 5,
        "start_time": "2021-06-10T18:15:28.745Z"
      },
      {
        "duration": 8,
        "start_time": "2021-06-10T18:15:28.753Z"
      },
      {
        "duration": 23,
        "start_time": "2021-06-10T18:15:28.763Z"
      },
      {
        "duration": 8,
        "start_time": "2021-06-10T18:15:28.788Z"
      },
      {
        "duration": 12,
        "start_time": "2021-06-10T18:15:28.798Z"
      },
      {
        "duration": 81,
        "start_time": "2021-06-10T18:15:28.813Z"
      },
      {
        "duration": 10,
        "start_time": "2021-06-10T18:15:28.985Z"
      },
      {
        "duration": 11541,
        "start_time": "2021-06-10T18:15:28.997Z"
      },
      {
        "duration": 389,
        "start_time": "2021-06-10T18:15:40.540Z"
      },
      {
        "duration": -883,
        "start_time": "2021-06-10T18:15:41.815Z"
      },
      {
        "duration": -884,
        "start_time": "2021-06-10T18:15:41.818Z"
      },
      {
        "duration": -886,
        "start_time": "2021-06-10T18:15:41.822Z"
      },
      {
        "duration": -895,
        "start_time": "2021-06-10T18:15:41.832Z"
      },
      {
        "duration": -895,
        "start_time": "2021-06-10T18:15:41.834Z"
      },
      {
        "duration": -895,
        "start_time": "2021-06-10T18:15:41.836Z"
      },
      {
        "duration": -894,
        "start_time": "2021-06-10T18:15:41.837Z"
      },
      {
        "duration": -895,
        "start_time": "2021-06-10T18:15:41.839Z"
      },
      {
        "duration": -895,
        "start_time": "2021-06-10T18:15:41.841Z"
      },
      {
        "duration": -896,
        "start_time": "2021-06-10T18:15:41.844Z"
      },
      {
        "duration": -896,
        "start_time": "2021-06-10T18:15:41.845Z"
      },
      {
        "duration": -900,
        "start_time": "2021-06-10T18:15:41.851Z"
      },
      {
        "duration": -900,
        "start_time": "2021-06-10T18:15:41.853Z"
      },
      {
        "duration": -900,
        "start_time": "2021-06-10T18:15:41.854Z"
      },
      {
        "duration": -900,
        "start_time": "2021-06-10T18:15:41.856Z"
      },
      {
        "duration": 254,
        "start_time": "2021-06-10T18:16:28.192Z"
      },
      {
        "duration": 10,
        "start_time": "2021-06-10T18:19:29.488Z"
      },
      {
        "duration": 10,
        "start_time": "2021-06-10T18:19:50.400Z"
      },
      {
        "duration": 6,
        "start_time": "2021-06-10T18:19:50.896Z"
      },
      {
        "duration": 12,
        "start_time": "2021-06-10T18:20:36.705Z"
      },
      {
        "duration": 6,
        "start_time": "2021-06-10T18:20:37.025Z"
      },
      {
        "duration": 11,
        "start_time": "2021-06-10T18:21:30.697Z"
      },
      {
        "duration": 5,
        "start_time": "2021-06-10T18:21:31.465Z"
      },
      {
        "duration": 17,
        "start_time": "2021-06-10T18:21:33.329Z"
      },
      {
        "duration": 11,
        "start_time": "2021-06-10T18:21:33.632Z"
      },
      {
        "duration": 6,
        "start_time": "2021-06-10T18:21:33.937Z"
      },
      {
        "duration": 17,
        "start_time": "2021-06-10T18:21:43.840Z"
      },
      {
        "duration": 6,
        "start_time": "2021-06-10T18:21:49.528Z"
      },
      {
        "duration": 10,
        "start_time": "2021-06-10T18:22:41.345Z"
      },
      {
        "duration": 9,
        "start_time": "2021-06-10T18:22:41.729Z"
      },
      {
        "duration": 5,
        "start_time": "2021-06-10T18:22:42.041Z"
      },
      {
        "duration": 59,
        "start_time": "2021-06-10T18:46:29.058Z"
      },
      {
        "duration": 6,
        "start_time": "2021-06-10T18:46:32.959Z"
      },
      {
        "duration": 4,
        "start_time": "2021-06-10T18:46:36.255Z"
      },
      {
        "duration": 8,
        "start_time": "2021-06-10T18:46:36.650Z"
      },
      {
        "duration": 58,
        "start_time": "2021-06-10T18:48:34.721Z"
      },
      {
        "duration": 5,
        "start_time": "2021-06-10T18:48:37.230Z"
      },
      {
        "duration": 6,
        "start_time": "2021-06-10T18:54:34.366Z"
      },
      {
        "duration": 6,
        "start_time": "2021-06-10T18:56:12.449Z"
      },
      {
        "duration": 250,
        "start_time": "2021-06-10T18:56:57.870Z"
      },
      {
        "duration": 8,
        "start_time": "2021-06-10T18:57:34.689Z"
      },
      {
        "duration": 11,
        "start_time": "2021-06-10T18:57:43.364Z"
      },
      {
        "duration": 1403,
        "start_time": "2021-06-10T19:01:41.704Z"
      },
      {
        "duration": 36,
        "start_time": "2021-06-10T19:01:43.110Z"
      },
      {
        "duration": 4,
        "start_time": "2021-06-10T19:01:43.149Z"
      },
      {
        "duration": 6,
        "start_time": "2021-06-10T19:01:43.155Z"
      },
      {
        "duration": 19,
        "start_time": "2021-06-10T19:01:43.164Z"
      },
      {
        "duration": 2,
        "start_time": "2021-06-10T19:01:43.186Z"
      },
      {
        "duration": 22,
        "start_time": "2021-06-10T19:01:43.191Z"
      },
      {
        "duration": 3,
        "start_time": "2021-06-10T19:01:43.215Z"
      },
      {
        "duration": 9,
        "start_time": "2021-06-10T19:01:43.222Z"
      },
      {
        "duration": 19,
        "start_time": "2021-06-10T19:01:43.234Z"
      },
      {
        "duration": 41,
        "start_time": "2021-06-10T19:01:43.255Z"
      },
      {
        "duration": 5,
        "start_time": "2021-06-10T19:01:43.299Z"
      },
      {
        "duration": 16,
        "start_time": "2021-06-10T19:01:43.307Z"
      },
      {
        "duration": 11,
        "start_time": "2021-06-10T19:01:43.325Z"
      },
      {
        "duration": 51,
        "start_time": "2021-06-10T19:01:43.338Z"
      },
      {
        "duration": 8,
        "start_time": "2021-06-10T19:01:43.392Z"
      },
      {
        "duration": 61,
        "start_time": "2021-06-10T19:01:43.403Z"
      },
      {
        "duration": 6,
        "start_time": "2021-06-10T19:01:43.482Z"
      },
      {
        "duration": 9,
        "start_time": "2021-06-10T19:01:43.491Z"
      },
      {
        "duration": 9,
        "start_time": "2021-06-10T19:01:43.503Z"
      },
      {
        "duration": 10,
        "start_time": "2021-06-10T19:01:43.515Z"
      },
      {
        "duration": 376,
        "start_time": "2021-06-10T19:01:43.527Z"
      },
      {
        "duration": -878,
        "start_time": "2021-06-10T19:01:44.784Z"
      },
      {
        "duration": -880,
        "start_time": "2021-06-10T19:01:44.788Z"
      },
      {
        "duration": -881,
        "start_time": "2021-06-10T19:01:44.790Z"
      },
      {
        "duration": -881,
        "start_time": "2021-06-10T19:01:44.792Z"
      },
      {
        "duration": -889,
        "start_time": "2021-06-10T19:01:44.801Z"
      },
      {
        "duration": -890,
        "start_time": "2021-06-10T19:01:44.804Z"
      },
      {
        "duration": -891,
        "start_time": "2021-06-10T19:01:44.806Z"
      },
      {
        "duration": -892,
        "start_time": "2021-06-10T19:01:44.809Z"
      },
      {
        "duration": -893,
        "start_time": "2021-06-10T19:01:44.811Z"
      },
      {
        "duration": -892,
        "start_time": "2021-06-10T19:01:44.813Z"
      },
      {
        "duration": -892,
        "start_time": "2021-06-10T19:01:44.814Z"
      },
      {
        "duration": -894,
        "start_time": "2021-06-10T19:01:44.817Z"
      },
      {
        "duration": -898,
        "start_time": "2021-06-10T19:01:44.823Z"
      },
      {
        "duration": -899,
        "start_time": "2021-06-10T19:01:44.825Z"
      },
      {
        "duration": -899,
        "start_time": "2021-06-10T19:01:44.827Z"
      },
      {
        "duration": -899,
        "start_time": "2021-06-10T19:01:44.828Z"
      },
      {
        "duration": -900,
        "start_time": "2021-06-10T19:01:44.830Z"
      },
      {
        "duration": -900,
        "start_time": "2021-06-10T19:01:44.832Z"
      },
      {
        "duration": -901,
        "start_time": "2021-06-10T19:01:44.834Z"
      },
      {
        "duration": -902,
        "start_time": "2021-06-10T19:01:44.836Z"
      },
      {
        "duration": 8,
        "start_time": "2021-06-10T19:10:32.498Z"
      },
      {
        "duration": 1408,
        "start_time": "2021-06-10T19:10:46.497Z"
      },
      {
        "duration": 35,
        "start_time": "2021-06-10T19:10:47.908Z"
      },
      {
        "duration": 4,
        "start_time": "2021-06-10T19:10:47.946Z"
      },
      {
        "duration": 6,
        "start_time": "2021-06-10T19:10:47.953Z"
      },
      {
        "duration": 11,
        "start_time": "2021-06-10T19:10:47.961Z"
      },
      {
        "duration": 5,
        "start_time": "2021-06-10T19:10:47.984Z"
      },
      {
        "duration": 27,
        "start_time": "2021-06-10T19:10:47.991Z"
      },
      {
        "duration": 3,
        "start_time": "2021-06-10T19:10:48.022Z"
      },
      {
        "duration": 7,
        "start_time": "2021-06-10T19:10:48.028Z"
      },
      {
        "duration": 18,
        "start_time": "2021-06-10T19:10:48.037Z"
      },
      {
        "duration": 41,
        "start_time": "2021-06-10T19:10:48.057Z"
      },
      {
        "duration": 6,
        "start_time": "2021-06-10T19:10:48.100Z"
      },
      {
        "duration": 14,
        "start_time": "2021-06-10T19:10:48.108Z"
      },
      {
        "duration": 10,
        "start_time": "2021-06-10T19:10:48.125Z"
      },
      {
        "duration": 47,
        "start_time": "2021-06-10T19:10:48.137Z"
      },
      {
        "duration": 12,
        "start_time": "2021-06-10T19:10:48.186Z"
      },
      {
        "duration": 59,
        "start_time": "2021-06-10T19:10:48.201Z"
      },
      {
        "duration": 23,
        "start_time": "2021-06-10T19:10:48.262Z"
      },
      {
        "duration": 7,
        "start_time": "2021-06-10T19:10:48.287Z"
      },
      {
        "duration": 7,
        "start_time": "2021-06-10T19:10:48.296Z"
      },
      {
        "duration": 9,
        "start_time": "2021-06-10T19:10:48.305Z"
      },
      {
        "duration": 10,
        "start_time": "2021-06-10T19:10:48.316Z"
      },
      {
        "duration": 9445,
        "start_time": "2021-06-10T19:10:48.331Z"
      },
      {
        "duration": 366,
        "start_time": "2021-06-10T19:10:57.784Z"
      },
      {
        "duration": -895,
        "start_time": "2021-06-10T19:10:59.048Z"
      },
      {
        "duration": -896,
        "start_time": "2021-06-10T19:10:59.050Z"
      },
      {
        "duration": -895,
        "start_time": "2021-06-10T19:10:59.051Z"
      },
      {
        "duration": -900,
        "start_time": "2021-06-10T19:10:59.057Z"
      },
      {
        "duration": -900,
        "start_time": "2021-06-10T19:10:59.059Z"
      },
      {
        "duration": -901,
        "start_time": "2021-06-10T19:10:59.061Z"
      },
      {
        "duration": -901,
        "start_time": "2021-06-10T19:10:59.063Z"
      },
      {
        "duration": -903,
        "start_time": "2021-06-10T19:10:59.066Z"
      },
      {
        "duration": -903,
        "start_time": "2021-06-10T19:10:59.068Z"
      },
      {
        "duration": -903,
        "start_time": "2021-06-10T19:10:59.070Z"
      },
      {
        "duration": -904,
        "start_time": "2021-06-10T19:10:59.072Z"
      },
      {
        "duration": -905,
        "start_time": "2021-06-10T19:10:59.074Z"
      },
      {
        "duration": -905,
        "start_time": "2021-06-10T19:10:59.076Z"
      },
      {
        "duration": -907,
        "start_time": "2021-06-10T19:10:59.079Z"
      },
      {
        "duration": -907,
        "start_time": "2021-06-10T19:10:59.080Z"
      },
      {
        "duration": -907,
        "start_time": "2021-06-10T19:10:59.082Z"
      },
      {
        "duration": -908,
        "start_time": "2021-06-10T19:10:59.084Z"
      },
      {
        "duration": -913,
        "start_time": "2021-06-10T19:10:59.090Z"
      },
      {
        "duration": 28,
        "start_time": "2021-06-10T19:13:07.500Z"
      },
      {
        "duration": 6,
        "start_time": "2021-06-10T19:13:09.626Z"
      },
      {
        "duration": 232,
        "start_time": "2021-06-10T19:13:10.123Z"
      },
      {
        "duration": 8,
        "start_time": "2021-06-10T19:13:13.680Z"
      },
      {
        "duration": 1514,
        "start_time": "2021-06-10T19:13:25.877Z"
      },
      {
        "duration": 34,
        "start_time": "2021-06-10T19:13:27.394Z"
      },
      {
        "duration": 4,
        "start_time": "2021-06-10T19:13:27.431Z"
      },
      {
        "duration": 20,
        "start_time": "2021-06-10T19:13:27.438Z"
      },
      {
        "duration": 10,
        "start_time": "2021-06-10T19:13:27.460Z"
      },
      {
        "duration": 14,
        "start_time": "2021-06-10T19:13:27.472Z"
      },
      {
        "duration": 28,
        "start_time": "2021-06-10T19:13:27.489Z"
      },
      {
        "duration": 3,
        "start_time": "2021-06-10T19:13:27.521Z"
      },
      {
        "duration": 10,
        "start_time": "2021-06-10T19:13:27.527Z"
      },
      {
        "duration": 22,
        "start_time": "2021-06-10T19:13:27.539Z"
      },
      {
        "duration": 31,
        "start_time": "2021-06-10T19:13:27.563Z"
      },
      {
        "duration": 6,
        "start_time": "2021-06-10T19:13:27.596Z"
      },
      {
        "duration": 20,
        "start_time": "2021-06-10T19:13:27.604Z"
      },
      {
        "duration": 11,
        "start_time": "2021-06-10T19:13:27.626Z"
      },
      {
        "duration": 10,
        "start_time": "2021-06-10T19:13:27.639Z"
      },
      {
        "duration": 33,
        "start_time": "2021-06-10T19:13:27.651Z"
      },
      {
        "duration": 57,
        "start_time": "2021-06-10T19:13:27.687Z"
      },
      {
        "duration": 5,
        "start_time": "2021-06-10T19:13:27.747Z"
      },
      {
        "duration": 32,
        "start_time": "2021-06-10T19:13:27.754Z"
      },
      {
        "duration": 10,
        "start_time": "2021-06-10T19:13:27.788Z"
      },
      {
        "duration": 11,
        "start_time": "2021-06-10T19:13:27.800Z"
      },
      {
        "duration": 17,
        "start_time": "2021-06-10T19:13:27.814Z"
      },
      {
        "duration": 9488,
        "start_time": "2021-06-10T19:13:27.839Z"
      },
      {
        "duration": 25,
        "start_time": "2021-06-10T19:13:37.330Z"
      },
      {
        "duration": 26,
        "start_time": "2021-06-10T19:13:37.358Z"
      },
      {
        "duration": 258,
        "start_time": "2021-06-10T19:13:37.387Z"
      },
      {
        "duration": 8,
        "start_time": "2021-06-10T19:13:37.648Z"
      },
      {
        "duration": 54,
        "start_time": "2021-06-10T19:13:37.658Z"
      },
      {
        "duration": 101,
        "start_time": "2021-06-10T19:13:37.785Z"
      },
      {
        "duration": 54,
        "start_time": "2021-06-10T19:13:37.889Z"
      },
      {
        "duration": 8,
        "start_time": "2021-06-10T19:13:37.945Z"
      },
      {
        "duration": 6,
        "start_time": "2021-06-10T19:13:37.984Z"
      },
      {
        "duration": 26,
        "start_time": "2021-06-10T19:13:37.992Z"
      },
      {
        "duration": 81,
        "start_time": "2021-06-10T19:13:38.021Z"
      },
      {
        "duration": 8,
        "start_time": "2021-06-10T19:13:38.104Z"
      },
      {
        "duration": 137,
        "start_time": "2021-06-10T19:13:38.115Z"
      },
      {
        "duration": 100,
        "start_time": "2021-06-10T19:13:38.285Z"
      },
      {
        "duration": 13563,
        "start_time": "2021-06-10T19:13:38.387Z"
      },
      {
        "duration": 11,
        "start_time": "2021-06-10T19:13:51.952Z"
      },
      {
        "duration": 23,
        "start_time": "2021-06-10T19:13:51.965Z"
      },
      {
        "duration": 8,
        "start_time": "2021-06-10T19:13:51.990Z"
      },
      {
        "duration": 264,
        "start_time": "2021-06-10T19:13:52.000Z"
      },
      {
        "duration": 30,
        "start_time": "2021-06-10T19:40:05.668Z"
      },
      {
        "duration": 8,
        "start_time": "2021-06-10T19:42:05.161Z"
      },
      {
        "duration": 30,
        "start_time": "2021-06-10T19:44:59.418Z"
      },
      {
        "duration": 8,
        "start_time": "2021-06-10T19:45:00.961Z"
      },
      {
        "duration": 103,
        "start_time": "2021-06-10T19:47:38.123Z"
      },
      {
        "duration": 9,
        "start_time": "2021-06-10T19:47:38.859Z"
      },
      {
        "duration": 377,
        "start_time": "2021-06-10T19:47:47.355Z"
      },
      {
        "duration": 378,
        "start_time": "2021-06-10T19:47:53.927Z"
      },
      {
        "duration": 6,
        "start_time": "2021-06-10T19:48:04.748Z"
      },
      {
        "duration": 30,
        "start_time": "2021-06-10T20:04:15.399Z"
      },
      {
        "duration": 360,
        "start_time": "2021-06-10T20:04:15.941Z"
      },
      {
        "duration": 249,
        "start_time": "2021-06-10T20:04:16.389Z"
      },
      {
        "duration": 6,
        "start_time": "2021-06-10T20:04:32.352Z"
      },
      {
        "duration": 241,
        "start_time": "2021-06-10T20:04:33.672Z"
      },
      {
        "duration": 5,
        "start_time": "2021-06-10T20:07:36.368Z"
      },
      {
        "duration": 9,
        "start_time": "2021-06-10T20:08:02.239Z"
      },
      {
        "duration": 9,
        "start_time": "2021-06-10T20:08:39.271Z"
      },
      {
        "duration": 9,
        "start_time": "2021-06-10T20:08:49.684Z"
      },
      {
        "duration": 1388,
        "start_time": "2021-06-10T20:08:58.116Z"
      },
      {
        "duration": 35,
        "start_time": "2021-06-10T20:08:59.507Z"
      },
      {
        "duration": 3,
        "start_time": "2021-06-10T20:08:59.545Z"
      },
      {
        "duration": 7,
        "start_time": "2021-06-10T20:08:59.551Z"
      },
      {
        "duration": 7,
        "start_time": "2021-06-10T20:08:59.560Z"
      },
      {
        "duration": 15,
        "start_time": "2021-06-10T20:08:59.569Z"
      },
      {
        "duration": 23,
        "start_time": "2021-06-10T20:08:59.586Z"
      },
      {
        "duration": 3,
        "start_time": "2021-06-10T20:08:59.611Z"
      },
      {
        "duration": 6,
        "start_time": "2021-06-10T20:08:59.618Z"
      },
      {
        "duration": 15,
        "start_time": "2021-06-10T20:08:59.627Z"
      },
      {
        "duration": 52,
        "start_time": "2021-06-10T20:08:59.645Z"
      },
      {
        "duration": 5,
        "start_time": "2021-06-10T20:08:59.699Z"
      },
      {
        "duration": 15,
        "start_time": "2021-06-10T20:08:59.707Z"
      },
      {
        "duration": 11,
        "start_time": "2021-06-10T20:08:59.724Z"
      },
      {
        "duration": 49,
        "start_time": "2021-06-10T20:08:59.738Z"
      },
      {
        "duration": 6,
        "start_time": "2021-06-10T20:08:59.790Z"
      },
      {
        "duration": 63,
        "start_time": "2021-06-10T20:08:59.798Z"
      },
      {
        "duration": 24,
        "start_time": "2021-06-10T20:08:59.863Z"
      },
      {
        "duration": 6,
        "start_time": "2021-06-10T20:08:59.889Z"
      },
      {
        "duration": 7,
        "start_time": "2021-06-10T20:08:59.898Z"
      },
      {
        "duration": 9,
        "start_time": "2021-06-10T20:08:59.908Z"
      },
      {
        "duration": 10,
        "start_time": "2021-06-10T20:08:59.919Z"
      },
      {
        "duration": 379,
        "start_time": "2021-06-10T20:08:59.931Z"
      },
      {
        "duration": -860,
        "start_time": "2021-06-10T20:09:01.174Z"
      },
      {
        "duration": -860,
        "start_time": "2021-06-10T20:09:01.176Z"
      },
      {
        "duration": -871,
        "start_time": "2021-06-10T20:09:01.188Z"
      },
      {
        "duration": -872,
        "start_time": "2021-06-10T20:09:01.191Z"
      },
      {
        "duration": -874,
        "start_time": "2021-06-10T20:09:01.194Z"
      },
      {
        "duration": -875,
        "start_time": "2021-06-10T20:09:01.196Z"
      },
      {
        "duration": -877,
        "start_time": "2021-06-10T20:09:01.200Z"
      },
      {
        "duration": -878,
        "start_time": "2021-06-10T20:09:01.202Z"
      },
      {
        "duration": -879,
        "start_time": "2021-06-10T20:09:01.204Z"
      },
      {
        "duration": -884,
        "start_time": "2021-06-10T20:09:01.210Z"
      },
      {
        "duration": -885,
        "start_time": "2021-06-10T20:09:01.213Z"
      },
      {
        "duration": -886,
        "start_time": "2021-06-10T20:09:01.215Z"
      },
      {
        "duration": -885,
        "start_time": "2021-06-10T20:09:01.216Z"
      },
      {
        "duration": -886,
        "start_time": "2021-06-10T20:09:01.218Z"
      },
      {
        "duration": -886,
        "start_time": "2021-06-10T20:09:01.220Z"
      },
      {
        "duration": -887,
        "start_time": "2021-06-10T20:09:01.222Z"
      },
      {
        "duration": -891,
        "start_time": "2021-06-10T20:09:01.228Z"
      },
      {
        "duration": -893,
        "start_time": "2021-06-10T20:09:01.231Z"
      },
      {
        "duration": -900,
        "start_time": "2021-06-10T20:09:01.239Z"
      },
      {
        "duration": -900,
        "start_time": "2021-06-10T20:09:01.241Z"
      },
      {
        "duration": -905,
        "start_time": "2021-06-10T20:09:01.247Z"
      },
      {
        "duration": -906,
        "start_time": "2021-06-10T20:09:01.249Z"
      },
      {
        "duration": -906,
        "start_time": "2021-06-10T20:09:01.251Z"
      },
      {
        "duration": -907,
        "start_time": "2021-06-10T20:09:01.253Z"
      },
      {
        "duration": -907,
        "start_time": "2021-06-10T20:09:01.255Z"
      },
      {
        "duration": -909,
        "start_time": "2021-06-10T20:09:01.258Z"
      },
      {
        "duration": -909,
        "start_time": "2021-06-10T20:09:01.260Z"
      },
      {
        "duration": -883,
        "start_time": "2021-06-10T20:09:01.266Z"
      },
      {
        "duration": 9,
        "start_time": "2021-06-10T20:09:48.659Z"
      },
      {
        "duration": 9184,
        "start_time": "2021-06-10T20:10:24.486Z"
      },
      {
        "duration": 11,
        "start_time": "2021-06-10T20:10:33.862Z"
      },
      {
        "duration": 285,
        "start_time": "2021-06-10T20:11:25.389Z"
      },
      {
        "duration": 247,
        "start_time": "2021-06-10T20:11:25.813Z"
      },
      {
        "duration": 29,
        "start_time": "2021-06-10T20:11:32.438Z"
      },
      {
        "duration": 10,
        "start_time": "2021-06-10T20:11:33.006Z"
      },
      {
        "duration": 237,
        "start_time": "2021-06-10T20:11:35.141Z"
      },
      {
        "duration": 9,
        "start_time": "2021-06-10T20:11:40.807Z"
      },
      {
        "duration": 1385,
        "start_time": "2021-06-10T20:11:49.938Z"
      },
      {
        "duration": 38,
        "start_time": "2021-06-10T20:11:51.325Z"
      },
      {
        "duration": 4,
        "start_time": "2021-06-10T20:11:51.366Z"
      },
      {
        "duration": 6,
        "start_time": "2021-06-10T20:11:51.383Z"
      },
      {
        "duration": 18,
        "start_time": "2021-06-10T20:11:51.391Z"
      },
      {
        "duration": 14,
        "start_time": "2021-06-10T20:11:51.412Z"
      },
      {
        "duration": 28,
        "start_time": "2021-06-10T20:11:51.429Z"
      },
      {
        "duration": 3,
        "start_time": "2021-06-10T20:11:51.461Z"
      },
      {
        "duration": 18,
        "start_time": "2021-06-10T20:11:51.467Z"
      },
      {
        "duration": 28,
        "start_time": "2021-06-10T20:11:51.487Z"
      },
      {
        "duration": 19,
        "start_time": "2021-06-10T20:11:51.518Z"
      },
      {
        "duration": 7,
        "start_time": "2021-06-10T20:11:51.540Z"
      },
      {
        "duration": 33,
        "start_time": "2021-06-10T20:11:51.550Z"
      },
      {
        "duration": 13,
        "start_time": "2021-06-10T20:11:51.586Z"
      },
      {
        "duration": 13,
        "start_time": "2021-06-10T20:11:51.602Z"
      },
      {
        "duration": 16,
        "start_time": "2021-06-10T20:11:51.618Z"
      },
      {
        "duration": 88,
        "start_time": "2021-06-10T20:11:51.637Z"
      },
      {
        "duration": 7,
        "start_time": "2021-06-10T20:11:51.728Z"
      },
      {
        "duration": 11,
        "start_time": "2021-06-10T20:11:51.738Z"
      },
      {
        "duration": 30,
        "start_time": "2021-06-10T20:11:51.752Z"
      },
      {
        "duration": 12,
        "start_time": "2021-06-10T20:11:51.785Z"
      },
      {
        "duration": 13,
        "start_time": "2021-06-10T20:11:51.800Z"
      },
      {
        "duration": 9,
        "start_time": "2021-06-10T20:11:51.818Z"
      },
      {
        "duration": 9218,
        "start_time": "2021-06-10T20:11:51.831Z"
      },
      {
        "duration": 37,
        "start_time": "2021-06-10T20:12:01.052Z"
      },
      {
        "duration": 6,
        "start_time": "2021-06-10T20:12:01.091Z"
      },
      {
        "duration": 266,
        "start_time": "2021-06-10T20:12:01.099Z"
      },
      {
        "duration": 17,
        "start_time": "2021-06-10T20:12:01.367Z"
      },
      {
        "duration": 10,
        "start_time": "2021-06-10T20:12:01.387Z"
      },
      {
        "duration": 85,
        "start_time": "2021-06-10T20:12:01.399Z"
      },
      {
        "duration": 101,
        "start_time": "2021-06-10T20:12:01.487Z"
      },
      {
        "duration": 24,
        "start_time": "2021-06-10T20:12:01.591Z"
      },
      {
        "duration": 72,
        "start_time": "2021-06-10T20:12:01.618Z"
      },
      {
        "duration": 12,
        "start_time": "2021-06-10T20:12:01.693Z"
      },
      {
        "duration": 12,
        "start_time": "2021-06-10T20:12:01.708Z"
      },
      {
        "duration": 37,
        "start_time": "2021-06-10T20:12:01.722Z"
      },
      {
        "duration": 88,
        "start_time": "2021-06-10T20:12:01.761Z"
      },
      {
        "duration": 9,
        "start_time": "2021-06-10T20:12:01.851Z"
      },
      {
        "duration": 138,
        "start_time": "2021-06-10T20:12:01.862Z"
      },
      {
        "duration": 88,
        "start_time": "2021-06-10T20:12:02.003Z"
      },
      {
        "duration": 13005,
        "start_time": "2021-06-10T20:12:02.184Z"
      },
      {
        "duration": 28,
        "start_time": "2021-06-10T20:12:15.191Z"
      },
      {
        "duration": 10,
        "start_time": "2021-06-10T20:12:15.221Z"
      },
      {
        "duration": 70,
        "start_time": "2021-06-10T20:12:15.235Z"
      },
      {
        "duration": 7,
        "start_time": "2021-06-10T20:12:15.308Z"
      },
      {
        "duration": 280,
        "start_time": "2021-06-10T20:12:15.317Z"
      },
      {
        "duration": 6,
        "start_time": "2021-06-10T20:12:15.599Z"
      },
      {
        "duration": 16,
        "start_time": "2021-06-10T20:12:15.607Z"
      },
      {
        "duration": 5,
        "start_time": "2021-06-10T20:12:15.625Z"
      },
      {
        "duration": 7,
        "start_time": "2021-06-10T20:12:15.633Z"
      },
      {
        "duration": 282,
        "start_time": "2021-06-10T20:12:15.642Z"
      },
      {
        "duration": 12991,
        "start_time": "2021-06-10T20:18:25.504Z"
      },
      {
        "duration": 117,
        "start_time": "2021-06-10T20:18:46.368Z"
      },
      {
        "duration": 8,
        "start_time": "2021-06-10T20:18:46.992Z"
      },
      {
        "duration": 373,
        "start_time": "2021-06-10T20:18:50.775Z"
      },
      {
        "duration": 9,
        "start_time": "2021-06-10T20:19:07.823Z"
      },
      {
        "duration": 52,
        "start_time": "2021-06-10T20:23:48.554Z"
      },
      {
        "duration": 52,
        "start_time": "2021-06-10T20:24:28.402Z"
      },
      {
        "duration": 7,
        "start_time": "2021-06-10T20:24:32.937Z"
      },
      {
        "duration": 8,
        "start_time": "2021-06-10T20:24:36.872Z"
      },
      {
        "duration": 9,
        "start_time": "2021-06-10T20:24:40.800Z"
      },
      {
        "duration": 53,
        "start_time": "2021-06-10T20:25:05.577Z"
      },
      {
        "duration": 8,
        "start_time": "2021-06-10T20:25:06.336Z"
      },
      {
        "duration": 71,
        "start_time": "2021-06-10T20:25:30.402Z"
      },
      {
        "duration": 10,
        "start_time": "2021-06-10T20:25:30.890Z"
      },
      {
        "duration": 79,
        "start_time": "2021-06-10T20:29:20.215Z"
      },
      {
        "duration": 9,
        "start_time": "2021-06-10T20:29:23.747Z"
      },
      {
        "duration": 1469,
        "start_time": "2021-06-10T20:30:21.969Z"
      },
      {
        "duration": 37,
        "start_time": "2021-06-10T20:30:23.440Z"
      },
      {
        "duration": 4,
        "start_time": "2021-06-10T20:30:23.480Z"
      },
      {
        "duration": 7,
        "start_time": "2021-06-10T20:30:23.487Z"
      },
      {
        "duration": 10,
        "start_time": "2021-06-10T20:30:23.497Z"
      },
      {
        "duration": 9,
        "start_time": "2021-06-10T20:30:23.509Z"
      },
      {
        "duration": 24,
        "start_time": "2021-06-10T20:30:23.520Z"
      },
      {
        "duration": 3,
        "start_time": "2021-06-10T20:30:23.546Z"
      },
      {
        "duration": 30,
        "start_time": "2021-06-10T20:30:23.554Z"
      },
      {
        "duration": 18,
        "start_time": "2021-06-10T20:30:23.587Z"
      },
      {
        "duration": 23,
        "start_time": "2021-06-10T20:30:23.607Z"
      },
      {
        "duration": 6,
        "start_time": "2021-06-10T20:30:23.632Z"
      },
      {
        "duration": 43,
        "start_time": "2021-06-10T20:30:23.640Z"
      },
      {
        "duration": 12,
        "start_time": "2021-06-10T20:30:23.686Z"
      },
      {
        "duration": 11,
        "start_time": "2021-06-10T20:30:23.700Z"
      },
      {
        "duration": 8,
        "start_time": "2021-06-10T20:30:23.713Z"
      },
      {
        "duration": 88,
        "start_time": "2021-06-10T20:30:23.724Z"
      },
      {
        "duration": 6,
        "start_time": "2021-06-10T20:30:23.815Z"
      },
      {
        "duration": 8,
        "start_time": "2021-06-10T20:30:23.824Z"
      },
      {
        "duration": 8,
        "start_time": "2021-06-10T20:30:23.834Z"
      },
      {
        "duration": 40,
        "start_time": "2021-06-10T20:30:23.845Z"
      },
      {
        "duration": 11,
        "start_time": "2021-06-10T20:30:23.888Z"
      },
      {
        "duration": 11,
        "start_time": "2021-06-10T20:30:23.902Z"
      },
      {
        "duration": 9594,
        "start_time": "2021-06-10T20:30:23.916Z"
      },
      {
        "duration": 28,
        "start_time": "2021-06-10T20:30:33.513Z"
      },
      {
        "duration": 7,
        "start_time": "2021-06-10T20:30:33.543Z"
      },
      {
        "duration": 262,
        "start_time": "2021-06-10T20:30:33.584Z"
      },
      {
        "duration": 8,
        "start_time": "2021-06-10T20:30:33.849Z"
      },
      {
        "duration": 27,
        "start_time": "2021-06-10T20:30:33.859Z"
      },
      {
        "duration": 28,
        "start_time": "2021-06-10T20:30:33.889Z"
      },
      {
        "duration": 163,
        "start_time": "2021-06-10T20:30:33.920Z"
      },
      {
        "duration": 10,
        "start_time": "2021-06-10T20:30:34.086Z"
      },
      {
        "duration": 51,
        "start_time": "2021-06-10T20:30:34.099Z"
      },
      {
        "duration": 400,
        "start_time": "2021-06-10T20:30:34.152Z"
      },
      {
        "duration": -858,
        "start_time": "2021-06-10T20:30:35.413Z"
      },
      {
        "duration": -860,
        "start_time": "2021-06-10T20:30:35.416Z"
      },
      {
        "duration": -860,
        "start_time": "2021-06-10T20:30:35.418Z"
      },
      {
        "duration": -861,
        "start_time": "2021-06-10T20:30:35.420Z"
      },
      {
        "duration": -866,
        "start_time": "2021-06-10T20:30:35.427Z"
      },
      {
        "duration": -868,
        "start_time": "2021-06-10T20:30:35.430Z"
      },
      {
        "duration": -868,
        "start_time": "2021-06-10T20:30:35.432Z"
      },
      {
        "duration": -868,
        "start_time": "2021-06-10T20:30:35.434Z"
      },
      {
        "duration": -869,
        "start_time": "2021-06-10T20:30:35.436Z"
      },
      {
        "duration": -873,
        "start_time": "2021-06-10T20:30:35.442Z"
      },
      {
        "duration": -875,
        "start_time": "2021-06-10T20:30:35.445Z"
      },
      {
        "duration": -874,
        "start_time": "2021-06-10T20:30:35.446Z"
      },
      {
        "duration": -875,
        "start_time": "2021-06-10T20:30:35.448Z"
      },
      {
        "duration": -875,
        "start_time": "2021-06-10T20:30:35.450Z"
      },
      {
        "duration": -876,
        "start_time": "2021-06-10T20:30:35.452Z"
      },
      {
        "duration": 10,
        "start_time": "2021-06-10T20:31:13.071Z"
      },
      {
        "duration": 1423,
        "start_time": "2021-06-10T20:31:19.176Z"
      },
      {
        "duration": 35,
        "start_time": "2021-06-10T20:31:20.602Z"
      },
      {
        "duration": 4,
        "start_time": "2021-06-10T20:31:20.640Z"
      },
      {
        "duration": 5,
        "start_time": "2021-06-10T20:31:20.647Z"
      },
      {
        "duration": 6,
        "start_time": "2021-06-10T20:31:20.655Z"
      },
      {
        "duration": 20,
        "start_time": "2021-06-10T20:31:20.663Z"
      },
      {
        "duration": 22,
        "start_time": "2021-06-10T20:31:20.686Z"
      },
      {
        "duration": 3,
        "start_time": "2021-06-10T20:31:20.712Z"
      },
      {
        "duration": 7,
        "start_time": "2021-06-10T20:31:20.718Z"
      },
      {
        "duration": 17,
        "start_time": "2021-06-10T20:31:20.727Z"
      },
      {
        "duration": 44,
        "start_time": "2021-06-10T20:31:20.746Z"
      },
      {
        "duration": 6,
        "start_time": "2021-06-10T20:31:20.792Z"
      },
      {
        "duration": 16,
        "start_time": "2021-06-10T20:31:20.801Z"
      },
      {
        "duration": 11,
        "start_time": "2021-06-10T20:31:20.820Z"
      },
      {
        "duration": 50,
        "start_time": "2021-06-10T20:31:20.833Z"
      },
      {
        "duration": 6,
        "start_time": "2021-06-10T20:31:20.885Z"
      },
      {
        "duration": 61,
        "start_time": "2021-06-10T20:31:20.894Z"
      },
      {
        "duration": 25,
        "start_time": "2021-06-10T20:31:20.958Z"
      },
      {
        "duration": 5,
        "start_time": "2021-06-10T20:31:20.986Z"
      },
      {
        "duration": 12,
        "start_time": "2021-06-10T20:31:20.994Z"
      },
      {
        "duration": 10,
        "start_time": "2021-06-10T20:31:21.009Z"
      },
      {
        "duration": 11,
        "start_time": "2021-06-10T20:31:21.021Z"
      },
      {
        "duration": 52,
        "start_time": "2021-06-10T20:31:21.037Z"
      },
      {
        "duration": 13282,
        "start_time": "2021-06-10T20:31:21.094Z"
      },
      {
        "duration": 31,
        "start_time": "2021-06-10T20:31:34.384Z"
      },
      {
        "duration": 6,
        "start_time": "2021-06-10T20:31:34.418Z"
      },
      {
        "duration": 408,
        "start_time": "2021-06-10T20:31:34.427Z"
      },
      {
        "duration": 10,
        "start_time": "2021-06-10T20:31:34.838Z"
      },
      {
        "duration": 32,
        "start_time": "2021-06-10T20:31:34.851Z"
      },
      {
        "duration": 34,
        "start_time": "2021-06-10T20:31:34.886Z"
      },
      {
        "duration": 70,
        "start_time": "2021-06-10T20:31:34.923Z"
      },
      {
        "duration": 95,
        "start_time": "2021-06-10T20:31:34.996Z"
      },
      {
        "duration": 55,
        "start_time": "2021-06-10T20:31:35.093Z"
      },
      {
        "duration": 35,
        "start_time": "2021-06-10T20:31:35.150Z"
      },
      {
        "duration": 6,
        "start_time": "2021-06-10T20:31:35.187Z"
      },
      {
        "duration": 23,
        "start_time": "2021-06-10T20:31:35.195Z"
      },
      {
        "duration": 95,
        "start_time": "2021-06-10T20:31:35.221Z"
      },
      {
        "duration": 8,
        "start_time": "2021-06-10T20:31:35.319Z"
      },
      {
        "duration": 160,
        "start_time": "2021-06-10T20:31:35.329Z"
      },
      {
        "duration": 103,
        "start_time": "2021-06-10T20:31:35.493Z"
      },
      {
        "duration": 13405,
        "start_time": "2021-06-10T20:31:35.599Z"
      },
      {
        "duration": 9,
        "start_time": "2021-06-10T20:31:49.006Z"
      },
      {
        "duration": 37,
        "start_time": "2021-06-10T20:31:49.018Z"
      },
      {
        "duration": 31,
        "start_time": "2021-06-10T20:31:49.059Z"
      },
      {
        "duration": 36,
        "start_time": "2021-06-10T20:31:49.092Z"
      },
      {
        "duration": 6,
        "start_time": "2021-06-10T20:31:49.131Z"
      },
      {
        "duration": 285,
        "start_time": "2021-06-10T20:31:49.140Z"
      },
      {
        "duration": 5,
        "start_time": "2021-06-10T20:31:49.428Z"
      },
      {
        "duration": 11,
        "start_time": "2021-06-10T20:31:49.436Z"
      },
      {
        "duration": 1518,
        "start_time": "2021-06-11T09:07:58.943Z"
      },
      {
        "duration": 46,
        "start_time": "2021-06-11T09:08:00.464Z"
      },
      {
        "duration": 6,
        "start_time": "2021-06-11T09:08:00.515Z"
      },
      {
        "duration": 13,
        "start_time": "2021-06-11T09:08:00.525Z"
      },
      {
        "duration": 13,
        "start_time": "2021-06-11T09:08:00.541Z"
      },
      {
        "duration": 13,
        "start_time": "2021-06-11T09:08:00.557Z"
      },
      {
        "duration": 54,
        "start_time": "2021-06-11T09:08:00.573Z"
      },
      {
        "duration": 4,
        "start_time": "2021-06-11T09:08:00.630Z"
      },
      {
        "duration": 13,
        "start_time": "2021-06-11T09:08:00.640Z"
      },
      {
        "duration": 31,
        "start_time": "2021-06-11T09:08:00.657Z"
      },
      {
        "duration": 28,
        "start_time": "2021-06-11T09:08:00.709Z"
      },
      {
        "duration": 8,
        "start_time": "2021-06-11T09:08:00.741Z"
      },
      {
        "duration": 28,
        "start_time": "2021-06-11T09:08:00.752Z"
      },
      {
        "duration": 41,
        "start_time": "2021-06-11T09:08:00.783Z"
      },
      {
        "duration": 22,
        "start_time": "2021-06-11T09:08:00.827Z"
      },
      {
        "duration": 45,
        "start_time": "2021-06-11T09:08:07.476Z"
      },
      {
        "duration": 110,
        "start_time": "2021-06-11T09:09:56.495Z"
      },
      {
        "duration": 6,
        "start_time": "2021-06-11T09:12:30.953Z"
      },
      {
        "duration": 57,
        "start_time": "2021-06-11T09:12:30.961Z"
      },
      {
        "duration": 4,
        "start_time": "2021-06-11T09:12:31.021Z"
      },
      {
        "duration": 21,
        "start_time": "2021-06-11T09:12:31.028Z"
      },
      {
        "duration": 14,
        "start_time": "2021-06-11T09:12:31.052Z"
      },
      {
        "duration": 14,
        "start_time": "2021-06-11T09:12:31.068Z"
      },
      {
        "duration": 33,
        "start_time": "2021-06-11T09:12:31.084Z"
      },
      {
        "duration": 3,
        "start_time": "2021-06-11T09:12:31.119Z"
      },
      {
        "duration": 30,
        "start_time": "2021-06-11T09:12:31.126Z"
      },
      {
        "duration": 23,
        "start_time": "2021-06-11T09:12:31.160Z"
      },
      {
        "duration": 26,
        "start_time": "2021-06-11T09:12:31.186Z"
      },
      {
        "duration": 9,
        "start_time": "2021-06-11T09:12:31.215Z"
      },
      {
        "duration": 24,
        "start_time": "2021-06-11T09:12:31.227Z"
      },
      {
        "duration": 17,
        "start_time": "2021-06-11T09:12:31.254Z"
      },
      {
        "duration": 42,
        "start_time": "2021-06-11T09:12:31.275Z"
      },
      {
        "duration": 50,
        "start_time": "2021-06-11T09:12:31.321Z"
      },
      {
        "duration": 7,
        "start_time": "2021-06-11T09:12:31.375Z"
      },
      {
        "duration": 90,
        "start_time": "2021-06-11T09:12:31.385Z"
      },
      {
        "duration": 6,
        "start_time": "2021-06-11T09:12:31.477Z"
      },
      {
        "duration": 26,
        "start_time": "2021-06-11T09:12:31.485Z"
      },
      {
        "duration": 15,
        "start_time": "2021-06-11T09:12:31.513Z"
      },
      {
        "duration": 22,
        "start_time": "2021-06-11T09:12:31.530Z"
      },
      {
        "duration": 19,
        "start_time": "2021-06-11T09:12:31.554Z"
      },
      {
        "duration": 20,
        "start_time": "2021-06-11T09:12:31.575Z"
      },
      {
        "duration": 10482,
        "start_time": "2021-06-11T09:12:31.598Z"
      },
      {
        "duration": 39,
        "start_time": "2021-06-11T09:12:42.083Z"
      },
      {
        "duration": 5,
        "start_time": "2021-06-11T09:12:42.127Z"
      },
      {
        "duration": 341,
        "start_time": "2021-06-11T09:12:42.135Z"
      },
      {
        "duration": 8,
        "start_time": "2021-06-11T09:12:42.479Z"
      },
      {
        "duration": 29,
        "start_time": "2021-06-11T09:12:42.490Z"
      },
      {
        "duration": 90,
        "start_time": "2021-06-11T09:12:42.522Z"
      },
      {
        "duration": 177,
        "start_time": "2021-06-11T09:13:38.932Z"
      },
      {
        "duration": 8,
        "start_time": "2021-06-11T09:13:40.372Z"
      },
      {
        "duration": 38,
        "start_time": "2021-06-11T09:13:56.690Z"
      },
      {
        "duration": 9,
        "start_time": "2021-06-11T09:13:57.621Z"
      },
      {
        "duration": 398,
        "start_time": "2021-06-11T19:05:29.076Z"
      },
      {
        "duration": 1519,
        "start_time": "2021-06-11T19:05:35.655Z"
      },
      {
        "duration": 38,
        "start_time": "2021-06-11T19:05:37.177Z"
      },
      {
        "duration": 8,
        "start_time": "2021-06-11T19:05:37.218Z"
      },
      {
        "duration": 12,
        "start_time": "2021-06-11T19:05:37.229Z"
      },
      {
        "duration": 14,
        "start_time": "2021-06-11T19:05:37.243Z"
      },
      {
        "duration": 12,
        "start_time": "2021-06-11T19:05:37.260Z"
      },
      {
        "duration": 27,
        "start_time": "2021-06-11T19:05:37.274Z"
      },
      {
        "duration": 4,
        "start_time": "2021-06-11T19:05:37.306Z"
      },
      {
        "duration": 14,
        "start_time": "2021-06-11T19:05:37.313Z"
      },
      {
        "duration": 29,
        "start_time": "2021-06-11T19:05:37.330Z"
      },
      {
        "duration": 20,
        "start_time": "2021-06-11T19:05:37.361Z"
      },
      {
        "duration": 6,
        "start_time": "2021-06-11T19:05:37.383Z"
      },
      {
        "duration": 41,
        "start_time": "2021-06-11T19:05:37.391Z"
      },
      {
        "duration": 33,
        "start_time": "2021-06-11T19:05:37.434Z"
      },
      {
        "duration": 10,
        "start_time": "2021-06-11T19:05:37.469Z"
      },
      {
        "duration": 9,
        "start_time": "2021-06-11T19:05:37.482Z"
      },
      {
        "duration": 35,
        "start_time": "2021-06-11T19:05:37.494Z"
      },
      {
        "duration": 62,
        "start_time": "2021-06-11T19:05:37.531Z"
      },
      {
        "duration": 33,
        "start_time": "2021-06-11T19:05:37.595Z"
      },
      {
        "duration": 6,
        "start_time": "2021-06-11T19:05:37.631Z"
      },
      {
        "duration": 26,
        "start_time": "2021-06-11T19:05:37.639Z"
      },
      {
        "duration": 9,
        "start_time": "2021-06-11T19:05:37.667Z"
      },
      {
        "duration": 9,
        "start_time": "2021-06-11T19:05:37.681Z"
      },
      {
        "duration": 34,
        "start_time": "2021-06-11T19:05:37.693Z"
      },
      {
        "duration": 10102,
        "start_time": "2021-06-11T19:05:37.730Z"
      },
      {
        "duration": 25,
        "start_time": "2021-06-11T19:05:47.835Z"
      },
      {
        "duration": 5,
        "start_time": "2021-06-11T19:05:47.863Z"
      },
      {
        "duration": 276,
        "start_time": "2021-06-11T19:05:47.870Z"
      },
      {
        "duration": 7,
        "start_time": "2021-06-11T19:05:48.149Z"
      },
      {
        "duration": 9,
        "start_time": "2021-06-11T19:05:48.158Z"
      },
      {
        "duration": 71,
        "start_time": "2021-06-11T19:05:48.169Z"
      },
      {
        "duration": 101,
        "start_time": "2021-06-11T19:05:48.327Z"
      },
      {
        "duration": 8,
        "start_time": "2021-06-11T19:05:48.430Z"
      },
      {
        "duration": 58,
        "start_time": "2021-06-11T19:05:48.440Z"
      },
      {
        "duration": 8,
        "start_time": "2021-06-11T19:05:48.526Z"
      },
      {
        "duration": 6,
        "start_time": "2021-06-11T19:05:48.536Z"
      },
      {
        "duration": 24,
        "start_time": "2021-06-11T19:05:48.544Z"
      },
      {
        "duration": 102,
        "start_time": "2021-06-11T19:05:48.570Z"
      },
      {
        "duration": 8,
        "start_time": "2021-06-11T19:05:48.674Z"
      },
      {
        "duration": 145,
        "start_time": "2021-06-11T19:05:48.685Z"
      },
      {
        "duration": 193,
        "start_time": "2021-06-11T19:05:48.833Z"
      },
      {
        "duration": 14334,
        "start_time": "2021-06-11T19:05:49.028Z"
      },
      {
        "duration": 8,
        "start_time": "2021-06-11T19:06:03.365Z"
      },
      {
        "duration": 50,
        "start_time": "2021-06-11T19:06:03.375Z"
      },
      {
        "duration": 7,
        "start_time": "2021-06-11T19:06:03.428Z"
      },
      {
        "duration": 32,
        "start_time": "2021-06-11T19:06:03.437Z"
      },
      {
        "duration": 5,
        "start_time": "2021-06-11T19:06:03.471Z"
      },
      {
        "duration": 289,
        "start_time": "2021-06-11T19:06:03.479Z"
      },
      {
        "duration": 5,
        "start_time": "2021-06-11T19:06:03.770Z"
      },
      {
        "duration": 12,
        "start_time": "2021-06-11T19:06:03.778Z"
      },
      {
        "duration": 74,
        "start_time": "2021-06-11T19:08:35.394Z"
      },
      {
        "duration": 550,
        "start_time": "2021-06-11T19:18:12.312Z"
      },
      {
        "duration": 599,
        "start_time": "2021-06-11T19:18:22.711Z"
      },
      {
        "duration": 348,
        "start_time": "2021-06-11T19:18:29.999Z"
      },
      {
        "duration": 36,
        "start_time": "2021-06-11T19:18:41.231Z"
      },
      {
        "duration": 1468,
        "start_time": "2021-06-11T19:19:24.801Z"
      },
      {
        "duration": 44,
        "start_time": "2021-06-11T19:19:26.272Z"
      },
      {
        "duration": 4,
        "start_time": "2021-06-11T19:19:26.319Z"
      },
      {
        "duration": 5,
        "start_time": "2021-06-11T19:19:26.326Z"
      },
      {
        "duration": 5,
        "start_time": "2021-06-11T19:19:26.333Z"
      },
      {
        "duration": 6,
        "start_time": "2021-06-11T19:19:26.341Z"
      },
      {
        "duration": 23,
        "start_time": "2021-06-11T19:19:26.349Z"
      },
      {
        "duration": 94,
        "start_time": "2021-06-11T19:19:26.376Z"
      },
      {
        "duration": 5,
        "start_time": "2021-06-11T19:19:26.473Z"
      },
      {
        "duration": 16,
        "start_time": "2021-06-11T19:19:26.481Z"
      },
      {
        "duration": 38,
        "start_time": "2021-06-11T19:19:26.500Z"
      },
      {
        "duration": 6,
        "start_time": "2021-06-11T19:19:26.540Z"
      },
      {
        "duration": 16,
        "start_time": "2021-06-11T19:19:26.548Z"
      },
      {
        "duration": 65,
        "start_time": "2021-06-11T19:19:26.566Z"
      },
      {
        "duration": 312,
        "start_time": "2021-06-11T19:19:26.633Z"
      },
      {
        "duration": 37,
        "start_time": "2021-06-11T19:19:26.947Z"
      },
      {
        "duration": 39,
        "start_time": "2021-06-11T19:19:26.986Z"
      },
      {
        "duration": 12,
        "start_time": "2021-06-11T19:19:27.027Z"
      },
      {
        "duration": 7,
        "start_time": "2021-06-11T19:19:27.041Z"
      },
      {
        "duration": 88,
        "start_time": "2021-06-11T19:19:27.051Z"
      },
      {
        "duration": 6,
        "start_time": "2021-06-11T19:19:27.142Z"
      },
      {
        "duration": 10,
        "start_time": "2021-06-11T19:19:27.151Z"
      },
      {
        "duration": 6,
        "start_time": "2021-06-11T19:19:27.167Z"
      },
      {
        "duration": 9,
        "start_time": "2021-06-11T19:19:27.176Z"
      },
      {
        "duration": 9,
        "start_time": "2021-06-11T19:19:27.225Z"
      },
      {
        "duration": 8,
        "start_time": "2021-06-11T19:19:27.236Z"
      },
      {
        "duration": 10260,
        "start_time": "2021-06-11T19:19:27.247Z"
      },
      {
        "duration": 31,
        "start_time": "2021-06-11T19:19:37.510Z"
      },
      {
        "duration": 5,
        "start_time": "2021-06-11T19:19:37.544Z"
      },
      {
        "duration": 280,
        "start_time": "2021-06-11T19:19:37.551Z"
      },
      {
        "duration": 8,
        "start_time": "2021-06-11T19:19:37.833Z"
      },
      {
        "duration": 9,
        "start_time": "2021-06-11T19:19:37.844Z"
      },
      {
        "duration": 79,
        "start_time": "2021-06-11T19:19:37.855Z"
      },
      {
        "duration": 9,
        "start_time": "2021-06-11T19:19:38.026Z"
      },
      {
        "duration": 9,
        "start_time": "2021-06-11T19:19:38.038Z"
      },
      {
        "duration": 116,
        "start_time": "2021-06-11T19:19:38.049Z"
      },
      {
        "duration": 8,
        "start_time": "2021-06-11T19:19:38.167Z"
      },
      {
        "duration": 6,
        "start_time": "2021-06-11T19:19:38.177Z"
      },
      {
        "duration": 23,
        "start_time": "2021-06-11T19:19:38.185Z"
      },
      {
        "duration": 97,
        "start_time": "2021-06-11T19:19:38.210Z"
      },
      {
        "duration": 8,
        "start_time": "2021-06-11T19:19:38.309Z"
      },
      {
        "duration": 240,
        "start_time": "2021-06-11T19:19:38.319Z"
      },
      {
        "duration": 101,
        "start_time": "2021-06-11T19:19:38.626Z"
      },
      {
        "duration": 14711,
        "start_time": "2021-06-11T19:19:38.729Z"
      },
      {
        "duration": 9,
        "start_time": "2021-06-11T19:19:53.442Z"
      },
      {
        "duration": 28,
        "start_time": "2021-06-11T19:19:53.453Z"
      },
      {
        "duration": 8,
        "start_time": "2021-06-11T19:19:53.484Z"
      },
      {
        "duration": 31,
        "start_time": "2021-06-11T19:19:53.525Z"
      },
      {
        "duration": 5,
        "start_time": "2021-06-11T19:19:53.559Z"
      },
      {
        "duration": 292,
        "start_time": "2021-06-11T19:19:53.566Z"
      },
      {
        "duration": 5,
        "start_time": "2021-06-11T19:19:53.860Z"
      },
      {
        "duration": 13,
        "start_time": "2021-06-11T19:19:53.868Z"
      },
      {
        "duration": 339,
        "start_time": "2021-06-11T19:19:53.886Z"
      },
      {
        "duration": 413,
        "start_time": "2021-06-11T19:20:23.584Z"
      },
      {
        "duration": -2150,
        "start_time": "2021-06-11T19:23:26.760Z"
      },
      {
        "duration": 472,
        "start_time": "2021-06-11T19:23:45.975Z"
      },
      {
        "duration": 573,
        "start_time": "2021-06-11T19:23:52.127Z"
      },
      {
        "duration": 243,
        "start_time": "2021-06-11T19:24:15.015Z"
      },
      {
        "duration": 214,
        "start_time": "2021-06-11T19:24:20.393Z"
      },
      {
        "duration": 588,
        "start_time": "2021-06-11T19:28:16.329Z"
      },
      {
        "duration": 306,
        "start_time": "2021-06-11T19:28:21.409Z"
      },
      {
        "duration": 233,
        "start_time": "2021-06-11T19:28:35.400Z"
      },
      {
        "duration": 16,
        "start_time": "2021-06-11T19:41:54.784Z"
      },
      {
        "duration": 17,
        "start_time": "2021-06-11T19:43:54.084Z"
      },
      {
        "duration": 332,
        "start_time": "2021-06-11T19:43:54.489Z"
      },
      {
        "duration": 14,
        "start_time": "2021-06-11T19:44:04.876Z"
      },
      {
        "duration": 13,
        "start_time": "2021-06-11T19:45:12.990Z"
      },
      {
        "duration": 17,
        "start_time": "2021-06-11T19:45:22.464Z"
      },
      {
        "duration": 15,
        "start_time": "2021-06-11T19:45:23.281Z"
      },
      {
        "duration": 114,
        "start_time": "2021-06-11T19:50:24.735Z"
      },
      {
        "duration": 127,
        "start_time": "2021-06-11T19:50:32.466Z"
      },
      {
        "duration": 133,
        "start_time": "2021-06-11T19:50:48.394Z"
      },
      {
        "duration": 123,
        "start_time": "2021-06-11T19:51:35.759Z"
      },
      {
        "duration": 103,
        "start_time": "2021-06-11T19:53:15.367Z"
      },
      {
        "duration": 127,
        "start_time": "2021-06-11T19:53:26.010Z"
      },
      {
        "duration": 355,
        "start_time": "2021-06-11T19:57:01.112Z"
      },
      {
        "duration": 1501,
        "start_time": "2021-06-11T19:57:33.575Z"
      },
      {
        "duration": 36,
        "start_time": "2021-06-11T19:57:35.078Z"
      },
      {
        "duration": 4,
        "start_time": "2021-06-11T19:57:35.117Z"
      },
      {
        "duration": 7,
        "start_time": "2021-06-11T19:57:35.126Z"
      },
      {
        "duration": 9,
        "start_time": "2021-06-11T19:57:35.135Z"
      },
      {
        "duration": 7,
        "start_time": "2021-06-11T19:57:35.147Z"
      },
      {
        "duration": 27,
        "start_time": "2021-06-11T19:57:35.157Z"
      },
      {
        "duration": 85,
        "start_time": "2021-06-11T19:57:35.188Z"
      },
      {
        "duration": 6,
        "start_time": "2021-06-11T19:57:35.276Z"
      },
      {
        "duration": 21,
        "start_time": "2021-06-11T19:57:35.284Z"
      },
      {
        "duration": 16,
        "start_time": "2021-06-11T19:57:35.326Z"
      },
      {
        "duration": 5,
        "start_time": "2021-06-11T19:57:35.345Z"
      },
      {
        "duration": 18,
        "start_time": "2021-06-11T19:57:35.353Z"
      },
      {
        "duration": 60,
        "start_time": "2021-06-11T19:57:35.374Z"
      },
      {
        "duration": 429,
        "start_time": "2021-06-11T19:57:35.436Z"
      },
      {
        "duration": 229,
        "start_time": "2021-06-11T19:57:35.867Z"
      },
      {
        "duration": 332,
        "start_time": "2021-06-11T19:57:36.099Z"
      },
      {
        "duration": 251,
        "start_time": "2021-06-11T19:57:36.434Z"
      },
      {
        "duration": 43,
        "start_time": "2021-06-11T19:57:36.687Z"
      },
      {
        "duration": 16,
        "start_time": "2021-06-11T19:57:36.733Z"
      },
      {
        "duration": 14,
        "start_time": "2021-06-11T19:57:36.752Z"
      },
      {
        "duration": 10,
        "start_time": "2021-06-11T19:57:36.768Z"
      },
      {
        "duration": 81,
        "start_time": "2021-06-11T19:57:36.784Z"
      },
      {
        "duration": 6,
        "start_time": "2021-06-11T19:57:36.868Z"
      },
      {
        "duration": 10,
        "start_time": "2021-06-11T19:57:36.876Z"
      },
      {
        "duration": 7,
        "start_time": "2021-06-11T19:57:36.888Z"
      },
      {
        "duration": 38,
        "start_time": "2021-06-11T19:57:36.897Z"
      },
      {
        "duration": 8,
        "start_time": "2021-06-11T19:57:36.937Z"
      },
      {
        "duration": 8,
        "start_time": "2021-06-11T19:57:36.948Z"
      },
      {
        "duration": 9267,
        "start_time": "2021-06-11T19:57:36.959Z"
      },
      {
        "duration": 29,
        "start_time": "2021-06-11T19:57:46.228Z"
      },
      {
        "duration": 7,
        "start_time": "2021-06-11T19:57:46.259Z"
      },
      {
        "duration": 301,
        "start_time": "2021-06-11T19:57:46.269Z"
      },
      {
        "duration": 10,
        "start_time": "2021-06-11T19:57:46.573Z"
      },
      {
        "duration": 10,
        "start_time": "2021-06-11T19:57:46.586Z"
      },
      {
        "duration": 106,
        "start_time": "2021-06-11T19:57:46.626Z"
      },
      {
        "duration": 9,
        "start_time": "2021-06-11T19:57:46.825Z"
      },
      {
        "duration": 9,
        "start_time": "2021-06-11T19:57:46.836Z"
      },
      {
        "duration": 78,
        "start_time": "2021-06-11T19:57:46.847Z"
      },
      {
        "duration": 9,
        "start_time": "2021-06-11T19:57:46.928Z"
      },
      {
        "duration": 6,
        "start_time": "2021-06-11T19:57:46.939Z"
      },
      {
        "duration": 117,
        "start_time": "2021-06-11T19:57:46.948Z"
      },
      {
        "duration": 118,
        "start_time": "2021-06-11T19:57:47.067Z"
      },
      {
        "duration": 71,
        "start_time": "2021-06-11T19:57:47.187Z"
      },
      {
        "duration": 8,
        "start_time": "2021-06-11T19:57:47.260Z"
      },
      {
        "duration": 157,
        "start_time": "2021-06-11T19:57:47.270Z"
      },
      {
        "duration": 98,
        "start_time": "2021-06-11T19:57:47.430Z"
      },
      {
        "duration": 12862,
        "start_time": "2021-06-11T19:57:47.531Z"
      },
      {
        "duration": 9,
        "start_time": "2021-06-11T19:58:00.395Z"
      },
      {
        "duration": 44,
        "start_time": "2021-06-11T19:58:00.407Z"
      },
      {
        "duration": 8,
        "start_time": "2021-06-11T19:58:00.454Z"
      },
      {
        "duration": 37,
        "start_time": "2021-06-11T19:58:00.464Z"
      },
      {
        "duration": 26,
        "start_time": "2021-06-11T19:58:00.504Z"
      },
      {
        "duration": 268,
        "start_time": "2021-06-11T19:58:00.532Z"
      },
      {
        "duration": 5,
        "start_time": "2021-06-11T19:58:00.802Z"
      },
      {
        "duration": 9,
        "start_time": "2021-06-11T19:58:00.825Z"
      },
      {
        "duration": 4,
        "start_time": "2021-06-12T07:40:55.200Z"
      },
      {
        "duration": 95,
        "start_time": "2021-06-12T07:42:37.997Z"
      },
      {
        "duration": 326,
        "start_time": "2021-06-12T07:42:46.276Z"
      },
      {
        "duration": 257,
        "start_time": "2021-06-12T07:43:48.808Z"
      },
      {
        "duration": 5,
        "start_time": "2021-06-12T07:44:02.518Z"
      },
      {
        "duration": 4,
        "start_time": "2021-06-12T07:44:12.336Z"
      },
      {
        "duration": 5,
        "start_time": "2021-06-12T07:44:21.949Z"
      },
      {
        "duration": 250,
        "start_time": "2021-06-12T07:44:29.044Z"
      },
      {
        "duration": 252,
        "start_time": "2021-06-12T07:44:44.929Z"
      },
      {
        "duration": 255,
        "start_time": "2021-06-12T07:44:59.199Z"
      },
      {
        "duration": 245,
        "start_time": "2021-06-12T07:45:28.245Z"
      },
      {
        "duration": 265,
        "start_time": "2021-06-12T07:45:35.996Z"
      },
      {
        "duration": 5,
        "start_time": "2021-06-12T07:45:39.494Z"
      },
      {
        "duration": 248,
        "start_time": "2021-06-12T07:45:43.754Z"
      },
      {
        "duration": 292,
        "start_time": "2021-06-12T07:49:31.043Z"
      },
      {
        "duration": 249,
        "start_time": "2021-06-12T07:49:34.598Z"
      },
      {
        "duration": 245,
        "start_time": "2021-06-12T07:49:39.236Z"
      },
      {
        "duration": 91,
        "start_time": "2021-06-12T07:50:24.638Z"
      },
      {
        "duration": 306,
        "start_time": "2021-06-12T07:51:33.773Z"
      },
      {
        "duration": 264,
        "start_time": "2021-06-12T07:54:40.322Z"
      },
      {
        "duration": 4,
        "start_time": "2021-06-12T07:54:47.316Z"
      },
      {
        "duration": 254,
        "start_time": "2021-06-12T07:54:47.676Z"
      },
      {
        "duration": 5,
        "start_time": "2021-06-12T07:54:52.845Z"
      },
      {
        "duration": 4,
        "start_time": "2021-06-12T07:55:24.539Z"
      },
      {
        "duration": 5,
        "start_time": "2021-06-12T07:55:25.061Z"
      },
      {
        "duration": 5,
        "start_time": "2021-06-12T07:56:05.996Z"
      }
    ],
    "kernelspec": {
      "display_name": "Python 3",
      "language": "python",
      "name": "python3"
    },
    "language_info": {
      "codemirror_mode": {
        "name": "ipython",
        "version": 3
      },
      "file_extension": ".py",
      "mimetype": "text/x-python",
      "name": "python",
      "nbconvert_exporter": "python",
      "pygments_lexer": "ipython3",
      "version": "3.7.8"
    },
    "toc": {
      "base_numbering": 1,
      "nav_menu": {},
      "number_sections": true,
      "sideBar": true,
      "skip_h1_title": true,
      "title_cell": "Содержание",
      "title_sidebar": "Contents",
      "toc_cell": true,
      "toc_position": {},
      "toc_section_display": true,
      "toc_window_display": true
    },
    "colab": {
      "name": "customer_churn.ipynb",
      "provenance": [],
      "collapsed_sections": []
    }
  },
  "cells": [
    {
      "cell_type": "markdown",
      "metadata": {
        "id": "V3_FoVPRbaUE"
      },
      "source": [
        "# Отток клиентов"
      ]
    },
    {
      "cell_type": "markdown",
      "metadata": {
        "id": "HGMI3q4YbaUF"
      },
      "source": [
        "## Подготовка данных"
      ]
    },
    {
      "cell_type": "code",
      "metadata": {
        "id": "G6zlhIjrbaUG"
      },
      "source": [
        "import pandas as pd\n",
        "from sklearn.tree import DecisionTreeClassifier\n",
        "from sklearn.linear_model import LogisticRegression\n",
        "from sklearn.ensemble import RandomForestClassifier\n",
        "from sklearn.metrics import accuracy_score\n",
        "from sklearn.model_selection import train_test_split\n",
        "from sklearn.metrics import f1_score\n",
        "from sklearn.utils import shuffle\n",
        "from sklearn.metrics import roc_auc_score\n",
        "from sklearn.metrics import roc_curve\n",
        "from sklearn.metrics import confusion_matrix\n",
        "import matplotlib.pyplot as plt"
      ],
      "execution_count": null,
      "outputs": []
    },
    {
      "cell_type": "code",
      "metadata": {
        "id": "y0w6qOLfbaUI"
      },
      "source": [
        "df.columns = df.columns.str.lower()"
      ],
      "execution_count": null,
      "outputs": []
    },
    {
      "cell_type": "code",
      "metadata": {
        "id": "MGEBFPrJbaUI"
      },
      "source": [
        "#df.head()"
      ],
      "execution_count": null,
      "outputs": []
    },
    {
      "cell_type": "code",
      "metadata": {
        "id": "UmLTrYRTbaUJ"
      },
      "source": [
        "#df['geography'].value_counts()"
      ],
      "execution_count": null,
      "outputs": []
    },
    {
      "cell_type": "code",
      "metadata": {
        "id": "MMQhX8kHbaUJ"
      },
      "source": [
        "#df[df['tenure'].isnull()]"
      ],
      "execution_count": null,
      "outputs": []
    },
    {
      "cell_type": "code",
      "metadata": {
        "id": "-6Peai5RbaUJ",
        "outputId": "69a71305-deb6-4724-913a-25c84b2e673c"
      },
      "source": [
        "df.duplicated().sum()"
      ],
      "execution_count": null,
      "outputs": [
        {
          "output_type": "execute_result",
          "data": {
            "text/plain": [
              "0"
            ]
          },
          "metadata": {
            "tags": []
          },
          "execution_count": 7
        }
      ]
    },
    {
      "cell_type": "code",
      "metadata": {
        "id": "f7FYLF_IbaUK",
        "outputId": "16f4d3e5-47c8-45b5-ebbb-21026941c8ae"
      },
      "source": [
        "df.describe()"
      ],
      "execution_count": null,
      "outputs": [
        {
          "output_type": "execute_result",
          "data": {
            "text/html": [
              "<div>\n",
              "<style scoped>\n",
              "    .dataframe tbody tr th:only-of-type {\n",
              "        vertical-align: middle;\n",
              "    }\n",
              "\n",
              "    .dataframe tbody tr th {\n",
              "        vertical-align: top;\n",
              "    }\n",
              "\n",
              "    .dataframe thead th {\n",
              "        text-align: right;\n",
              "    }\n",
              "</style>\n",
              "<table border=\"1\" class=\"dataframe\">\n",
              "  <thead>\n",
              "    <tr style=\"text-align: right;\">\n",
              "      <th></th>\n",
              "      <th>rownumber</th>\n",
              "      <th>customerid</th>\n",
              "      <th>creditscore</th>\n",
              "      <th>age</th>\n",
              "      <th>tenure</th>\n",
              "      <th>balance</th>\n",
              "      <th>numofproducts</th>\n",
              "      <th>hascrcard</th>\n",
              "      <th>isactivemember</th>\n",
              "      <th>estimatedsalary</th>\n",
              "      <th>exited</th>\n",
              "    </tr>\n",
              "  </thead>\n",
              "  <tbody>\n",
              "    <tr>\n",
              "      <td>count</td>\n",
              "      <td>10000.00000</td>\n",
              "      <td>1.000000e+04</td>\n",
              "      <td>10000.000000</td>\n",
              "      <td>10000.000000</td>\n",
              "      <td>9091.000000</td>\n",
              "      <td>10000.000000</td>\n",
              "      <td>10000.000000</td>\n",
              "      <td>10000.00000</td>\n",
              "      <td>10000.000000</td>\n",
              "      <td>10000.000000</td>\n",
              "      <td>10000.000000</td>\n",
              "    </tr>\n",
              "    <tr>\n",
              "      <td>mean</td>\n",
              "      <td>5000.50000</td>\n",
              "      <td>1.569094e+07</td>\n",
              "      <td>650.528800</td>\n",
              "      <td>38.921800</td>\n",
              "      <td>4.997690</td>\n",
              "      <td>76485.889288</td>\n",
              "      <td>1.530200</td>\n",
              "      <td>0.70550</td>\n",
              "      <td>0.515100</td>\n",
              "      <td>100090.239881</td>\n",
              "      <td>0.203700</td>\n",
              "    </tr>\n",
              "    <tr>\n",
              "      <td>std</td>\n",
              "      <td>2886.89568</td>\n",
              "      <td>7.193619e+04</td>\n",
              "      <td>96.653299</td>\n",
              "      <td>10.487806</td>\n",
              "      <td>2.894723</td>\n",
              "      <td>62397.405202</td>\n",
              "      <td>0.581654</td>\n",
              "      <td>0.45584</td>\n",
              "      <td>0.499797</td>\n",
              "      <td>57510.492818</td>\n",
              "      <td>0.402769</td>\n",
              "    </tr>\n",
              "    <tr>\n",
              "      <td>min</td>\n",
              "      <td>1.00000</td>\n",
              "      <td>1.556570e+07</td>\n",
              "      <td>350.000000</td>\n",
              "      <td>18.000000</td>\n",
              "      <td>0.000000</td>\n",
              "      <td>0.000000</td>\n",
              "      <td>1.000000</td>\n",
              "      <td>0.00000</td>\n",
              "      <td>0.000000</td>\n",
              "      <td>11.580000</td>\n",
              "      <td>0.000000</td>\n",
              "    </tr>\n",
              "    <tr>\n",
              "      <td>25%</td>\n",
              "      <td>2500.75000</td>\n",
              "      <td>1.562853e+07</td>\n",
              "      <td>584.000000</td>\n",
              "      <td>32.000000</td>\n",
              "      <td>2.000000</td>\n",
              "      <td>0.000000</td>\n",
              "      <td>1.000000</td>\n",
              "      <td>0.00000</td>\n",
              "      <td>0.000000</td>\n",
              "      <td>51002.110000</td>\n",
              "      <td>0.000000</td>\n",
              "    </tr>\n",
              "    <tr>\n",
              "      <td>50%</td>\n",
              "      <td>5000.50000</td>\n",
              "      <td>1.569074e+07</td>\n",
              "      <td>652.000000</td>\n",
              "      <td>37.000000</td>\n",
              "      <td>5.000000</td>\n",
              "      <td>97198.540000</td>\n",
              "      <td>1.000000</td>\n",
              "      <td>1.00000</td>\n",
              "      <td>1.000000</td>\n",
              "      <td>100193.915000</td>\n",
              "      <td>0.000000</td>\n",
              "    </tr>\n",
              "    <tr>\n",
              "      <td>75%</td>\n",
              "      <td>7500.25000</td>\n",
              "      <td>1.575323e+07</td>\n",
              "      <td>718.000000</td>\n",
              "      <td>44.000000</td>\n",
              "      <td>7.000000</td>\n",
              "      <td>127644.240000</td>\n",
              "      <td>2.000000</td>\n",
              "      <td>1.00000</td>\n",
              "      <td>1.000000</td>\n",
              "      <td>149388.247500</td>\n",
              "      <td>0.000000</td>\n",
              "    </tr>\n",
              "    <tr>\n",
              "      <td>max</td>\n",
              "      <td>10000.00000</td>\n",
              "      <td>1.581569e+07</td>\n",
              "      <td>850.000000</td>\n",
              "      <td>92.000000</td>\n",
              "      <td>10.000000</td>\n",
              "      <td>250898.090000</td>\n",
              "      <td>4.000000</td>\n",
              "      <td>1.00000</td>\n",
              "      <td>1.000000</td>\n",
              "      <td>199992.480000</td>\n",
              "      <td>1.000000</td>\n",
              "    </tr>\n",
              "  </tbody>\n",
              "</table>\n",
              "</div>"
            ],
            "text/plain": [
              "         rownumber    customerid   creditscore           age       tenure  \\\n",
              "count  10000.00000  1.000000e+04  10000.000000  10000.000000  9091.000000   \n",
              "mean    5000.50000  1.569094e+07    650.528800     38.921800     4.997690   \n",
              "std     2886.89568  7.193619e+04     96.653299     10.487806     2.894723   \n",
              "min        1.00000  1.556570e+07    350.000000     18.000000     0.000000   \n",
              "25%     2500.75000  1.562853e+07    584.000000     32.000000     2.000000   \n",
              "50%     5000.50000  1.569074e+07    652.000000     37.000000     5.000000   \n",
              "75%     7500.25000  1.575323e+07    718.000000     44.000000     7.000000   \n",
              "max    10000.00000  1.581569e+07    850.000000     92.000000    10.000000   \n",
              "\n",
              "             balance  numofproducts    hascrcard  isactivemember  \\\n",
              "count   10000.000000   10000.000000  10000.00000    10000.000000   \n",
              "mean    76485.889288       1.530200      0.70550        0.515100   \n",
              "std     62397.405202       0.581654      0.45584        0.499797   \n",
              "min         0.000000       1.000000      0.00000        0.000000   \n",
              "25%         0.000000       1.000000      0.00000        0.000000   \n",
              "50%     97198.540000       1.000000      1.00000        1.000000   \n",
              "75%    127644.240000       2.000000      1.00000        1.000000   \n",
              "max    250898.090000       4.000000      1.00000        1.000000   \n",
              "\n",
              "       estimatedsalary        exited  \n",
              "count     10000.000000  10000.000000  \n",
              "mean     100090.239881      0.203700  \n",
              "std       57510.492818      0.402769  \n",
              "min          11.580000      0.000000  \n",
              "25%       51002.110000      0.000000  \n",
              "50%      100193.915000      0.000000  \n",
              "75%      149388.247500      0.000000  \n",
              "max      199992.480000      1.000000  "
            ]
          },
          "metadata": {
            "tags": []
          },
          "execution_count": 8
        }
      ]
    },
    {
      "cell_type": "markdown",
      "metadata": {
        "id": "04TJema8baUL"
      },
      "source": [
        "Выделим нужные столбы с типом данных \"object\", соберем их в переменную и преобразуем данные прямым кодированием. Не обрабатываю кодированием весь датафрейм, чтобы не плодить много лишних столбцов с фамилиями клиентов"
      ]
    },
    {
      "cell_type": "code",
      "metadata": {
        "id": "eRBxuNpfbaUL"
      },
      "source": [
        "test = df[['rownumber', 'geography', 'gender']]"
      ],
      "execution_count": null,
      "outputs": []
    },
    {
      "cell_type": "code",
      "metadata": {
        "id": "h-yweSzGbaUL"
      },
      "source": [
        "test = pd.get_dummies(test, drop_first=True)"
      ],
      "execution_count": null,
      "outputs": []
    },
    {
      "cell_type": "markdown",
      "metadata": {
        "id": "DxDvGWHMbaUL"
      },
      "source": [
        "Присоеденим переменную с преобразованными столбцами к датафрейму"
      ]
    },
    {
      "cell_type": "code",
      "metadata": {
        "id": "MbmaIs80baUL"
      },
      "source": [
        "df = df.merge(test, on='rownumber', how='outer')"
      ],
      "execution_count": null,
      "outputs": []
    },
    {
      "cell_type": "code",
      "metadata": {
        "id": "a_ppsBtobaUM"
      },
      "source": [
        "df['tenure'] = df['tenure'].fillna(df['tenure'].median())"
      ],
      "execution_count": null,
      "outputs": []
    },
    {
      "cell_type": "code",
      "metadata": {
        "id": "9Hx9C57UbaUM",
        "outputId": "d02dcfa8-44bf-4410-965a-f5fee274c1fc"
      },
      "source": [
        "df.info()"
      ],
      "execution_count": null,
      "outputs": [
        {
          "output_type": "stream",
          "text": [
            "<class 'pandas.core.frame.DataFrame'>\n",
            "Int64Index: 10000 entries, 0 to 9999\n",
            "Data columns (total 17 columns):\n",
            "rownumber            10000 non-null int64\n",
            "customerid           10000 non-null int64\n",
            "surname              10000 non-null object\n",
            "creditscore          10000 non-null int64\n",
            "geography            10000 non-null object\n",
            "gender               10000 non-null object\n",
            "age                  10000 non-null int64\n",
            "tenure               10000 non-null float64\n",
            "balance              10000 non-null float64\n",
            "numofproducts        10000 non-null int64\n",
            "hascrcard            10000 non-null int64\n",
            "isactivemember       10000 non-null int64\n",
            "estimatedsalary      10000 non-null float64\n",
            "exited               10000 non-null int64\n",
            "geography_Germany    10000 non-null uint8\n",
            "geography_Spain      10000 non-null uint8\n",
            "gender_Male          10000 non-null uint8\n",
            "dtypes: float64(3), int64(8), object(3), uint8(3)\n",
            "memory usage: 1.2+ MB\n"
          ],
          "name": "stdout"
        }
      ]
    },
    {
      "cell_type": "markdown",
      "metadata": {
        "id": "-VVkWiF7baUM"
      },
      "source": [
        "Посмотрим корреляцию признаков датафрейма"
      ]
    },
    {
      "cell_type": "code",
      "metadata": {
        "id": "lCGLl27-baUN",
        "outputId": "a30540cf-ebdf-4ed2-8e44-51c14d1e40f5"
      },
      "source": [
        "df.corr()"
      ],
      "execution_count": null,
      "outputs": [
        {
          "output_type": "execute_result",
          "data": {
            "text/html": [
              "<div>\n",
              "<style scoped>\n",
              "    .dataframe tbody tr th:only-of-type {\n",
              "        vertical-align: middle;\n",
              "    }\n",
              "\n",
              "    .dataframe tbody tr th {\n",
              "        vertical-align: top;\n",
              "    }\n",
              "\n",
              "    .dataframe thead th {\n",
              "        text-align: right;\n",
              "    }\n",
              "</style>\n",
              "<table border=\"1\" class=\"dataframe\">\n",
              "  <thead>\n",
              "    <tr style=\"text-align: right;\">\n",
              "      <th></th>\n",
              "      <th>rownumber</th>\n",
              "      <th>customerid</th>\n",
              "      <th>creditscore</th>\n",
              "      <th>age</th>\n",
              "      <th>tenure</th>\n",
              "      <th>balance</th>\n",
              "      <th>numofproducts</th>\n",
              "      <th>hascrcard</th>\n",
              "      <th>isactivemember</th>\n",
              "      <th>estimatedsalary</th>\n",
              "      <th>exited</th>\n",
              "      <th>geography_Germany</th>\n",
              "      <th>geography_Spain</th>\n",
              "      <th>gender_Male</th>\n",
              "    </tr>\n",
              "  </thead>\n",
              "  <tbody>\n",
              "    <tr>\n",
              "      <td>rownumber</td>\n",
              "      <td>1.000000</td>\n",
              "      <td>0.004202</td>\n",
              "      <td>0.005840</td>\n",
              "      <td>0.000783</td>\n",
              "      <td>-0.006979</td>\n",
              "      <td>-0.009067</td>\n",
              "      <td>0.007246</td>\n",
              "      <td>0.000599</td>\n",
              "      <td>0.012044</td>\n",
              "      <td>-0.005988</td>\n",
              "      <td>-0.016571</td>\n",
              "      <td>-0.000044</td>\n",
              "      <td>-0.009905</td>\n",
              "      <td>0.018196</td>\n",
              "    </tr>\n",
              "    <tr>\n",
              "      <td>customerid</td>\n",
              "      <td>0.004202</td>\n",
              "      <td>1.000000</td>\n",
              "      <td>0.005308</td>\n",
              "      <td>0.009497</td>\n",
              "      <td>-0.020331</td>\n",
              "      <td>-0.012419</td>\n",
              "      <td>0.016972</td>\n",
              "      <td>-0.014025</td>\n",
              "      <td>0.001665</td>\n",
              "      <td>0.015271</td>\n",
              "      <td>-0.006248</td>\n",
              "      <td>-0.003097</td>\n",
              "      <td>0.007800</td>\n",
              "      <td>-0.002641</td>\n",
              "    </tr>\n",
              "    <tr>\n",
              "      <td>creditscore</td>\n",
              "      <td>0.005840</td>\n",
              "      <td>0.005308</td>\n",
              "      <td>1.000000</td>\n",
              "      <td>-0.003965</td>\n",
              "      <td>-0.000060</td>\n",
              "      <td>0.006268</td>\n",
              "      <td>0.012238</td>\n",
              "      <td>-0.005458</td>\n",
              "      <td>0.025651</td>\n",
              "      <td>-0.001384</td>\n",
              "      <td>-0.027094</td>\n",
              "      <td>0.005538</td>\n",
              "      <td>0.004780</td>\n",
              "      <td>-0.002857</td>\n",
              "    </tr>\n",
              "    <tr>\n",
              "      <td>age</td>\n",
              "      <td>0.000783</td>\n",
              "      <td>0.009497</td>\n",
              "      <td>-0.003965</td>\n",
              "      <td>1.000000</td>\n",
              "      <td>-0.012606</td>\n",
              "      <td>0.028308</td>\n",
              "      <td>-0.030680</td>\n",
              "      <td>-0.011721</td>\n",
              "      <td>0.085472</td>\n",
              "      <td>-0.007201</td>\n",
              "      <td>0.285323</td>\n",
              "      <td>0.046897</td>\n",
              "      <td>-0.001685</td>\n",
              "      <td>-0.027544</td>\n",
              "    </tr>\n",
              "    <tr>\n",
              "      <td>tenure</td>\n",
              "      <td>-0.006979</td>\n",
              "      <td>-0.020331</td>\n",
              "      <td>-0.000060</td>\n",
              "      <td>-0.012606</td>\n",
              "      <td>1.000000</td>\n",
              "      <td>-0.007535</td>\n",
              "      <td>0.011409</td>\n",
              "      <td>0.025979</td>\n",
              "      <td>-0.030681</td>\n",
              "      <td>0.010049</td>\n",
              "      <td>-0.015989</td>\n",
              "      <td>-0.003153</td>\n",
              "      <td>0.000772</td>\n",
              "      <td>0.012041</td>\n",
              "    </tr>\n",
              "    <tr>\n",
              "      <td>balance</td>\n",
              "      <td>-0.009067</td>\n",
              "      <td>-0.012419</td>\n",
              "      <td>0.006268</td>\n",
              "      <td>0.028308</td>\n",
              "      <td>-0.007535</td>\n",
              "      <td>1.000000</td>\n",
              "      <td>-0.304180</td>\n",
              "      <td>-0.014858</td>\n",
              "      <td>-0.010084</td>\n",
              "      <td>0.012797</td>\n",
              "      <td>0.118533</td>\n",
              "      <td>0.401110</td>\n",
              "      <td>-0.134892</td>\n",
              "      <td>0.012087</td>\n",
              "    </tr>\n",
              "    <tr>\n",
              "      <td>numofproducts</td>\n",
              "      <td>0.007246</td>\n",
              "      <td>0.016972</td>\n",
              "      <td>0.012238</td>\n",
              "      <td>-0.030680</td>\n",
              "      <td>0.011409</td>\n",
              "      <td>-0.304180</td>\n",
              "      <td>1.000000</td>\n",
              "      <td>0.003183</td>\n",
              "      <td>0.009612</td>\n",
              "      <td>0.014204</td>\n",
              "      <td>-0.047820</td>\n",
              "      <td>-0.010419</td>\n",
              "      <td>0.009039</td>\n",
              "      <td>-0.021859</td>\n",
              "    </tr>\n",
              "    <tr>\n",
              "      <td>hascrcard</td>\n",
              "      <td>0.000599</td>\n",
              "      <td>-0.014025</td>\n",
              "      <td>-0.005458</td>\n",
              "      <td>-0.011721</td>\n",
              "      <td>0.025979</td>\n",
              "      <td>-0.014858</td>\n",
              "      <td>0.003183</td>\n",
              "      <td>1.000000</td>\n",
              "      <td>-0.011866</td>\n",
              "      <td>-0.009933</td>\n",
              "      <td>-0.007138</td>\n",
              "      <td>0.010577</td>\n",
              "      <td>-0.013480</td>\n",
              "      <td>0.005766</td>\n",
              "    </tr>\n",
              "    <tr>\n",
              "      <td>isactivemember</td>\n",
              "      <td>0.012044</td>\n",
              "      <td>0.001665</td>\n",
              "      <td>0.025651</td>\n",
              "      <td>0.085472</td>\n",
              "      <td>-0.030681</td>\n",
              "      <td>-0.010084</td>\n",
              "      <td>0.009612</td>\n",
              "      <td>-0.011866</td>\n",
              "      <td>1.000000</td>\n",
              "      <td>-0.011421</td>\n",
              "      <td>-0.156128</td>\n",
              "      <td>-0.020486</td>\n",
              "      <td>0.016732</td>\n",
              "      <td>0.022544</td>\n",
              "    </tr>\n",
              "    <tr>\n",
              "      <td>estimatedsalary</td>\n",
              "      <td>-0.005988</td>\n",
              "      <td>0.015271</td>\n",
              "      <td>-0.001384</td>\n",
              "      <td>-0.007201</td>\n",
              "      <td>0.010049</td>\n",
              "      <td>0.012797</td>\n",
              "      <td>0.014204</td>\n",
              "      <td>-0.009933</td>\n",
              "      <td>-0.011421</td>\n",
              "      <td>1.000000</td>\n",
              "      <td>0.012097</td>\n",
              "      <td>0.010297</td>\n",
              "      <td>-0.006482</td>\n",
              "      <td>-0.008112</td>\n",
              "    </tr>\n",
              "    <tr>\n",
              "      <td>exited</td>\n",
              "      <td>-0.016571</td>\n",
              "      <td>-0.006248</td>\n",
              "      <td>-0.027094</td>\n",
              "      <td>0.285323</td>\n",
              "      <td>-0.015989</td>\n",
              "      <td>0.118533</td>\n",
              "      <td>-0.047820</td>\n",
              "      <td>-0.007138</td>\n",
              "      <td>-0.156128</td>\n",
              "      <td>0.012097</td>\n",
              "      <td>1.000000</td>\n",
              "      <td>0.173488</td>\n",
              "      <td>-0.052667</td>\n",
              "      <td>-0.106512</td>\n",
              "    </tr>\n",
              "    <tr>\n",
              "      <td>geography_Germany</td>\n",
              "      <td>-0.000044</td>\n",
              "      <td>-0.003097</td>\n",
              "      <td>0.005538</td>\n",
              "      <td>0.046897</td>\n",
              "      <td>-0.003153</td>\n",
              "      <td>0.401110</td>\n",
              "      <td>-0.010419</td>\n",
              "      <td>0.010577</td>\n",
              "      <td>-0.020486</td>\n",
              "      <td>0.010297</td>\n",
              "      <td>0.173488</td>\n",
              "      <td>1.000000</td>\n",
              "      <td>-0.332084</td>\n",
              "      <td>-0.024628</td>\n",
              "    </tr>\n",
              "    <tr>\n",
              "      <td>geography_Spain</td>\n",
              "      <td>-0.009905</td>\n",
              "      <td>0.007800</td>\n",
              "      <td>0.004780</td>\n",
              "      <td>-0.001685</td>\n",
              "      <td>0.000772</td>\n",
              "      <td>-0.134892</td>\n",
              "      <td>0.009039</td>\n",
              "      <td>-0.013480</td>\n",
              "      <td>0.016732</td>\n",
              "      <td>-0.006482</td>\n",
              "      <td>-0.052667</td>\n",
              "      <td>-0.332084</td>\n",
              "      <td>1.000000</td>\n",
              "      <td>0.016889</td>\n",
              "    </tr>\n",
              "    <tr>\n",
              "      <td>gender_Male</td>\n",
              "      <td>0.018196</td>\n",
              "      <td>-0.002641</td>\n",
              "      <td>-0.002857</td>\n",
              "      <td>-0.027544</td>\n",
              "      <td>0.012041</td>\n",
              "      <td>0.012087</td>\n",
              "      <td>-0.021859</td>\n",
              "      <td>0.005766</td>\n",
              "      <td>0.022544</td>\n",
              "      <td>-0.008112</td>\n",
              "      <td>-0.106512</td>\n",
              "      <td>-0.024628</td>\n",
              "      <td>0.016889</td>\n",
              "      <td>1.000000</td>\n",
              "    </tr>\n",
              "  </tbody>\n",
              "</table>\n",
              "</div>"
            ],
            "text/plain": [
              "                   rownumber  customerid  creditscore       age    tenure  \\\n",
              "rownumber           1.000000    0.004202     0.005840  0.000783 -0.006979   \n",
              "customerid          0.004202    1.000000     0.005308  0.009497 -0.020331   \n",
              "creditscore         0.005840    0.005308     1.000000 -0.003965 -0.000060   \n",
              "age                 0.000783    0.009497    -0.003965  1.000000 -0.012606   \n",
              "tenure             -0.006979   -0.020331    -0.000060 -0.012606  1.000000   \n",
              "balance            -0.009067   -0.012419     0.006268  0.028308 -0.007535   \n",
              "numofproducts       0.007246    0.016972     0.012238 -0.030680  0.011409   \n",
              "hascrcard           0.000599   -0.014025    -0.005458 -0.011721  0.025979   \n",
              "isactivemember      0.012044    0.001665     0.025651  0.085472 -0.030681   \n",
              "estimatedsalary    -0.005988    0.015271    -0.001384 -0.007201  0.010049   \n",
              "exited             -0.016571   -0.006248    -0.027094  0.285323 -0.015989   \n",
              "geography_Germany  -0.000044   -0.003097     0.005538  0.046897 -0.003153   \n",
              "geography_Spain    -0.009905    0.007800     0.004780 -0.001685  0.000772   \n",
              "gender_Male         0.018196   -0.002641    -0.002857 -0.027544  0.012041   \n",
              "\n",
              "                    balance  numofproducts  hascrcard  isactivemember  \\\n",
              "rownumber         -0.009067       0.007246   0.000599        0.012044   \n",
              "customerid        -0.012419       0.016972  -0.014025        0.001665   \n",
              "creditscore        0.006268       0.012238  -0.005458        0.025651   \n",
              "age                0.028308      -0.030680  -0.011721        0.085472   \n",
              "tenure            -0.007535       0.011409   0.025979       -0.030681   \n",
              "balance            1.000000      -0.304180  -0.014858       -0.010084   \n",
              "numofproducts     -0.304180       1.000000   0.003183        0.009612   \n",
              "hascrcard         -0.014858       0.003183   1.000000       -0.011866   \n",
              "isactivemember    -0.010084       0.009612  -0.011866        1.000000   \n",
              "estimatedsalary    0.012797       0.014204  -0.009933       -0.011421   \n",
              "exited             0.118533      -0.047820  -0.007138       -0.156128   \n",
              "geography_Germany  0.401110      -0.010419   0.010577       -0.020486   \n",
              "geography_Spain   -0.134892       0.009039  -0.013480        0.016732   \n",
              "gender_Male        0.012087      -0.021859   0.005766        0.022544   \n",
              "\n",
              "                   estimatedsalary    exited  geography_Germany  \\\n",
              "rownumber                -0.005988 -0.016571          -0.000044   \n",
              "customerid                0.015271 -0.006248          -0.003097   \n",
              "creditscore              -0.001384 -0.027094           0.005538   \n",
              "age                      -0.007201  0.285323           0.046897   \n",
              "tenure                    0.010049 -0.015989          -0.003153   \n",
              "balance                   0.012797  0.118533           0.401110   \n",
              "numofproducts             0.014204 -0.047820          -0.010419   \n",
              "hascrcard                -0.009933 -0.007138           0.010577   \n",
              "isactivemember           -0.011421 -0.156128          -0.020486   \n",
              "estimatedsalary           1.000000  0.012097           0.010297   \n",
              "exited                    0.012097  1.000000           0.173488   \n",
              "geography_Germany         0.010297  0.173488           1.000000   \n",
              "geography_Spain          -0.006482 -0.052667          -0.332084   \n",
              "gender_Male              -0.008112 -0.106512          -0.024628   \n",
              "\n",
              "                   geography_Spain  gender_Male  \n",
              "rownumber                -0.009905     0.018196  \n",
              "customerid                0.007800    -0.002641  \n",
              "creditscore               0.004780    -0.002857  \n",
              "age                      -0.001685    -0.027544  \n",
              "tenure                    0.000772     0.012041  \n",
              "balance                  -0.134892     0.012087  \n",
              "numofproducts             0.009039    -0.021859  \n",
              "hascrcard                -0.013480     0.005766  \n",
              "isactivemember            0.016732     0.022544  \n",
              "estimatedsalary          -0.006482    -0.008112  \n",
              "exited                   -0.052667    -0.106512  \n",
              "geography_Germany        -0.332084    -0.024628  \n",
              "geography_Spain           1.000000     0.016889  \n",
              "gender_Male               0.016889     1.000000  "
            ]
          },
          "metadata": {
            "tags": []
          },
          "execution_count": 14
        }
      ]
    },
    {
      "cell_type": "markdown",
      "metadata": {
        "id": "VaUzrigEbaUN"
      },
      "source": [
        "Данные практически не коррелируют между собой"
      ]
    },
    {
      "cell_type": "markdown",
      "metadata": {
        "id": "mGudGP_3baUN"
      },
      "source": [
        "Построим гистаграммы прищзнаков, для которых describe показал большой разброс "
      ]
    },
    {
      "cell_type": "code",
      "metadata": {
        "id": "EAFA0HmbbaUN",
        "outputId": "b16ff026-bc3f-45ec-9748-7e4d23f75d2d"
      },
      "source": [
        "df['balance'].hist(bins=50)\n",
        "plt.show()"
      ],
      "execution_count": null,
      "outputs": [
        {
          "output_type": "display_data",
          "data": {
            "image/png": "[encoded data removed]",
            "text/plain": [
              "<Figure size 432x288 with 1 Axes>"
            ]
          },
          "metadata": {
            "tags": [],
            "needs_background": "light"
          }
        }
      ]
    },
    {
      "cell_type": "code",
      "metadata": {
        "id": "yyoFHBzebaUN",
        "outputId": "3e081706-dde2-414c-bf23-b3ddecd0cdcd"
      },
      "source": [
        "df.boxplot(column = 'balance')\n",
        "plt.show()"
      ],
      "execution_count": null,
      "outputs": [
        {
          "output_type": "display_data",
          "data": {
            "image/png": "[encoded data removed]",
            "text/plain": [
              "<Figure size 432x288 with 1 Axes>"
            ]
          },
          "metadata": {
            "tags": [],
            "needs_background": "light"
          }
        }
      ]
    },
    {
      "cell_type": "code",
      "metadata": {
        "id": "bMjKtrIsbaUO",
        "outputId": "aaa75af7-2d80-44af-a2da-f4de69a62467"
      },
      "source": [
        "df['estimatedsalary'].hist()\n",
        "plt.show()"
      ],
      "execution_count": null,
      "outputs": [
        {
          "output_type": "display_data",
          "data": {
            "image/png": "[encoded data removed]",
            "text/plain": [
              "<Figure size 432x288 with 1 Axes>"
            ]
          },
          "metadata": {
            "tags": [],
            "needs_background": "light"
          }
        }
      ]
    },
    {
      "cell_type": "code",
      "metadata": {
        "id": "Y_TdO4NdbaUO",
        "outputId": "8d262519-1882-421b-ce5a-bb67d9e0eff3"
      },
      "source": [
        "df.boxplot(column = 'estimatedsalary')\n",
        "plt.show()"
      ],
      "execution_count": null,
      "outputs": [
        {
          "output_type": "display_data",
          "data": {
            "image/png": "[encoded data removed]",
            "text/plain": [
              "<Figure size 432x288 with 1 Axes>"
            ]
          },
          "metadata": {
            "tags": [],
            "needs_background": "light"
          }
        }
      ]
    },
    {
      "cell_type": "markdown",
      "metadata": {
        "id": "6f61acTHbaUO"
      },
      "source": [
        "Данные распределены нормально"
      ]
    },
    {
      "cell_type": "code",
      "metadata": {
        "id": "dvLTc4tqbaUP",
        "outputId": "fafa0a44-6c50-493d-9fd2-c07147100a75"
      },
      "source": [
        "df"
      ],
      "execution_count": null,
      "outputs": [
        {
          "output_type": "execute_result",
          "data": {
            "text/html": [
              "<div>\n",
              "<style scoped>\n",
              "    .dataframe tbody tr th:only-of-type {\n",
              "        vertical-align: middle;\n",
              "    }\n",
              "\n",
              "    .dataframe tbody tr th {\n",
              "        vertical-align: top;\n",
              "    }\n",
              "\n",
              "    .dataframe thead th {\n",
              "        text-align: right;\n",
              "    }\n",
              "</style>\n",
              "<table border=\"1\" class=\"dataframe\">\n",
              "  <thead>\n",
              "    <tr style=\"text-align: right;\">\n",
              "      <th></th>\n",
              "      <th>rownumber</th>\n",
              "      <th>customerid</th>\n",
              "      <th>surname</th>\n",
              "      <th>creditscore</th>\n",
              "      <th>geography</th>\n",
              "      <th>gender</th>\n",
              "      <th>age</th>\n",
              "      <th>tenure</th>\n",
              "      <th>balance</th>\n",
              "      <th>numofproducts</th>\n",
              "      <th>hascrcard</th>\n",
              "      <th>isactivemember</th>\n",
              "      <th>estimatedsalary</th>\n",
              "      <th>exited</th>\n",
              "      <th>geography_Germany</th>\n",
              "      <th>geography_Spain</th>\n",
              "      <th>gender_Male</th>\n",
              "    </tr>\n",
              "  </thead>\n",
              "  <tbody>\n",
              "    <tr>\n",
              "      <td>0</td>\n",
              "      <td>1</td>\n",
              "      <td>15634602</td>\n",
              "      <td>Hargrave</td>\n",
              "      <td>619</td>\n",
              "      <td>France</td>\n",
              "      <td>Female</td>\n",
              "      <td>42</td>\n",
              "      <td>2.0</td>\n",
              "      <td>0.00</td>\n",
              "      <td>1</td>\n",
              "      <td>1</td>\n",
              "      <td>1</td>\n",
              "      <td>101348.88</td>\n",
              "      <td>1</td>\n",
              "      <td>0</td>\n",
              "      <td>0</td>\n",
              "      <td>0</td>\n",
              "    </tr>\n",
              "    <tr>\n",
              "      <td>1</td>\n",
              "      <td>2</td>\n",
              "      <td>15647311</td>\n",
              "      <td>Hill</td>\n",
              "      <td>608</td>\n",
              "      <td>Spain</td>\n",
              "      <td>Female</td>\n",
              "      <td>41</td>\n",
              "      <td>1.0</td>\n",
              "      <td>83807.86</td>\n",
              "      <td>1</td>\n",
              "      <td>0</td>\n",
              "      <td>1</td>\n",
              "      <td>112542.58</td>\n",
              "      <td>0</td>\n",
              "      <td>0</td>\n",
              "      <td>1</td>\n",
              "      <td>0</td>\n",
              "    </tr>\n",
              "    <tr>\n",
              "      <td>2</td>\n",
              "      <td>3</td>\n",
              "      <td>15619304</td>\n",
              "      <td>Onio</td>\n",
              "      <td>502</td>\n",
              "      <td>France</td>\n",
              "      <td>Female</td>\n",
              "      <td>42</td>\n",
              "      <td>8.0</td>\n",
              "      <td>159660.80</td>\n",
              "      <td>3</td>\n",
              "      <td>1</td>\n",
              "      <td>0</td>\n",
              "      <td>113931.57</td>\n",
              "      <td>1</td>\n",
              "      <td>0</td>\n",
              "      <td>0</td>\n",
              "      <td>0</td>\n",
              "    </tr>\n",
              "    <tr>\n",
              "      <td>3</td>\n",
              "      <td>4</td>\n",
              "      <td>15701354</td>\n",
              "      <td>Boni</td>\n",
              "      <td>699</td>\n",
              "      <td>France</td>\n",
              "      <td>Female</td>\n",
              "      <td>39</td>\n",
              "      <td>1.0</td>\n",
              "      <td>0.00</td>\n",
              "      <td>2</td>\n",
              "      <td>0</td>\n",
              "      <td>0</td>\n",
              "      <td>93826.63</td>\n",
              "      <td>0</td>\n",
              "      <td>0</td>\n",
              "      <td>0</td>\n",
              "      <td>0</td>\n",
              "    </tr>\n",
              "    <tr>\n",
              "      <td>4</td>\n",
              "      <td>5</td>\n",
              "      <td>15737888</td>\n",
              "      <td>Mitchell</td>\n",
              "      <td>850</td>\n",
              "      <td>Spain</td>\n",
              "      <td>Female</td>\n",
              "      <td>43</td>\n",
              "      <td>2.0</td>\n",
              "      <td>125510.82</td>\n",
              "      <td>1</td>\n",
              "      <td>1</td>\n",
              "      <td>1</td>\n",
              "      <td>79084.10</td>\n",
              "      <td>0</td>\n",
              "      <td>0</td>\n",
              "      <td>1</td>\n",
              "      <td>0</td>\n",
              "    </tr>\n",
              "    <tr>\n",
              "      <td>...</td>\n",
              "      <td>...</td>\n",
              "      <td>...</td>\n",
              "      <td>...</td>\n",
              "      <td>...</td>\n",
              "      <td>...</td>\n",
              "      <td>...</td>\n",
              "      <td>...</td>\n",
              "      <td>...</td>\n",
              "      <td>...</td>\n",
              "      <td>...</td>\n",
              "      <td>...</td>\n",
              "      <td>...</td>\n",
              "      <td>...</td>\n",
              "      <td>...</td>\n",
              "      <td>...</td>\n",
              "      <td>...</td>\n",
              "      <td>...</td>\n",
              "    </tr>\n",
              "    <tr>\n",
              "      <td>9995</td>\n",
              "      <td>9996</td>\n",
              "      <td>15606229</td>\n",
              "      <td>Obijiaku</td>\n",
              "      <td>771</td>\n",
              "      <td>France</td>\n",
              "      <td>Male</td>\n",
              "      <td>39</td>\n",
              "      <td>5.0</td>\n",
              "      <td>0.00</td>\n",
              "      <td>2</td>\n",
              "      <td>1</td>\n",
              "      <td>0</td>\n",
              "      <td>96270.64</td>\n",
              "      <td>0</td>\n",
              "      <td>0</td>\n",
              "      <td>0</td>\n",
              "      <td>1</td>\n",
              "    </tr>\n",
              "    <tr>\n",
              "      <td>9996</td>\n",
              "      <td>9997</td>\n",
              "      <td>15569892</td>\n",
              "      <td>Johnstone</td>\n",
              "      <td>516</td>\n",
              "      <td>France</td>\n",
              "      <td>Male</td>\n",
              "      <td>35</td>\n",
              "      <td>10.0</td>\n",
              "      <td>57369.61</td>\n",
              "      <td>1</td>\n",
              "      <td>1</td>\n",
              "      <td>1</td>\n",
              "      <td>101699.77</td>\n",
              "      <td>0</td>\n",
              "      <td>0</td>\n",
              "      <td>0</td>\n",
              "      <td>1</td>\n",
              "    </tr>\n",
              "    <tr>\n",
              "      <td>9997</td>\n",
              "      <td>9998</td>\n",
              "      <td>15584532</td>\n",
              "      <td>Liu</td>\n",
              "      <td>709</td>\n",
              "      <td>France</td>\n",
              "      <td>Female</td>\n",
              "      <td>36</td>\n",
              "      <td>7.0</td>\n",
              "      <td>0.00</td>\n",
              "      <td>1</td>\n",
              "      <td>0</td>\n",
              "      <td>1</td>\n",
              "      <td>42085.58</td>\n",
              "      <td>1</td>\n",
              "      <td>0</td>\n",
              "      <td>0</td>\n",
              "      <td>0</td>\n",
              "    </tr>\n",
              "    <tr>\n",
              "      <td>9998</td>\n",
              "      <td>9999</td>\n",
              "      <td>15682355</td>\n",
              "      <td>Sabbatini</td>\n",
              "      <td>772</td>\n",
              "      <td>Germany</td>\n",
              "      <td>Male</td>\n",
              "      <td>42</td>\n",
              "      <td>3.0</td>\n",
              "      <td>75075.31</td>\n",
              "      <td>2</td>\n",
              "      <td>1</td>\n",
              "      <td>0</td>\n",
              "      <td>92888.52</td>\n",
              "      <td>1</td>\n",
              "      <td>1</td>\n",
              "      <td>0</td>\n",
              "      <td>1</td>\n",
              "    </tr>\n",
              "    <tr>\n",
              "      <td>9999</td>\n",
              "      <td>10000</td>\n",
              "      <td>15628319</td>\n",
              "      <td>Walker</td>\n",
              "      <td>792</td>\n",
              "      <td>France</td>\n",
              "      <td>Female</td>\n",
              "      <td>28</td>\n",
              "      <td>5.0</td>\n",
              "      <td>130142.79</td>\n",
              "      <td>1</td>\n",
              "      <td>1</td>\n",
              "      <td>0</td>\n",
              "      <td>38190.78</td>\n",
              "      <td>0</td>\n",
              "      <td>0</td>\n",
              "      <td>0</td>\n",
              "      <td>0</td>\n",
              "    </tr>\n",
              "  </tbody>\n",
              "</table>\n",
              "<p>10000 rows × 17 columns</p>\n",
              "</div>"
            ],
            "text/plain": [
              "      rownumber  customerid    surname  creditscore geography  gender  age  \\\n",
              "0             1    15634602   Hargrave          619    France  Female   42   \n",
              "1             2    15647311       Hill          608     Spain  Female   41   \n",
              "2             3    15619304       Onio          502    France  Female   42   \n",
              "3             4    15701354       Boni          699    France  Female   39   \n",
              "4             5    15737888   Mitchell          850     Spain  Female   43   \n",
              "...         ...         ...        ...          ...       ...     ...  ...   \n",
              "9995       9996    15606229   Obijiaku          771    France    Male   39   \n",
              "9996       9997    15569892  Johnstone          516    France    Male   35   \n",
              "9997       9998    15584532        Liu          709    France  Female   36   \n",
              "9998       9999    15682355  Sabbatini          772   Germany    Male   42   \n",
              "9999      10000    15628319     Walker          792    France  Female   28   \n",
              "\n",
              "      tenure    balance  numofproducts  hascrcard  isactivemember  \\\n",
              "0        2.0       0.00              1          1               1   \n",
              "1        1.0   83807.86              1          0               1   \n",
              "2        8.0  159660.80              3          1               0   \n",
              "3        1.0       0.00              2          0               0   \n",
              "4        2.0  125510.82              1          1               1   \n",
              "...      ...        ...            ...        ...             ...   \n",
              "9995     5.0       0.00              2          1               0   \n",
              "9996    10.0   57369.61              1          1               1   \n",
              "9997     7.0       0.00              1          0               1   \n",
              "9998     3.0   75075.31              2          1               0   \n",
              "9999     5.0  130142.79              1          1               0   \n",
              "\n",
              "      estimatedsalary  exited  geography_Germany  geography_Spain  gender_Male  \n",
              "0           101348.88       1                  0                0            0  \n",
              "1           112542.58       0                  0                1            0  \n",
              "2           113931.57       1                  0                0            0  \n",
              "3            93826.63       0                  0                0            0  \n",
              "4            79084.10       0                  0                1            0  \n",
              "...               ...     ...                ...              ...          ...  \n",
              "9995         96270.64       0                  0                0            1  \n",
              "9996        101699.77       0                  0                0            1  \n",
              "9997         42085.58       1                  0                0            0  \n",
              "9998         92888.52       1                  1                0            1  \n",
              "9999         38190.78       0                  0                0            0  \n",
              "\n",
              "[10000 rows x 17 columns]"
            ]
          },
          "metadata": {
            "tags": []
          },
          "execution_count": 19
        }
      ]
    },
    {
      "cell_type": "markdown",
      "metadata": {
        "id": "gRcjiEtsbaUP"
      },
      "source": [
        "### Вывод"
      ]
    },
    {
      "cell_type": "markdown",
      "metadata": {
        "id": "bxCcu-8PbaUP"
      },
      "source": [
        "Подгружены нужные библиотеки. Скачан датасет, заглавные буквы заменены на строчные. Данные изучены,выявлено много пропусков в столбце \"tenure\", удалять их - значит потерять 10% датафрейма, поэтому заменил их медианным значением. Дубликатов нет, выбросов тоже. Созданы новые столбцы на основании столбцов со строковыми данными, потому что модель не будет работать с объектами."
      ]
    },
    {
      "cell_type": "markdown",
      "metadata": {
        "id": "4ZRkv5RxbaUQ"
      },
      "source": [
        "## Исследование задачи"
      ]
    },
    {
      "cell_type": "markdown",
      "metadata": {
        "id": "euU_HWLibaUQ"
      },
      "source": [
        "Разделим датафрейм на 3 выборки, в соотношении 60/20/20"
      ]
    },
    {
      "cell_type": "code",
      "metadata": {
        "id": "aSJ_rZZpbaUQ"
      },
      "source": [
        "target = df['exited']\n",
        "features = df.drop(['exited', 'geography', 'gender', 'surname', 'rownumber', 'customerid'], axis=1)\n",
        "features_train, features_valid, target_train, target_valid = train_test_split(\n",
        "    features, target, test_size=0.4, random_state=12345, stratify=target)"
      ],
      "execution_count": null,
      "outputs": []
    },
    {
      "cell_type": "code",
      "metadata": {
        "id": "SPyF1W_ubaUR"
      },
      "source": [
        "target = df['exited']\n",
        "features = df.drop(['exited', 'geography', 'gender', 'surname', 'rownumber', 'customerid'], axis=1)\n",
        "features_test, features_valid, target_test, target_valid = train_test_split(\n",
        "    features_valid, target_valid, test_size=0.5, random_state=12345, stratify=target_valid)"
      ],
      "execution_count": null,
      "outputs": []
    },
    {
      "cell_type": "code",
      "metadata": {
        "id": "lfY19MBfbaUS",
        "outputId": "a927bd15-7075-4303-d826-f53f80ad5c5b"
      },
      "source": [
        "features_train.shape, features_valid.shape, features_test.shape"
      ],
      "execution_count": null,
      "outputs": [
        {
          "output_type": "execute_result",
          "data": {
            "text/plain": [
              "((6000, 11), (2000, 11), (2000, 11))"
            ]
          },
          "metadata": {
            "tags": []
          },
          "execution_count": 22
        }
      ]
    },
    {
      "cell_type": "markdown",
      "metadata": {
        "id": "tZSdxUDpbaUS"
      },
      "source": [
        "Обучим модель решающего дерева на датафрейме с несбалансированными классами"
      ]
    },
    {
      "cell_type": "code",
      "metadata": {
        "id": "UyXnLVNfbaUT"
      },
      "source": [
        "model_des_tree = DecisionTreeClassifier(random_state=12345)\n",
        "model_des_tree.fit(features_train, target_train)\n",
        "predicted_valid_des_tree = model_des_tree.predict(features_valid)"
      ],
      "execution_count": null,
      "outputs": []
    },
    {
      "cell_type": "code",
      "metadata": {
        "id": "Ob6H1yotbaUT",
        "outputId": "f6fb02ff-ab0e-4644-b6ce-26ce1c156e98"
      },
      "source": [
        "accuracy_valid = accuracy_score(target_valid, predicted_valid_des_tree)\n",
        "print(accuracy_valid)"
      ],
      "execution_count": null,
      "outputs": [
        {
          "output_type": "stream",
          "text": [
            "0.787\n"
          ],
          "name": "stdout"
        }
      ]
    },
    {
      "cell_type": "code",
      "metadata": {
        "id": "_rrSQWn9baUT"
      },
      "source": [
        "target_pred_constant = pd.Series(target * 0)"
      ],
      "execution_count": null,
      "outputs": []
    },
    {
      "cell_type": "code",
      "metadata": {
        "id": "UB9aLJ8PbaUT",
        "outputId": "bca5fda5-d495-4e4f-ff50-06e7ec7e4ef6"
      },
      "source": [
        "accuracy_score(target, target_pred_constant)"
      ],
      "execution_count": null,
      "outputs": [
        {
          "output_type": "execute_result",
          "data": {
            "text/plain": [
              "0.7963"
            ]
          },
          "metadata": {
            "tags": []
          },
          "execution_count": 26
        }
      ]
    },
    {
      "cell_type": "code",
      "metadata": {
        "id": "4N7CKc4CbaUU",
        "outputId": "83497887-c978-42c3-9296-8ddcdc5f88b4"
      },
      "source": [
        "df['exited'].value_counts(normalize=True)"
      ],
      "execution_count": null,
      "outputs": [
        {
          "output_type": "execute_result",
          "data": {
            "text/plain": [
              "0    0.7963\n",
              "1    0.2037\n",
              "Name: exited, dtype: float64"
            ]
          },
          "metadata": {
            "tags": []
          },
          "execution_count": 27
        }
      ]
    },
    {
      "cell_type": "code",
      "metadata": {
        "id": "Yh1y4jb0baUU",
        "outputId": "cde4310c-266a-479d-fc45-cbe891640781"
      },
      "source": [
        "f1_score(target_valid, predicted_valid_des_tree)"
      ],
      "execution_count": null,
      "outputs": [
        {
          "output_type": "execute_result",
          "data": {
            "text/plain": [
              "0.4879807692307693"
            ]
          },
          "metadata": {
            "tags": []
          },
          "execution_count": 28
        }
      ]
    },
    {
      "cell_type": "markdown",
      "metadata": {
        "id": "B9iU-LYDbaUU"
      },
      "source": [
        "Посмотрим матрицу ошибок. Как оказалось данные очень несбалансированы"
      ]
    },
    {
      "cell_type": "code",
      "metadata": {
        "id": "Gg-exdDGbaUV",
        "outputId": "a821863f-a9fe-48a8-beb3-8005a6da0d5f"
      },
      "source": [
        "confusion_matrix(target_valid, predicted_valid_des_tree)"
      ],
      "execution_count": null,
      "outputs": [
        {
          "output_type": "execute_result",
          "data": {
            "text/plain": [
              "array([[1371,  222],\n",
              "       [ 204,  203]])"
            ]
          },
          "metadata": {
            "tags": []
          },
          "execution_count": 29
        }
      ]
    },
    {
      "cell_type": "markdown",
      "metadata": {
        "id": "Ib2p93l_baUV"
      },
      "source": [
        "Accuracy предсказаний при несбалансированных классах меньше, чем accuracy константной модели. Метрика F1 очень мала. Попробуем модель случайного леса."
      ]
    },
    {
      "cell_type": "code",
      "metadata": {
        "id": "ZOeDk6XJbaUV",
        "outputId": "6da40adc-e7e5-4977-be90-a7415eef2eef"
      },
      "source": [
        "best_result_ran_forest = 0\n",
        "best_est = 0\n",
        "best_depth = 0\n",
        "for est in range(10, 51, 10):\n",
        "    for depth in range (1, 11):\n",
        "        model_ran_forest = RandomForestClassifier(random_state=12345, n_estimators=est, max_depth=depth, min_samples_split=2)\n",
        "        model_ran_forest.fit(features_train, target_train)\n",
        "        predictions_valid_ran_forest = model_ran_forest.predict(features_valid)\n",
        "        result_ran_forest = f1_score(target_valid, predictions_valid_ran_forest)\n",
        "        if result_ran_forest > best_result_ran_forest:\n",
        "            best_result_ran_forest = result_ran_forest\n",
        "            best_est = est\n",
        "            best_depth = depth\n",
        "\n",
        "print(\"F1 лучшей модели случайного леса:\", best_result_ran_forest, \"Количество деревьев:\", best_est, \"Максимальная глубина:\", best_depth)"
      ],
      "execution_count": null,
      "outputs": [
        {
          "output_type": "stream",
          "text": [
            "/opt/conda/lib/python3.7/site-packages/sklearn/metrics/classification.py:1437: UndefinedMetricWarning: F-score is ill-defined and being set to 0.0 due to no predicted samples.\n",
            "  'precision', 'predicted', average, warn_for)\n",
            "/opt/conda/lib/python3.7/site-packages/sklearn/metrics/classification.py:1437: UndefinedMetricWarning: F-score is ill-defined and being set to 0.0 due to no predicted samples.\n",
            "  'precision', 'predicted', average, warn_for)\n",
            "/opt/conda/lib/python3.7/site-packages/sklearn/metrics/classification.py:1437: UndefinedMetricWarning: F-score is ill-defined and being set to 0.0 due to no predicted samples.\n",
            "  'precision', 'predicted', average, warn_for)\n",
            "/opt/conda/lib/python3.7/site-packages/sklearn/metrics/classification.py:1437: UndefinedMetricWarning: F-score is ill-defined and being set to 0.0 due to no predicted samples.\n",
            "  'precision', 'predicted', average, warn_for)\n",
            "/opt/conda/lib/python3.7/site-packages/sklearn/metrics/classification.py:1437: UndefinedMetricWarning: F-score is ill-defined and being set to 0.0 due to no predicted samples.\n",
            "  'precision', 'predicted', average, warn_for)\n"
          ],
          "name": "stderr"
        },
        {
          "output_type": "stream",
          "text": [
            "F1 лучшей модели случайного леса: 0.5417322834645668 Количество деревьев: 40 Максимальная глубина: 10\n"
          ],
          "name": "stdout"
        }
      ]
    },
    {
      "cell_type": "code",
      "metadata": {
        "id": "Hw3dzTlGbaUV"
      },
      "source": [
        "probabilities_valid_ran_forest = model_ran_forest.predict_proba(features_valid)\n",
        "probabilities_one_valid_ran_forest = probabilities_valid_ran_forest[:, 1]"
      ],
      "execution_count": null,
      "outputs": []
    },
    {
      "cell_type": "code",
      "metadata": {
        "id": "u5kEgVwpbaUW"
      },
      "source": [
        "fpr, tpr, thresholds = roc_curve(target_valid, probabilities_one_valid_ran_forest)"
      ],
      "execution_count": null,
      "outputs": []
    },
    {
      "cell_type": "code",
      "metadata": {
        "id": "xzR9GfzPbaUW",
        "outputId": "1bfbc4dc-f457-4337-f390-2dc4f8ca51c4"
      },
      "source": [
        "plt.figure()\n",
        "\n",
        "plt.figure()\n",
        "plt.plot(fpr, tpr)\n",
        "\n",
        "plt.plot([0, 1], [0, 1], linestyle='--')\n",
        "\n",
        "plt.ylim([0.0, 1.0])\n",
        "plt.xlim([0.0, 1.0])"
      ],
      "execution_count": null,
      "outputs": [
        {
          "output_type": "execute_result",
          "data": {
            "text/plain": [
              "(0.0, 1.0)"
            ]
          },
          "metadata": {
            "tags": []
          },
          "execution_count": 33
        },
        {
          "output_type": "display_data",
          "data": {
            "text/plain": [
              "<Figure size 432x288 with 0 Axes>"
            ]
          },
          "metadata": {
            "tags": []
          }
        },
        {
          "output_type": "display_data",
          "data": {
            "image/png": "[encoded data removed]",
            "text/plain": [
              "<Figure size 432x288 with 1 Axes>"
            ]
          },
          "metadata": {
            "tags": [],
            "needs_background": "light"
          }
        }
      ]
    },
    {
      "cell_type": "code",
      "metadata": {
        "id": "kAakw65sbaUW",
        "outputId": "03902cb3-d14d-47d2-ec3c-2a56b8357270"
      },
      "source": [
        "auc_roc = roc_auc_score(target_valid, probabilities_one_valid_ran_forest)\n",
        "auc_roc"
      ],
      "execution_count": null,
      "outputs": [
        {
          "output_type": "execute_result",
          "data": {
            "text/plain": [
              "0.8586768586768586"
            ]
          },
          "metadata": {
            "tags": []
          },
          "execution_count": 34
        }
      ]
    },
    {
      "cell_type": "markdown",
      "metadata": {
        "id": "W3lEOPfmbaUW"
      },
      "source": [
        "Посмотрим матрицу ошибок. Как оказалось данные очень несбалансированы, но ошибок уже меньше"
      ]
    },
    {
      "cell_type": "code",
      "metadata": {
        "id": "ii3pVPTPbaUX",
        "outputId": "7a0a4ee2-bbad-436e-eb18-74a4e3cd7cef"
      },
      "source": [
        "confusion_matrix(target_valid, predictions_valid_ran_forest)"
      ],
      "execution_count": null,
      "outputs": [
        {
          "output_type": "execute_result",
          "data": {
            "text/plain": [
              "array([[1538,   55],\n",
              "       [ 237,  170]])"
            ]
          },
          "metadata": {
            "tags": []
          },
          "execution_count": 35
        }
      ]
    },
    {
      "cell_type": "markdown",
      "metadata": {
        "id": "5YwUl8S9baUX"
      },
      "source": [
        "Модель случайного леса показывает лучшие результаты метрики F1, но этого все-равно недостаточно. Значение метрики Auc_roc тоже далеко от идеала"
      ]
    },
    {
      "cell_type": "markdown",
      "metadata": {
        "id": "7c8Z0DWQbaUX"
      },
      "source": [
        "На очереди модель логистической регрессии\n"
      ]
    },
    {
      "cell_type": "code",
      "metadata": {
        "id": "o_VfCy6wbaUX"
      },
      "source": [
        "model_log_reg = LogisticRegression(solver='liblinear', random_state=12345)\n",
        "model_log_reg.fit(features_train, target_train)\n",
        "predicted_valid_log_reg = model_log_reg.predict(features_valid)"
      ],
      "execution_count": null,
      "outputs": []
    },
    {
      "cell_type": "code",
      "metadata": {
        "id": "OMxWYPJ8baUX",
        "outputId": "98936467-a828-44e8-acc9-de97064315a6"
      },
      "source": [
        "f1_score(target_valid, predicted_valid_log_reg)"
      ],
      "execution_count": null,
      "outputs": [
        {
          "output_type": "execute_result",
          "data": {
            "text/plain": [
              "0.06208425720620843"
            ]
          },
          "metadata": {
            "tags": []
          },
          "execution_count": 37
        }
      ]
    },
    {
      "cell_type": "markdown",
      "metadata": {
        "id": "7xFL8S0VbaUY"
      },
      "source": [
        "Модель логистической регрессии показывает очень странное значение"
      ]
    },
    {
      "cell_type": "markdown",
      "metadata": {
        "id": "o5qK53I_baUY"
      },
      "source": [
        "Посмотрим матрицу ошибок. Ошибок второго рода стало гораздо больше, а FP и TP  ответы совсем пропали"
      ]
    },
    {
      "cell_type": "code",
      "metadata": {
        "id": "jd6QKXG1baUY",
        "outputId": "899060cc-d905-43bd-fa1f-12682853f28b"
      },
      "source": [
        "confusion_matrix(target_valid, predicted_valid_log_reg)"
      ],
      "execution_count": null,
      "outputs": [
        {
          "output_type": "execute_result",
          "data": {
            "text/plain": [
              "array([[1563,   30],\n",
              "       [ 393,   14]])"
            ]
          },
          "metadata": {
            "tags": []
          },
          "execution_count": 38
        }
      ]
    },
    {
      "cell_type": "markdown",
      "metadata": {
        "id": "rfkU1KpDbaUY"
      },
      "source": [
        "### Вывод"
      ]
    },
    {
      "cell_type": "markdown",
      "metadata": {
        "id": "ri_3gghGbaUY"
      },
      "source": [
        "Все модели показывают плохие значения при несбалансированных классах. Значение метрики auc-roc для лучшей из моделей достаточно высоко"
      ]
    },
    {
      "cell_type": "markdown",
      "metadata": {
        "id": "a72nmgavbaUZ"
      },
      "source": [
        "## Борьба с дисбалансом"
      ]
    },
    {
      "cell_type": "markdown",
      "metadata": {
        "id": "gLGmxl4abaUZ"
      },
      "source": [
        "Попробуем сбалансировать классы"
      ]
    },
    {
      "cell_type": "code",
      "metadata": {
        "id": "qE66aRt_baUZ"
      },
      "source": [
        "model = DecisionTreeClassifier(random_state=12345, class_weight='balanced')\n",
        "model.fit(features_train, target_train)\n",
        "predictions_valid = model.predict(features_valid)"
      ],
      "execution_count": null,
      "outputs": []
    },
    {
      "cell_type": "code",
      "metadata": {
        "id": "Qqb0X6cObaUZ",
        "outputId": "b5006d9f-9d3e-4335-e0a4-f4983398a2f4"
      },
      "source": [
        "f1_score(target_valid, predictions_valid)"
      ],
      "execution_count": null,
      "outputs": [
        {
          "output_type": "execute_result",
          "data": {
            "text/plain": [
              "0.4681933842239186"
            ]
          },
          "metadata": {
            "tags": []
          },
          "execution_count": 40
        }
      ]
    },
    {
      "cell_type": "markdown",
      "metadata": {
        "id": "-JDzpbJ1baUa"
      },
      "source": [
        "Балансировка классов не дала нужного результата, поэтому попробуем увеличить долю положительных ответов в тренировочной выборке"
      ]
    },
    {
      "cell_type": "code",
      "metadata": {
        "id": "Aka_Y_tibaUa"
      },
      "source": [
        "def upsample(features, target, repeat):\n",
        "    features_zeros = features[target == 0]\n",
        "    features_ones = features[target == 1]\n",
        "    target_zeros = target[target == 0]\n",
        "    target_ones = target[target == 1]\n",
        "    \n",
        "    features_upsampled = pd.concat([features_zeros] + [features_ones] * repeat)\n",
        "    target_upsampled = pd.concat([target_zeros] + [target_ones] * repeat)\n",
        "    \n",
        "    features_upsampled, target_upsampled = shuffle(\n",
        "        features_upsampled, target_upsampled, random_state=12345)\n",
        "    \n",
        "    return features_upsampled, target_upsampled"
      ],
      "execution_count": null,
      "outputs": []
    },
    {
      "cell_type": "code",
      "metadata": {
        "id": "5YyS82gZbaUa"
      },
      "source": [
        "features_upsampled, target_upsampled = upsample(features_train, target_train, 4)"
      ],
      "execution_count": null,
      "outputs": []
    },
    {
      "cell_type": "code",
      "metadata": {
        "id": "nLLRjRbubaUa",
        "outputId": "e0b4772a-adf1-4a2b-8f09-67d9abeee172"
      },
      "source": [
        "best_result_des_tree = 0\n",
        "for depth in range(1, 6):\n",
        "    model_upsample_dt = DecisionTreeClassifier(random_state=12345, max_depth=depth, min_samples_split=2)\n",
        "    model_upsample_dt.fit(features_upsampled, target_upsampled)\n",
        "    predictions_valid_upsample_dt = model_upsample_dt.predict(features_valid)\n",
        "    result_des_tree = f1_score(target_valid, predictions_valid_upsample_dt)\n",
        "    if result_des_tree > best_result_des_tree:\n",
        "        best_result_des_tree = result_des_tree\n",
        "        best_depth = depth\n",
        "        \n",
        "print(\"f1 лучшей модели случайного леса:\", best_result_des_tree, \"Глубина дерева:\", best_depth)"
      ],
      "execution_count": null,
      "outputs": [
        {
          "output_type": "stream",
          "text": [
            "f1 лучшей модели случайного леса: 0.5403949730700179 Глубина дерева: 4\n"
          ],
          "name": "stdout"
        }
      ]
    },
    {
      "cell_type": "code",
      "metadata": {
        "id": "3e7Oqr9sbaUa"
      },
      "source": [
        "model_upsample_dt = DecisionTreeClassifier(random_state=12345)\n",
        "model_upsample_dt.fit(features_upsampled, target_upsampled)\n",
        "predicted_valid_upsample_dt = model_upsample_dt.predict(features_valid)"
      ],
      "execution_count": null,
      "outputs": []
    },
    {
      "cell_type": "code",
      "metadata": {
        "id": "kTnXWpxEbaUb",
        "outputId": "51b49fae-cb6d-4d2f-8e33-ff5d03d2bc64"
      },
      "source": [
        "f1_score(target_valid, predicted_valid_upsample_dt)"
      ],
      "execution_count": null,
      "outputs": [
        {
          "output_type": "execute_result",
          "data": {
            "text/plain": [
              "0.48284625158831"
            ]
          },
          "metadata": {
            "tags": []
          },
          "execution_count": 45
        }
      ]
    },
    {
      "cell_type": "markdown",
      "metadata": {
        "id": "kubfivaAbaUb"
      },
      "source": [
        "Модель дерева решений плохо предсказывает даже при сбалансированных классах. Попробуем модель логистической регрессии со сбалансированной тренировочной выборкой"
      ]
    },
    {
      "cell_type": "code",
      "metadata": {
        "id": "B4SWmnrfbaUb"
      },
      "source": [
        "model_upsample_lg = LogisticRegression(solver='liblinear', random_state=12345)\n",
        "model_upsample_lg.fit(features_upsampled, target_upsampled)\n",
        "predicted_valid_upsample_lg = model_upsample_lg.predict(features_valid)"
      ],
      "execution_count": null,
      "outputs": []
    },
    {
      "cell_type": "code",
      "metadata": {
        "id": "ehsGTIEGbaUb",
        "outputId": "e3c5b45d-379c-4069-e783-d93fbce444e2"
      },
      "source": [
        "f1_score(target_valid, predicted_valid_upsample_lg)"
      ],
      "execution_count": null,
      "outputs": [
        {
          "output_type": "execute_result",
          "data": {
            "text/plain": [
              "0.4447974583002383"
            ]
          },
          "metadata": {
            "tags": []
          },
          "execution_count": 47
        }
      ]
    },
    {
      "cell_type": "markdown",
      "metadata": {
        "id": "3q9CdC2TbaUc"
      },
      "source": [
        "На очереди модель случайного леса:"
      ]
    },
    {
      "cell_type": "code",
      "metadata": {
        "id": "hv-7nFitbaUc",
        "outputId": "b902bf0f-ce5e-47cf-d8ce-4b03d7aeabb6"
      },
      "source": [
        "best_result_ran_forest = 0\n",
        "best_est = 0\n",
        "best_depth = 0\n",
        "for est in range(10, 51, 10):\n",
        "    for depth in range (1, 11):\n",
        "        model_upsample_ran_forest = RandomForestClassifier(random_state=12345, n_estimators=est, max_depth=depth)\n",
        "        model_upsample_ran_forest.fit(features_upsampled, target_upsampled)\n",
        "        predictions_valid_ran_forest = model_upsample_ran_forest.predict(features_valid)\n",
        "        result_ran_forest = f1_score(target_valid, predictions_valid_ran_forest)\n",
        "        if result_ran_forest > best_result_ran_forest:\n",
        "            best_result_ran_forest = result_ran_forest\n",
        "            best_est = est\n",
        "            best_depth = depth\n",
        "\n",
        "print(\"f1 лучшей модели случайного леса:\", best_result_ran_forest, \"Количество деревьев:\", best_est, \"Максимальная глубина:\", best_depth)"
      ],
      "execution_count": null,
      "outputs": [
        {
          "output_type": "stream",
          "text": [
            "f1 лучшей модели случайного леса: 0.6152173913043478 Количество деревьев: 40 Максимальная глубина: 9\n"
          ],
          "name": "stdout"
        }
      ]
    },
    {
      "cell_type": "markdown",
      "metadata": {
        "id": "dAi-vo8WbaUc"
      },
      "source": [
        "Посмотрим матрицу ошибок. Ошибок стало больше по сравнению с моделью случайного леса несбалансированных классов, но значение метрики f1 улучшилось"
      ]
    },
    {
      "cell_type": "code",
      "metadata": {
        "id": "dxKzBf-3baUc",
        "outputId": "9aa41d57-e1a3-492b-b217-259512fa9630"
      },
      "source": [
        "confusion_matrix(target_valid, predictions_valid_ran_forest)"
      ],
      "execution_count": null,
      "outputs": [
        {
          "output_type": "execute_result",
          "data": {
            "text/plain": [
              "array([[1362,  231],\n",
              "       [ 129,  278]])"
            ]
          },
          "metadata": {
            "tags": []
          },
          "execution_count": 49
        }
      ]
    },
    {
      "cell_type": "markdown",
      "metadata": {
        "id": "esV-wsQRbaUd"
      },
      "source": [
        "Получили значение F1 выше требуемых 0.59. Попробуем модель на тестовой выборке"
      ]
    },
    {
      "cell_type": "markdown",
      "metadata": {
        "id": "Uz-qkGMdbaUe"
      },
      "source": [
        "### Вывод"
      ]
    },
    {
      "cell_type": "markdown",
      "metadata": {
        "id": "3Ta3zsxrbaUf"
      },
      "source": [
        "Обучили модель, нашли лучшую, улучшили ее изменением гиперпараметров"
      ]
    },
    {
      "cell_type": "markdown",
      "metadata": {
        "id": "ZpYdDwK-baUf"
      },
      "source": [
        "## Тестирование модели"
      ]
    },
    {
      "cell_type": "code",
      "metadata": {
        "id": "lSB8I5iDbaUf"
      },
      "source": [
        "predictions_test = model_upsample_ran_forest.predict(features_test)"
      ],
      "execution_count": null,
      "outputs": []
    },
    {
      "cell_type": "code",
      "metadata": {
        "id": "YTQB-kmgbaUf",
        "outputId": "2fe2a39b-5aba-44dc-f811-0a152f77f4f9"
      },
      "source": [
        "f1_score(target_test, predictions_test)"
      ],
      "execution_count": null,
      "outputs": [
        {
          "output_type": "execute_result",
          "data": {
            "text/plain": [
              "0.6435536294691224"
            ]
          },
          "metadata": {
            "tags": []
          },
          "execution_count": 51
        }
      ]
    },
    {
      "cell_type": "code",
      "metadata": {
        "id": "b_IUZhHLbaUg"
      },
      "source": [
        "probabilities_valid = model_upsample_ran_forest.predict_proba(features_test)\n",
        "probabilities_one_valid = probabilities_valid[:, 1]\n",
        "\n",
        "auc_roc = roc_auc_score(target_test, probabilities_one_valid)"
      ],
      "execution_count": null,
      "outputs": []
    },
    {
      "cell_type": "code",
      "metadata": {
        "id": "s2OVDInJbaUg"
      },
      "source": [
        "fpr, tpr, thresholds = roc_curve(target_test, probabilities_one_valid)"
      ],
      "execution_count": null,
      "outputs": []
    },
    {
      "cell_type": "code",
      "metadata": {
        "id": "HJcClk3ubaUg",
        "outputId": "b5aa312c-213b-4bad-c489-352a9be178ef"
      },
      "source": [
        "plt.figure()\n",
        "\n",
        "plt.figure()\n",
        "plt.plot(fpr, tpr)\n",
        "\n",
        "plt.plot([0, 1], [0, 1], linestyle='--')\n",
        "\n",
        "plt.ylim([0.0, 1.0])\n",
        "plt.xlim([0.0, 1.0])"
      ],
      "execution_count": null,
      "outputs": [
        {
          "output_type": "execute_result",
          "data": {
            "text/plain": [
              "(0.0, 1.0)"
            ]
          },
          "metadata": {
            "tags": []
          },
          "execution_count": 54
        },
        {
          "output_type": "display_data",
          "data": {
            "text/plain": [
              "<Figure size 432x288 with 0 Axes>"
            ]
          },
          "metadata": {
            "tags": []
          }
        },
        {
          "output_type": "display_data",
          "data": {
            "image/png": "[encoded data removed]",
            "text/plain": [
              "<Figure size 432x288 with 1 Axes>"
            ]
          },
          "metadata": {
            "tags": [],
            "needs_background": "light"
          }
        }
      ]
    },
    {
      "cell_type": "code",
      "metadata": {
        "id": "x91o30aBbaUg",
        "outputId": "b8663839-c1d7-491c-e07b-9f8f051da17d"
      },
      "source": [
        "auc_roc"
      ],
      "execution_count": null,
      "outputs": [
        {
          "output_type": "execute_result",
          "data": {
            "text/plain": [
              "0.8669065302000197"
            ]
          },
          "metadata": {
            "tags": []
          },
          "execution_count": 55
        }
      ]
    },
    {
      "cell_type": "code",
      "metadata": {
        "id": "0SdM14JWbaUh",
        "outputId": "3f4ccec9-496e-480b-8874-ab750d2db1a0"
      },
      "source": [
        "confusion_matrix(target_test, predictions_test)"
      ],
      "execution_count": null,
      "outputs": [
        {
          "output_type": "execute_result",
          "data": {
            "text/plain": [
              "array([[1374,  218],\n",
              "       [ 111,  297]])"
            ]
          },
          "metadata": {
            "tags": []
          },
          "execution_count": 56
        }
      ]
    },
    {
      "cell_type": "markdown",
      "metadata": {
        "id": "EZwDiAeabaUh"
      },
      "source": [
        "### Вывод"
      ]
    },
    {
      "cell_type": "markdown",
      "metadata": {
        "id": "obeYwvNhbaUh"
      },
      "source": [
        "Получили значение F1 равное 0.61 и значение auc-roc равное 0.97. Задание выполнено, даже без изменения порогов"
      ]
    },
    {
      "cell_type": "code",
      "metadata": {
        "id": "aI3NXxUrbaUi"
      },
      "source": [
        ""
      ],
      "execution_count": null,
      "outputs": []
    }
  ]
}